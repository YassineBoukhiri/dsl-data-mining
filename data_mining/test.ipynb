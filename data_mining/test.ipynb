{
 "cells": [
  {
   "cell_type": "markdown",
   "id": "87e4d28a",
   "metadata": {},
   "source": [
    "# My first automatic Jupyter Notebook : MyApp\n",
    "This is an auto-generated notebook."
   ]
  },
  {
   "cell_type": "markdown",
   "id": "1dab4a63",
   "metadata": {},
   "source": [
    "## Selection of data\n",
    "classes selected: \n",
    "[class : 0 number of elements : 100, class : 1 number of elements : 200]"
   ]
  },
  {
   "cell_type": "code",
   "execution_count": 86,
   "id": "963d9323",
   "metadata": {},
   "outputs": [],
   "source": [
    "import os\n",
    "import numpy as np\n",
    "from PIL import Image"
   ]
  },
  {
   "cell_type": "code",
   "execution_count": 104,
   "id": "9cfb4136",
   "metadata": {},
   "outputs": [
    {
     "name": "stdout",
     "output_type": "stream",
     "text": [
      "(4000, 28, 28)\n",
      "(4000,)\n"
     ]
    }
   ],
   "source": [
    "X = []\n",
    "Y = []\n",
    "classes = ['0', '1']\n",
    "classes_count = {'0': 2000, '1': 2000}\n",
    "for class_ in classes:\n",
    "\tcount = 0\n",
    "\tfor file in os.listdir(f'../input_data/' + class_):\n",
    "\t\tif count == classes_count[class_]:\n",
    "\t\t\tbreak\n",
    "\t\tX.append(np.array(Image.open(f'../input_data/' + class_ + '/' + file)))\n",
    "\t\tY.append(class_)\n",
    "\t\tcount += 1\n",
    "X = np.array(X)\n",
    "Y = np.array(Y)\n",
    "print(X.shape)\n",
    "print(Y.shape)"
   ]
  },
  {
   "cell_type": "code",
   "execution_count": 105,
   "id": "68ab7841",
   "metadata": {},
   "outputs": [],
   "source": [
    "from sklearn.model_selection import train_test_split\n",
    "X_train, X_test, Y_train, Y_test = train_test_split(X, Y, test_size=0.2)"
   ]
  },
  {
   "cell_type": "markdown",
   "id": "44315ab2",
   "metadata": {},
   "source": [
    "## Preprocessing of data"
   ]
  },
  {
   "cell_type": "code",
   "execution_count": 106,
   "id": "6c41bfb4",
   "metadata": {},
   "outputs": [],
   "source": [
    "from sklearn.preprocessing import LabelEncoder\n",
    "le = LabelEncoder()\n",
    "Y_train = le.fit_transform(Y_train)\n",
    "Y_test = le.fit_transform(Y_test)"
   ]
  },
  {
   "cell_type": "markdown",
   "id": "a12e7fe0",
   "metadata": {},
   "source": [
    "## Transformation of data"
   ]
  },
  {
   "cell_type": "markdown",
   "id": "be7d9d7a",
   "metadata": {},
   "source": [
    "### Flattening of data"
   ]
  },
  {
   "cell_type": "code",
   "execution_count": 107,
   "id": "8f3b488b",
   "metadata": {},
   "outputs": [
    {
     "name": "stdout",
     "output_type": "stream",
     "text": [
      "(3200, 784)\n",
      "(800, 784)\n"
     ]
    }
   ],
   "source": [
    "X_train = X_train.reshape(X_train.shape[0], -1)\n",
    "X_test = X_test.reshape(X_test.shape[0], -1)\n",
    "print(X_train.shape)\n",
    "print(X_test.shape)"
   ]
  },
  {
   "cell_type": "markdown",
   "id": "87877aa2",
   "metadata": {},
   "source": [
    "### Normalization of data"
   ]
  },
  {
   "cell_type": "code",
   "execution_count": 108,
   "id": "309c8035",
   "metadata": {},
   "outputs": [
    {
     "name": "stdout",
     "output_type": "stream",
     "text": [
      "(3200, 784)\n",
      "(800, 784)\n"
     ]
    }
   ],
   "source": [
    "# Making sure that the values are float so that we can get decimal points after division\n",
    "X_train = X_train.astype('float32')\n",
    "X_test = X_test.astype('float32')\n",
    "# Normalizing the RGB codes by dividing it to the max RGB value.\n",
    "X_train = X_train / 255\n",
    "X_test = X_test / 255\n",
    "print(X_train.shape)\n",
    "print(X_test.shape)"
   ]
  },
  {
   "cell_type": "markdown",
   "id": "22a3161f",
   "metadata": {},
   "source": [
    "## Data Mining"
   ]
  },
  {
   "cell_type": "code",
   "execution_count": 109,
   "id": "25917379",
   "metadata": {},
   "outputs": [],
   "source": [
    "from tensorflow.keras.models import Sequential\n",
    "from tensorflow.keras.layers import Dense"
   ]
  },
  {
   "cell_type": "markdown",
   "id": "a87f350b",
   "metadata": {},
   "source": [
    "### Classifier : Classifier"
   ]
  },
  {
   "cell_type": "markdown",
   "id": "b8507ede",
   "metadata": {},
   "source": [
    "Creating the model"
   ]
  },
  {
   "cell_type": "code",
   "execution_count": 110,
   "id": "7dc0cb1f",
   "metadata": {},
   "outputs": [
    {
     "name": "stdout",
     "output_type": "stream",
     "text": [
      "Model: \"sequential_16\"\n",
      "_________________________________________________________________\n",
      " Layer (type)                Output Shape              Param #   \n",
      "=================================================================\n",
      " dense_28 (Dense)            (None, 512)               401920    \n",
      "                                                                 \n",
      " dense_29 (Dense)            (None, 2)                 1026      \n",
      "                                                                 \n",
      "=================================================================\n",
      "Total params: 402,946\n",
      "Trainable params: 402,946\n",
      "Non-trainable params: 0\n",
      "_________________________________________________________________\n"
     ]
    }
   ],
   "source": [
    "model = Sequential()\n",
    "model.add(Dense(512, activation=\"relu\", input_shape=(X_train.shape[1],)))\n",
    "model.add(Dense(2, activation=\"softmax\"))\n",
    "model.compile(optimizer=\"adam\", loss=\"sparse_categorical_crossentropy\", metrics=[\"accuracy\"])\n",
    "model.summary()"
   ]
  },
  {
   "cell_type": "markdown",
   "id": "11fd172b",
   "metadata": {},
   "source": [
    "Training and evaluating the model"
   ]
  },
  {
   "cell_type": "code",
   "execution_count": 111,
   "id": "f298b1fd",
   "metadata": {},
   "outputs": [
    {
     "name": "stdout",
     "output_type": "stream",
     "text": [
      "100/100 [==============================] - 3s 14ms/step - loss: 0.0291 - accuracy: 0.9875\n",
      "25/25 [==============================] - 1s 9ms/step - loss: 0.0033 - accuracy: 0.9975\n",
      "Accuracy :  0.9975000023841858\n"
     ]
    }
   ],
   "source": [
    "model_history = model.fit(X_train, Y_train)\n",
    "score = model.evaluate(X_test, Y_test)\n",
    "print(\"Accuracy : \", score[1])\n"
   ]
  },
  {
   "cell_type": "code",
   "execution_count": 112,
   "id": "e31d14f5",
   "metadata": {},
   "outputs": [
    {
     "name": "stdout",
     "output_type": "stream",
     "text": [
      "dict_keys(['loss', 'accuracy'])\n"
     ]
    },
    {
     "data": {
      "image/png": "[encoded data removed]",
      "text/plain": [
       "<Figure size 640x480 with 1 Axes>"
      ]
     },
     "metadata": {},
     "output_type": "display_data"
    }
   ],
   "source": [
    "import matplotlib.pyplot as plt\n",
    "print(model_history.history.keys())\n",
    "plt.plot(model_history.history['loss'])\n",
    "plt.plot(model_history.history['accuracy'])\n",
    "plt.title('model accuracy')\n",
    "plt.ylabel('accuracy')\n",
    "plt.xlabel('epoch')\n",
    "plt.legend(['train', 'val'], loc='upper left')\n",
    "plt.show()"
   ]
  }
 ],
 "metadata": {
  "language_info": {
   "name": "python"
  }
 },
 "nbformat": 4,
 "nbformat_minor": 5
}
