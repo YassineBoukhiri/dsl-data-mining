{
 "cells": [
  {
   "cell_type": "markdown",
   "id": "b99d6230",
   "metadata": {},
   "source": [
    "# Automatic Jupyter Notebook : MyApp\n",
    "This is an auto-generated notebook generated using the classifAI DSL on : 22/01/2023 17:42:03"
   ]
  },
  {
   "cell_type": "markdown",
   "id": "03bc4f2d",
   "metadata": {},
   "source": [
    "## Selection of data"
   ]
  },
  {
   "cell_type": "code",
   "execution_count": null,
   "id": "6c03b93b",
   "metadata": {},
   "outputs": [],
   "source": [
    "import os\n",
    "import numpy as np\n",
    "from PIL import Image"
   ]
  },
  {
   "cell_type": "code",
   "execution_count": null,
   "id": "648df449",
   "metadata": {},
   "outputs": [],
   "source": [
    "X = []\n",
    "Y = []\n",
    "classes = ['0', '1', '2', '3']\n",
    "classes_count = {'0': 1000, '1': 1000, '2': 1000, '3': 1000}\n",
    "for class_ in classes:\n",
    "\tcount = 0\n",
    "\tfor file in os.listdir(f'input_data/' + class_):\n",
    "\t\tif count == classes_count[class_]:\n",
    "\t\t\tbreak\n",
    "\t\tX.append(np.array(Image.open(f'input_data/' + class_ + '/' + file)))\n",
    "\t\tY.append(class_)\n",
    "\t\tcount += 1\n",
    "X=np.array(X)\n",
    "Y=np.array(Y)\n",
    "print(\"X shape :\",X.shape)\n",
    "print(\"Y shape :\",Y.shape)"
   ]
  },
  {
   "cell_type": "code",
   "execution_count": null,
   "id": "583066a2",
   "metadata": {},
   "outputs": [],
   "source": [
    "from sklearn.model_selection import train_test_split\n",
    "X_train, X_test, Y_train, Y_test = train_test_split(X, Y, test_size=0.2)"
   ]
  },
  {
   "cell_type": "markdown",
   "id": "d21072e6",
   "metadata": {},
   "source": [
    "## Preprocessing of data"
   ]
  },
  {
   "cell_type": "code",
   "execution_count": null,
   "id": "88652d57",
   "metadata": {},
   "outputs": [],
   "source": [
    "from sklearn.preprocessing import LabelEncoder\n",
    "le = LabelEncoder()\n",
    "Y_train = le.fit_transform(Y_train)\n",
    "Y_test = le.fit_transform(Y_test)"
   ]
  },
  {
   "cell_type": "markdown",
   "id": "a9904509",
   "metadata": {},
   "source": [
    "## Transformation of data"
   ]
  },
  {
   "cell_type": "markdown",
   "id": "a5efddd5",
   "metadata": {},
   "source": [
    "### Normalization of data"
   ]
  },
  {
   "cell_type": "code",
   "execution_count": null,
   "id": "141275e2",
   "metadata": {},
   "outputs": [],
   "source": [
    "# Making sure that the values are float so that we can get decimal points after division\n",
    "X_train = X_train.astype('float32')\n",
    "X_test = X_test.astype('float32')\n",
    "# Normalizing the RGB codes by dividing it to the max RGB value.\n",
    "X_train = X_train / 255\n",
    "X_test = X_test / 255\n",
    "print(\"X train shape :\",X_train.shape)\n",
    "print(\"X test shape :\",X_test.shape)"
   ]
  },
  {
   "cell_type": "markdown",
   "id": "407b2cae",
   "metadata": {},
   "source": [
    "### Reshaping of data"
   ]
  },
  {
   "cell_type": "code",
   "execution_count": null,
   "id": "813c8082",
   "metadata": {},
   "outputs": [],
   "source": [
    "X_train = X_train.reshape(X_train.shape[0], X_train.shape[1], X_train.shape[2], 1)\n",
    "X_test = X_test.reshape(X_test.shape[0], X_test.shape[1], X_test.shape[2], 1)\n",
    "print(\"X train shape :\",X_train.shape)\n",
    "print(\"X train shape :\",X_test.shape)"
   ]
  },
  {
   "cell_type": "markdown",
   "id": "fa70e3e8",
   "metadata": {},
   "source": [
    "## Data Mining"
   ]
  },
  {
   "cell_type": "code",
   "execution_count": null,
   "id": "dfebc507",
   "metadata": {},
   "outputs": [],
   "source": [
    "from tensorflow.keras.models import Sequential\n",
    "from tensorflow.keras.layers import Dense\n",
    "from tensorflow.keras.layers import Conv2D\n",
    "from tensorflow.keras.layers import MaxPooling2D\n",
    "from tensorflow.keras.layers import Flatten"
   ]
  },
  {
   "cell_type": "markdown",
   "id": "e2962305",
   "metadata": {},
   "source": [
    "### Keeping track of the models and the metrics"
   ]
  },
  {
   "cell_type": "code",
   "execution_count": null,
   "id": "53d15da6",
   "metadata": {},
   "outputs": [],
   "source": [
    "models_metrics = dict()"
   ]
  },
  {
   "cell_type": "markdown",
   "id": "4984f037",
   "metadata": {},
   "source": [
    "### Classifier : rank 1 - number 1"
   ]
  },
  {
   "cell_type": "markdown",
   "id": "63607c2b",
   "metadata": {},
   "source": [
    "Reshaping the data of this classifier"
   ]
  },
  {
   "cell_type": "code",
   "execution_count": null,
   "id": "53be0d82",
   "metadata": {},
   "outputs": [],
   "source": [
    "X_train_save = X_train\n",
    "X_test_save = X_test\n",
    "X_train = X_train.reshape(X_train.shape[0], X_train.shape[1], X_train.shape[2], 1)\n",
    "X_test = X_test.reshape(X_test.shape[0], X_test.shape[1], X_test.shape[2], 1)\n",
    "print(\"X train shape :\",X_train.shape)\n",
    "print(\"X test shape :\",X_test.shape)"
   ]
  },
  {
   "cell_type": "markdown",
   "id": "dd2ade1d",
   "metadata": {},
   "source": [
    "Creating the model"
   ]
  },
  {
   "cell_type": "code",
   "execution_count": null,
   "id": "bef8b45d",
   "metadata": {},
   "outputs": [],
   "source": [
    "model = Sequential()\n",
    "model.add(Conv2D(32, kernel_size=(3, 3), activation=\"relu\", input_shape=X_train.shape[1:]))\n",
    "model.add(MaxPooling2D((2, 2)))\n",
    "model.add(Conv2D(48, kernel_size=(3, 3), activation=\"relu\"))\n",
    "model.add(MaxPooling2D((2, 2)))\n",
    "model.add(Flatten())\n",
    "model.add(Dense(128, activation=\"relu\"))\n",
    "model.add(Dense(4, activation=\"relu\"))\n",
    "model.compile(optimizer=\"adam\", loss=\"sparse_categorical_crossentropy\", metrics=[\"accuracy\"])\n",
    "model.summary()"
   ]
  },
  {
   "cell_type": "markdown",
   "id": "04635dbb",
   "metadata": {},
   "source": [
    "Training and evaluating the model"
   ]
  },
  {
   "cell_type": "code",
   "execution_count": null,
   "id": "34e7b678",
   "metadata": {},
   "outputs": [],
   "source": [
    "history = model.fit(X_train, Y_train, epochs=10, batch_size=32)\n",
    "score = model.evaluate(X_test, Y_test)\n",
    "print(\"Loss : \", score[0])\n",
    "print(\"Accuracy : \", score[1])\n",
    "models_metrics[\"1-1\"] = [history, score, model]\n",
    "X_train = X_train_save\n",
    "X_test = X_test_save"
   ]
  },
  {
   "cell_type": "markdown",
   "id": "439c1fcb",
   "metadata": {},
   "source": [
    "### Classifier : rank 2 - number 1"
   ]
  },
  {
   "cell_type": "markdown",
   "id": "ec136a0f",
   "metadata": {},
   "source": [
    "Flattening the data of this classifier"
   ]
  },
  {
   "cell_type": "code",
   "execution_count": null,
   "id": "bb55afe1",
   "metadata": {},
   "outputs": [],
   "source": [
    "X_train_save = X_train\n",
    "X_test_save = X_test\n",
    "X_train = X_train.reshape(X_train.shape[0], -1)\n",
    "X_test = X_test.reshape(X_test.shape[0], -1)\n",
    "print(\"X train shape :\",X_train.shape)\n",
    "print(\"X test shape :\",X_test.shape)"
   ]
  },
  {
   "cell_type": "markdown",
   "id": "2152e9a3",
   "metadata": {},
   "source": [
    "Creating the model"
   ]
  },
  {
   "cell_type": "code",
   "execution_count": null,
   "id": "29d407db",
   "metadata": {},
   "outputs": [],
   "source": [
    "model = Sequential()\n",
    "model.add(Dense(128, activation=\"relu\", input_shape=(X_train.shape[1],)))\n",
    "model.add(Dense(4, activation=\"relu\"))\n",
    "model.compile(optimizer=\"adam\", loss=\"sparse_categorical_crossentropy\", metrics=[\"accuracy\"])\n",
    "model.summary()"
   ]
  },
  {
   "cell_type": "markdown",
   "id": "74253a98",
   "metadata": {},
   "source": [
    "Training and evaluating the model"
   ]
  },
  {
   "cell_type": "code",
   "execution_count": null,
   "id": "40ec3c7c",
   "metadata": {},
   "outputs": [],
   "source": [
    "history = model.fit(X_train, Y_train, epochs=10, batch_size=32)\n",
    "score = model.evaluate(X_test, Y_test)\n",
    "print(\"Loss : \", score[0])\n",
    "print(\"Accuracy : \", score[1])\n",
    "models_metrics[\"2-1\"] = [history, score, model]\n",
    "X_train = X_train_save\n",
    "X_test = X_test_save"
   ]
  },
  {
   "cell_type": "markdown",
   "id": "e8257f19",
   "metadata": {},
   "source": [
    "## Comparison of classifiers"
   ]
  },
  {
   "cell_type": "markdown",
   "id": "0d6481ab",
   "metadata": {},
   "source": [
    "### Importing libraries"
   ]
  },
  {
   "cell_type": "code",
   "execution_count": null,
   "id": "b13c5c44",
   "metadata": {},
   "outputs": [],
   "source": [
    "import matplotlib.pyplot as plt"
   ]
  },
  {
   "cell_type": "markdown",
   "id": "8fd388d3",
   "metadata": {},
   "source": [
    "### Plotting the metrics"
   ]
  },
  {
   "cell_type": "markdown",
   "id": "ad48438e",
   "metadata": {},
   "source": [
    "#### Plot of the accuracy"
   ]
  },
  {
   "cell_type": "code",
   "execution_count": null,
   "id": "dea4c346",
   "metadata": {},
   "outputs": [],
   "source": [
    "# Plot accuracy of the classifiers\n",
    "for key, value in models_metrics.items():\n",
    "\thistory = value[0]\n",
    "\tplt.plot(history.history['accuracy'])\n",
    "plt.title('model accuracy')\n",
    "plt.ylabel('accuracy')\n",
    "plt.xlabel('epoch')\n",
    "plt.legend(models_metrics.keys(), loc='upper left')\n",
    "plt.show()"
   ]
  },
  {
   "cell_type": "markdown",
   "id": "9cfc2a94",
   "metadata": {},
   "source": [
    "#### Plot of the loss"
   ]
  },
  {
   "cell_type": "code",
   "execution_count": null,
   "id": "e93c235a",
   "metadata": {},
   "outputs": [],
   "source": [
    "# Plot loss of the classifiers\n",
    "for key, value in models_metrics.items():\n",
    "\thistory = value[0]\n",
    "\tplt.plot(history.history['loss'])\n",
    "plt.title('model loss')\n",
    "plt.ylabel('loss')\n",
    "plt.xlabel('epoch')\n",
    "plt.legend(models_metrics.keys(), loc='upper left')\n",
    "plt.show()"
   ]
  },
  {
   "cell_type": "markdown",
   "id": "805986bb",
   "metadata": {},
   "source": [
    "## Deploying the best model"
   ]
  },
  {
   "cell_type": "markdown",
   "id": "e1e8188f",
   "metadata": {},
   "source": [
    "### Finding the best model according to the accuracy"
   ]
  },
  {
   "cell_type": "code",
   "execution_count": null,
   "id": "a40d415e",
   "metadata": {},
   "outputs": [],
   "source": [
    "best_model = None        \n",
    "best_accuracy = 0        \n",
    "for key, value in models_metrics.items():            \n",
    "\taccuracy = value[1][1]            \n",
    "\tif accuracy > best_accuracy:                \n",
    "\t\tbest_accuracy = accuracy                \n",
    "\t\tbest_model = value[2]        \n",
    "print(f\"Best model accuracy: {best_accuracy}\")"
   ]
  },
  {
   "cell_type": "markdown",
   "id": "78249f1b",
   "metadata": {},
   "source": [
    "### Saving the best model"
   ]
  },
  {
   "cell_type": "code",
   "execution_count": null,
   "id": "7f0d23d3",
   "metadata": {},
   "outputs": [],
   "source": [
    "best_model.save(\"../prediction-app/model/model.h5\")        \n",
    "print(\"The best model has been saved in the directory ../prediction-app/model/model.h5\")"
   ]
  },
  {
   "cell_type": "markdown",
   "id": "bfd97153",
   "metadata": {},
   "source": [
    "### Setting the name of the application"
   ]
  },
  {
   "cell_type": "code",
   "execution_count": null,
   "id": "d0c53cc0",
   "metadata": {},
   "outputs": [],
   "source": [
    "with open(\"../prediction-app/.env\", \"w\") as file:        \n",
    "\tfile.write(\"APP_NAME=\\\"My Prediction App\\\"\")"
   ]
  },
  {
   "cell_type": "markdown",
   "id": "aac362a1",
   "metadata": {},
   "source": [
    "### Instructions for running the application"
   ]
  },
  {
   "cell_type": "markdown",
   "id": "3f173354",
   "metadata": {},
   "source": [
    "1. Open the terminal and go to the directory ../prediction-app"
   ]
  },
  {
   "cell_type": "markdown",
   "id": "72ea53d3",
   "metadata": {},
   "source": [
    "2. Run the command: steamlit run app.py"
   ]
  },
  {
   "cell_type": "markdown",
   "id": "fb1f7470",
   "metadata": {},
   "source": [
    "3. Open the browser and go to the address: http://localhost:8501"
   ]
  }
 ],
 "metadata": {},
 "nbformat": 4,
 "nbformat_minor": 5
}
