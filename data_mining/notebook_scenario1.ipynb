{
 "cells": [
  {
   "cell_type": "markdown",
   "id": "0df18efc",
   "metadata": {},
   "source": [
    "# Automatic Jupyter Notebook : Scenario1\n",
    "This is an auto-generated notebook generated using the classifAI DSL on : 22/01/2023 17:42:30"
   ]
  },
  {
   "cell_type": "markdown",
   "id": "2dcc4e1a",
   "metadata": {},
   "source": [
    "## Selection of data"
   ]
  },
  {
   "cell_type": "code",
   "execution_count": 1,
   "id": "aa654bbd",
   "metadata": {},
   "outputs": [],
   "source": [
    "import os\n",
    "import numpy as np\n",
    "from PIL import Image"
   ]
  },
  {
   "cell_type": "code",
   "execution_count": 2,
   "id": "e70ac505",
   "metadata": {},
   "outputs": [
    {
     "name": "stdout",
     "output_type": "stream",
     "text": [
      "X shape : (4000, 28, 28)\n",
      "Y shape : (4000,)\n"
     ]
    }
   ],
   "source": [
    "X = []\n",
    "Y = []\n",
    "classes = ['0', '1', '2', '3']\n",
    "classes_count = {'0': 1000, '1': 1000, '2': 1000, '3': 1000}\n",
    "for class_ in classes:\n",
    "\tcount = 0\n",
    "\tfor file in os.listdir(f'input_data/' + class_):\n",
    "\t\tif count == classes_count[class_]:\n",
    "\t\t\tbreak\n",
    "\t\tX.append(np.array(Image.open(f'input_data/' + class_ + '/' + file)))\n",
    "\t\tY.append(class_)\n",
    "\t\tcount += 1\n",
    "X=np.array(X)\n",
    "Y=np.array(Y)\n",
    "print(\"X shape :\",X.shape)\n",
    "print(\"Y shape :\",Y.shape)"
   ]
  },
  {
   "cell_type": "code",
   "execution_count": 3,
   "id": "5ff8b234",
   "metadata": {},
   "outputs": [],
   "source": [
    "from sklearn.model_selection import train_test_split\n",
    "X_train, X_test, Y_train, Y_test = train_test_split(X, Y, test_size=0.2)"
   ]
  },
  {
   "cell_type": "markdown",
   "id": "8f34f4f6",
   "metadata": {},
   "source": [
    "## Preprocessing of data"
   ]
  },
  {
   "cell_type": "code",
   "execution_count": 4,
   "id": "01e04b94",
   "metadata": {},
   "outputs": [],
   "source": [
    "from sklearn.preprocessing import LabelEncoder\n",
    "le = LabelEncoder()\n",
    "Y_train = le.fit_transform(Y_train)\n",
    "Y_test = le.fit_transform(Y_test)"
   ]
  },
  {
   "cell_type": "markdown",
   "id": "630290f3",
   "metadata": {},
   "source": [
    "## Transformation of data"
   ]
  },
  {
   "cell_type": "markdown",
   "id": "9d4bcdba",
   "metadata": {},
   "source": [
    "### Normalization of data"
   ]
  },
  {
   "cell_type": "code",
   "execution_count": 5,
   "id": "3666d86f",
   "metadata": {},
   "outputs": [
    {
     "name": "stdout",
     "output_type": "stream",
     "text": [
      "X train shape : (3200, 28, 28)\n",
      "X test shape : (800, 28, 28)\n"
     ]
    }
   ],
   "source": [
    "# Making sure that the values are float so that we can get decimal points after division\n",
    "X_train = X_train.astype('float32')\n",
    "X_test = X_test.astype('float32')\n",
    "# Normalizing the RGB codes by dividing it to the max RGB value.\n",
    "X_train = X_train / 255\n",
    "X_test = X_test / 255\n",
    "print(\"X train shape :\",X_train.shape)\n",
    "print(\"X test shape :\",X_test.shape)"
   ]
  },
  {
   "cell_type": "markdown",
   "id": "7c0440b6",
   "metadata": {},
   "source": [
    "### Reshaping of data"
   ]
  },
  {
   "cell_type": "code",
   "execution_count": 6,
   "id": "47b7415f",
   "metadata": {},
   "outputs": [
    {
     "name": "stdout",
     "output_type": "stream",
     "text": [
      "X train shape : (3200, 28, 28, 1)\n",
      "X train shape : (800, 28, 28, 1)\n"
     ]
    }
   ],
   "source": [
    "X_train = X_train.reshape(X_train.shape[0], X_train.shape[1], X_train.shape[2], 1)\n",
    "X_test = X_test.reshape(X_test.shape[0], X_test.shape[1], X_test.shape[2], 1)\n",
    "print(\"X train shape :\",X_train.shape)\n",
    "print(\"X train shape :\",X_test.shape)"
   ]
  },
  {
   "cell_type": "markdown",
   "id": "0b43b1f0",
   "metadata": {},
   "source": [
    "## Data Mining"
   ]
  },
  {
   "cell_type": "code",
   "execution_count": 7,
   "id": "d657309f",
   "metadata": {},
   "outputs": [],
   "source": [
    "from tensorflow.keras.models import Sequential\n",
    "from tensorflow.keras.layers import Dense"
   ]
  },
  {
   "cell_type": "markdown",
   "id": "d972c9b2",
   "metadata": {},
   "source": [
    "### Keeping track of the models and the metrics"
   ]
  },
  {
   "cell_type": "code",
   "execution_count": 8,
   "id": "48453eae",
   "metadata": {},
   "outputs": [],
   "source": [
    "models_metrics = dict()"
   ]
  },
  {
   "cell_type": "markdown",
   "id": "fbcc6330",
   "metadata": {},
   "source": [
    "### Classifier : rank 1 - number 1"
   ]
  },
  {
   "cell_type": "markdown",
   "id": "16f332c1",
   "metadata": {},
   "source": [
    "Flattening the data of this classifier"
   ]
  },
  {
   "cell_type": "code",
   "execution_count": 9,
   "id": "e99a4b7b",
   "metadata": {},
   "outputs": [
    {
     "name": "stdout",
     "output_type": "stream",
     "text": [
      "X train shape : (3200, 784)\n",
      "X test shape : (800, 784)\n"
     ]
    }
   ],
   "source": [
    "X_train_save = X_train\n",
    "X_test_save = X_test\n",
    "X_train = X_train.reshape(X_train.shape[0], -1)\n",
    "X_test = X_test.reshape(X_test.shape[0], -1)\n",
    "print(\"X train shape :\",X_train.shape)\n",
    "print(\"X test shape :\",X_test.shape)"
   ]
  },
  {
   "cell_type": "markdown",
   "id": "a1d021f3",
   "metadata": {},
   "source": [
    "Creating the model"
   ]
  },
  {
   "cell_type": "code",
   "execution_count": 10,
   "id": "13bf327c",
   "metadata": {},
   "outputs": [
    {
     "name": "stdout",
     "output_type": "stream",
     "text": [
      "Model: \"sequential\"\n",
      "_________________________________________________________________\n",
      " Layer (type)                Output Shape              Param #   \n",
      "=================================================================\n",
      " dense (Dense)               (None, 128)               100480    \n",
      "                                                                 \n",
      " dense_1 (Dense)             (None, 128)               16512     \n",
      "                                                                 \n",
      " dense_2 (Dense)             (None, 4)                 516       \n",
      "                                                                 \n",
      "=================================================================\n",
      "Total params: 117,508\n",
      "Trainable params: 117,508\n",
      "Non-trainable params: 0\n",
      "_________________________________________________________________\n"
     ]
    }
   ],
   "source": [
    "model = Sequential()\n",
    "model.add(Dense(128, activation=\"relu\", input_shape=(X_train.shape[1],)))\n",
    "model.add(Dense(128, activation=\"relu\"))\n",
    "model.add(Dense(4, activation=\"relu\"))\n",
    "model.compile(optimizer=\"adam\", loss=\"sparse_categorical_crossentropy\", metrics=[\"accuracy\"])\n",
    "model.summary()"
   ]
  },
  {
   "cell_type": "markdown",
   "id": "b249b070",
   "metadata": {},
   "source": [
    "Training and evaluating the model"
   ]
  },
  {
   "cell_type": "code",
   "execution_count": 11,
   "id": "72891a47",
   "metadata": {},
   "outputs": [
    {
     "name": "stdout",
     "output_type": "stream",
     "text": [
      "Epoch 1/10\n",
      "100/100 [==============================] - 2s 5ms/step - loss: 1.5927 - accuracy: 0.2491\n",
      "Epoch 2/10\n",
      "100/100 [==============================] - 0s 5ms/step - loss: 1.3859 - accuracy: 0.2500\n",
      "Epoch 3/10\n",
      "100/100 [==============================] - 0s 4ms/step - loss: 1.3859 - accuracy: 0.2500\n",
      "Epoch 4/10\n",
      "100/100 [==============================] - 0s 4ms/step - loss: 1.3859 - accuracy: 0.2500\n",
      "Epoch 5/10\n",
      "100/100 [==============================] - 0s 4ms/step - loss: 1.3859 - accuracy: 0.2500\n",
      "Epoch 6/10\n",
      "100/100 [==============================] - 0s 4ms/step - loss: 1.3859 - accuracy: 0.2500\n",
      "Epoch 7/10\n",
      "100/100 [==============================] - 0s 5ms/step - loss: 1.3859 - accuracy: 0.2500\n",
      "Epoch 8/10\n",
      "100/100 [==============================] - 0s 5ms/step - loss: 1.3859 - accuracy: 0.2500\n",
      "Epoch 9/10\n",
      "100/100 [==============================] - 0s 5ms/step - loss: 1.3859 - accuracy: 0.2500\n",
      "Epoch 10/10\n",
      "100/100 [==============================] - 1s 5ms/step - loss: 1.3859 - accuracy: 0.2500\n",
      "25/25 [==============================] - 0s 3ms/step - loss: 1.3863 - accuracy: 0.2500\n",
      "Loss :  1.3862948417663574\n",
      "Accuracy :  0.25\n"
     ]
    }
   ],
   "source": [
    "history = model.fit(X_train, Y_train, epochs=10, batch_size=32)\n",
    "score = model.evaluate(X_test, Y_test)\n",
    "print(\"Loss : \", score[0])\n",
    "print(\"Accuracy : \", score[1])\n",
    "models_metrics[\"1-1\"] = [history, score, model]\n",
    "X_train = X_train_save\n",
    "X_test = X_test_save"
   ]
  },
  {
   "cell_type": "markdown",
   "id": "d2a7768e",
   "metadata": {},
   "source": [
    "### Classifier : rank 1 - number 2"
   ]
  },
  {
   "cell_type": "markdown",
   "id": "531fa812",
   "metadata": {},
   "source": [
    "Flattening the data of this classifier"
   ]
  },
  {
   "cell_type": "code",
   "execution_count": 12,
   "id": "30b3b321",
   "metadata": {},
   "outputs": [
    {
     "name": "stdout",
     "output_type": "stream",
     "text": [
      "X train shape : (3200, 784)\n",
      "X test shape : (800, 784)\n"
     ]
    }
   ],
   "source": [
    "X_train_save = X_train\n",
    "X_test_save = X_test\n",
    "X_train = X_train.reshape(X_train.shape[0], -1)\n",
    "X_test = X_test.reshape(X_test.shape[0], -1)\n",
    "print(\"X train shape :\",X_train.shape)\n",
    "print(\"X test shape :\",X_test.shape)"
   ]
  },
  {
   "cell_type": "markdown",
   "id": "b0624d24",
   "metadata": {},
   "source": [
    "Creating the model"
   ]
  },
  {
   "cell_type": "code",
   "execution_count": 13,
   "id": "e51963c3",
   "metadata": {},
   "outputs": [
    {
     "name": "stdout",
     "output_type": "stream",
     "text": [
      "Model: \"sequential_1\"\n",
      "_________________________________________________________________\n",
      " Layer (type)                Output Shape              Param #   \n",
      "=================================================================\n",
      " dense_3 (Dense)             (None, 128)               100480    \n",
      "                                                                 \n",
      " dense_4 (Dense)             (None, 128)               16512     \n",
      "                                                                 \n",
      " dense_5 (Dense)             (None, 4)                 516       \n",
      "                                                                 \n",
      "=================================================================\n",
      "Total params: 117,508\n",
      "Trainable params: 117,508\n",
      "Non-trainable params: 0\n",
      "_________________________________________________________________\n"
     ]
    }
   ],
   "source": [
    "model = Sequential()\n",
    "model.add(Dense(128, activation=\"relu\", input_shape=(X_train.shape[1],)))\n",
    "model.add(Dense(128, activation=\"sigmoid\"))\n",
    "model.add(Dense(4, activation=\"relu\"))\n",
    "model.compile(optimizer=\"adam\", loss=\"sparse_categorical_crossentropy\", metrics=[\"accuracy\"])\n",
    "model.summary()"
   ]
  },
  {
   "cell_type": "markdown",
   "id": "72e07b7d",
   "metadata": {},
   "source": [
    "Training and evaluating the model"
   ]
  },
  {
   "cell_type": "code",
   "execution_count": 14,
   "id": "845f5417",
   "metadata": {},
   "outputs": [
    {
     "name": "stdout",
     "output_type": "stream",
     "text": [
      "Epoch 1/10\n",
      "100/100 [==============================] - 1s 5ms/step - loss: 4.6721 - accuracy: 0.2775\n",
      "Epoch 2/10\n",
      "100/100 [==============================] - 1s 6ms/step - loss: 4.5515 - accuracy: 0.3191\n",
      "Epoch 3/10\n",
      "100/100 [==============================] - 1s 5ms/step - loss: 4.5164 - accuracy: 0.3416\n",
      "Epoch 4/10\n",
      "100/100 [==============================] - 1s 5ms/step - loss: 4.5138 - accuracy: 0.3566\n",
      "Epoch 5/10\n",
      "100/100 [==============================] - 1s 5ms/step - loss: 4.5090 - accuracy: 0.3650\n",
      "Epoch 6/10\n",
      "100/100 [==============================] - 1s 5ms/step - loss: 4.4919 - accuracy: 0.3497\n",
      "Epoch 7/10\n",
      "100/100 [==============================] - 0s 5ms/step - loss: 4.4755 - accuracy: 0.3516\n",
      "Epoch 8/10\n",
      "100/100 [==============================] - 0s 5ms/step - loss: 4.4739 - accuracy: 0.3584\n",
      "Epoch 9/10\n",
      "100/100 [==============================] - 0s 4ms/step - loss: 4.4640 - accuracy: 0.3750\n",
      "Epoch 10/10\n",
      "100/100 [==============================] - 0s 5ms/step - loss: 4.4624 - accuracy: 0.3631\n",
      "25/25 [==============================] - 0s 3ms/step - loss: 4.2512 - accuracy: 0.3775\n",
      "Loss :  4.251168727874756\n",
      "Accuracy :  0.3774999976158142\n"
     ]
    }
   ],
   "source": [
    "history = model.fit(X_train, Y_train, epochs=10, batch_size=32)\n",
    "score = model.evaluate(X_test, Y_test)\n",
    "print(\"Loss : \", score[0])\n",
    "print(\"Accuracy : \", score[1])\n",
    "models_metrics[\"1-2\"] = [history, score, model]\n",
    "X_train = X_train_save\n",
    "X_test = X_test_save"
   ]
  },
  {
   "cell_type": "markdown",
   "id": "00cfbfe9",
   "metadata": {},
   "source": [
    "### Classifier : rank 1 - number 3"
   ]
  },
  {
   "cell_type": "markdown",
   "id": "097b7daa",
   "metadata": {},
   "source": [
    "Flattening the data of this classifier"
   ]
  },
  {
   "cell_type": "code",
   "execution_count": 15,
   "id": "9fff7e7c",
   "metadata": {},
   "outputs": [
    {
     "name": "stdout",
     "output_type": "stream",
     "text": [
      "X train shape : (3200, 784)\n",
      "X test shape : (800, 784)\n"
     ]
    }
   ],
   "source": [
    "X_train_save = X_train\n",
    "X_test_save = X_test\n",
    "X_train = X_train.reshape(X_train.shape[0], -1)\n",
    "X_test = X_test.reshape(X_test.shape[0], -1)\n",
    "print(\"X train shape :\",X_train.shape)\n",
    "print(\"X test shape :\",X_test.shape)"
   ]
  },
  {
   "cell_type": "markdown",
   "id": "c4723bf7",
   "metadata": {},
   "source": [
    "Creating the model"
   ]
  },
  {
   "cell_type": "code",
   "execution_count": 16,
   "id": "1514819e",
   "metadata": {},
   "outputs": [
    {
     "name": "stdout",
     "output_type": "stream",
     "text": [
      "Model: \"sequential_2\"\n",
      "_________________________________________________________________\n",
      " Layer (type)                Output Shape              Param #   \n",
      "=================================================================\n",
      " dense_6 (Dense)             (None, 128)               100480    \n",
      "                                                                 \n",
      " dense_7 (Dense)             (None, 128)               16512     \n",
      "                                                                 \n",
      " dense_8 (Dense)             (None, 4)                 516       \n",
      "                                                                 \n",
      "=================================================================\n",
      "Total params: 117,508\n",
      "Trainable params: 117,508\n",
      "Non-trainable params: 0\n",
      "_________________________________________________________________\n"
     ]
    }
   ],
   "source": [
    "model = Sequential()\n",
    "model.add(Dense(128, activation=\"softmax\", input_shape=(X_train.shape[1],)))\n",
    "model.add(Dense(128, activation=\"relu\"))\n",
    "model.add(Dense(4, activation=\"relu\"))\n",
    "model.compile(optimizer=\"adam\", loss=\"sparse_categorical_crossentropy\", metrics=[\"accuracy\"])\n",
    "model.summary()"
   ]
  },
  {
   "cell_type": "markdown",
   "id": "81e6352c",
   "metadata": {},
   "source": [
    "Training and evaluating the model"
   ]
  },
  {
   "cell_type": "code",
   "execution_count": 17,
   "id": "87c6b2a7",
   "metadata": {},
   "outputs": [
    {
     "name": "stdout",
     "output_type": "stream",
     "text": [
      "Epoch 1/10\n",
      "100/100 [==============================] - 1s 3ms/step - loss: 1.4233 - accuracy: 0.2541\n",
      "Epoch 2/10\n",
      "100/100 [==============================] - 0s 4ms/step - loss: 1.3863 - accuracy: 0.2500\n",
      "Epoch 3/10\n",
      "100/100 [==============================] - 0s 4ms/step - loss: 1.3863 - accuracy: 0.2500\n",
      "Epoch 4/10\n",
      "100/100 [==============================] - 0s 4ms/step - loss: 1.3863 - accuracy: 0.2500\n",
      "Epoch 5/10\n",
      "100/100 [==============================] - 0s 5ms/step - loss: 1.3863 - accuracy: 0.2500\n",
      "Epoch 6/10\n",
      "100/100 [==============================] - 0s 5ms/step - loss: 1.3863 - accuracy: 0.2500\n",
      "Epoch 7/10\n",
      "100/100 [==============================] - 0s 5ms/step - loss: 1.3863 - accuracy: 0.2500\n",
      "Epoch 8/10\n",
      "100/100 [==============================] - 1s 6ms/step - loss: 1.3863 - accuracy: 0.2500\n",
      "Epoch 9/10\n",
      "100/100 [==============================] - 0s 5ms/step - loss: 1.3863 - accuracy: 0.2500\n",
      "Epoch 10/10\n",
      "100/100 [==============================] - 0s 5ms/step - loss: 1.3863 - accuracy: 0.2500\n",
      "25/25 [==============================] - 0s 4ms/step - loss: 1.3863 - accuracy: 0.2500\n",
      "Loss :  1.3862948417663574\n",
      "Accuracy :  0.25\n"
     ]
    }
   ],
   "source": [
    "history = model.fit(X_train, Y_train, epochs=10, batch_size=32)\n",
    "score = model.evaluate(X_test, Y_test)\n",
    "print(\"Loss : \", score[0])\n",
    "print(\"Accuracy : \", score[1])\n",
    "models_metrics[\"1-3\"] = [history, score, model]\n",
    "X_train = X_train_save\n",
    "X_test = X_test_save"
   ]
  },
  {
   "cell_type": "markdown",
   "id": "e47570c5",
   "metadata": {},
   "source": [
    "### Classifier : rank 1 - number 4"
   ]
  },
  {
   "cell_type": "markdown",
   "id": "99217d1a",
   "metadata": {},
   "source": [
    "Flattening the data of this classifier"
   ]
  },
  {
   "cell_type": "code",
   "execution_count": 18,
   "id": "b2785bb5",
   "metadata": {},
   "outputs": [
    {
     "name": "stdout",
     "output_type": "stream",
     "text": [
      "X train shape : (3200, 784)\n",
      "X test shape : (800, 784)\n"
     ]
    }
   ],
   "source": [
    "X_train_save = X_train\n",
    "X_test_save = X_test\n",
    "X_train = X_train.reshape(X_train.shape[0], -1)\n",
    "X_test = X_test.reshape(X_test.shape[0], -1)\n",
    "print(\"X train shape :\",X_train.shape)\n",
    "print(\"X test shape :\",X_test.shape)"
   ]
  },
  {
   "cell_type": "markdown",
   "id": "1a834f6f",
   "metadata": {},
   "source": [
    "Creating the model"
   ]
  },
  {
   "cell_type": "code",
   "execution_count": 19,
   "id": "62580c8d",
   "metadata": {},
   "outputs": [
    {
     "name": "stdout",
     "output_type": "stream",
     "text": [
      "Model: \"sequential_3\"\n",
      "_________________________________________________________________\n",
      " Layer (type)                Output Shape              Param #   \n",
      "=================================================================\n",
      " dense_9 (Dense)             (None, 128)               100480    \n",
      "                                                                 \n",
      " dense_10 (Dense)            (None, 128)               16512     \n",
      "                                                                 \n",
      " dense_11 (Dense)            (None, 4)                 516       \n",
      "                                                                 \n",
      "=================================================================\n",
      "Total params: 117,508\n",
      "Trainable params: 117,508\n",
      "Non-trainable params: 0\n",
      "_________________________________________________________________\n"
     ]
    }
   ],
   "source": [
    "model = Sequential()\n",
    "model.add(Dense(128, activation=\"softmax\", input_shape=(X_train.shape[1],)))\n",
    "model.add(Dense(128, activation=\"sigmoid\"))\n",
    "model.add(Dense(4, activation=\"relu\"))\n",
    "model.compile(optimizer=\"adam\", loss=\"sparse_categorical_crossentropy\", metrics=[\"accuracy\"])\n",
    "model.summary()"
   ]
  },
  {
   "cell_type": "markdown",
   "id": "decee9de",
   "metadata": {},
   "source": [
    "Training and evaluating the model"
   ]
  },
  {
   "cell_type": "code",
   "execution_count": 20,
   "id": "e8fd8f5a",
   "metadata": {},
   "outputs": [
    {
     "name": "stdout",
     "output_type": "stream",
     "text": [
      "Epoch 1/10\n",
      "100/100 [==============================] - 1s 3ms/step - loss: 4.5908 - accuracy: 0.4422\n",
      "Epoch 2/10\n",
      "100/100 [==============================] - 0s 4ms/step - loss: 2.0596 - accuracy: 0.3438\n",
      "Epoch 3/10\n",
      "100/100 [==============================] - 0s 5ms/step - loss: 1.2018 - accuracy: 0.2500\n",
      "Epoch 4/10\n",
      "100/100 [==============================] - 0s 5ms/step - loss: 1.1840 - accuracy: 0.2500\n",
      "Epoch 5/10\n",
      "100/100 [==============================] - 0s 4ms/step - loss: 1.4010 - accuracy: 0.2500\n",
      "Epoch 6/10\n",
      "100/100 [==============================] - 1s 5ms/step - loss: 1.1496 - accuracy: 0.2500\n",
      "Epoch 7/10\n",
      "100/100 [==============================] - 0s 5ms/step - loss: 1.1727 - accuracy: 0.2500\n",
      "Epoch 8/10\n",
      "100/100 [==============================] - 0s 4ms/step - loss: 1.1727 - accuracy: 0.2500\n",
      "Epoch 9/10\n",
      "100/100 [==============================] - 0s 5ms/step - loss: 1.1727 - accuracy: 0.2500\n",
      "Epoch 10/10\n",
      "100/100 [==============================] - 0s 4ms/step - loss: 1.1727 - accuracy: 0.2500\n",
      "25/25 [==============================] - 0s 3ms/step - loss: 1.1611 - accuracy: 0.2500\n",
      "Loss :  1.1610615253448486\n",
      "Accuracy :  0.25\n"
     ]
    }
   ],
   "source": [
    "history = model.fit(X_train, Y_train, epochs=10, batch_size=32)\n",
    "score = model.evaluate(X_test, Y_test)\n",
    "print(\"Loss : \", score[0])\n",
    "print(\"Accuracy : \", score[1])\n",
    "models_metrics[\"1-4\"] = [history, score, model]\n",
    "X_train = X_train_save\n",
    "X_test = X_test_save"
   ]
  },
  {
   "cell_type": "markdown",
   "id": "137ae3c9",
   "metadata": {},
   "source": [
    "### Classifier : rank 1 - number 5"
   ]
  },
  {
   "cell_type": "markdown",
   "id": "ca5e20e0",
   "metadata": {},
   "source": [
    "Flattening the data of this classifier"
   ]
  },
  {
   "cell_type": "code",
   "execution_count": 21,
   "id": "ffe42711",
   "metadata": {},
   "outputs": [
    {
     "name": "stdout",
     "output_type": "stream",
     "text": [
      "X train shape : (3200, 784)\n",
      "X test shape : (800, 784)\n"
     ]
    }
   ],
   "source": [
    "X_train_save = X_train\n",
    "X_test_save = X_test\n",
    "X_train = X_train.reshape(X_train.shape[0], -1)\n",
    "X_test = X_test.reshape(X_test.shape[0], -1)\n",
    "print(\"X train shape :\",X_train.shape)\n",
    "print(\"X test shape :\",X_test.shape)"
   ]
  },
  {
   "cell_type": "markdown",
   "id": "6d7ccbe9",
   "metadata": {},
   "source": [
    "Creating the model"
   ]
  },
  {
   "cell_type": "code",
   "execution_count": 22,
   "id": "58aad229",
   "metadata": {},
   "outputs": [
    {
     "name": "stdout",
     "output_type": "stream",
     "text": [
      "Model: \"sequential_4\"\n",
      "_________________________________________________________________\n",
      " Layer (type)                Output Shape              Param #   \n",
      "=================================================================\n",
      " dense_12 (Dense)            (None, 128)               100480    \n",
      "                                                                 \n",
      " dense_13 (Dense)            (None, 128)               16512     \n",
      "                                                                 \n",
      " dense_14 (Dense)            (None, 4)                 516       \n",
      "                                                                 \n",
      "=================================================================\n",
      "Total params: 117,508\n",
      "Trainable params: 117,508\n",
      "Non-trainable params: 0\n",
      "_________________________________________________________________\n"
     ]
    }
   ],
   "source": [
    "model = Sequential()\n",
    "model.add(Dense(128, activation=\"sigmoid\", input_shape=(X_train.shape[1],)))\n",
    "model.add(Dense(128, activation=\"relu\"))\n",
    "model.add(Dense(4, activation=\"relu\"))\n",
    "model.compile(optimizer=\"adam\", loss=\"sparse_categorical_crossentropy\", metrics=[\"accuracy\"])\n",
    "model.summary()"
   ]
  },
  {
   "cell_type": "markdown",
   "id": "7f6f9574",
   "metadata": {},
   "source": [
    "Training and evaluating the model"
   ]
  },
  {
   "cell_type": "code",
   "execution_count": 23,
   "id": "88495afb",
   "metadata": {},
   "outputs": [
    {
     "name": "stdout",
     "output_type": "stream",
     "text": [
      "Epoch 1/10\n",
      "100/100 [==============================] - 1s 4ms/step - loss: 1.3863 - accuracy: 0.2500\n",
      "Epoch 2/10\n",
      "100/100 [==============================] - 0s 3ms/step - loss: 1.3863 - accuracy: 0.2500\n",
      "Epoch 3/10\n",
      "100/100 [==============================] - 0s 4ms/step - loss: 1.3863 - accuracy: 0.2500\n",
      "Epoch 4/10\n",
      "100/100 [==============================] - 1s 5ms/step - loss: 1.3863 - accuracy: 0.2500\n",
      "Epoch 5/10\n",
      "100/100 [==============================] - 1s 5ms/step - loss: 1.3863 - accuracy: 0.2500\n",
      "Epoch 6/10\n",
      "100/100 [==============================] - 0s 5ms/step - loss: 1.3863 - accuracy: 0.2500\n",
      "Epoch 7/10\n",
      "100/100 [==============================] - 0s 5ms/step - loss: 1.3863 - accuracy: 0.2500\n",
      "Epoch 8/10\n",
      "100/100 [==============================] - 0s 4ms/step - loss: 1.3863 - accuracy: 0.2500\n",
      "Epoch 9/10\n",
      "100/100 [==============================] - 0s 4ms/step - loss: 1.3863 - accuracy: 0.2500\n",
      "Epoch 10/10\n",
      "100/100 [==============================] - 0s 4ms/step - loss: 1.3863 - accuracy: 0.2500\n",
      "25/25 [==============================] - 0s 3ms/step - loss: 1.3863 - accuracy: 0.2500\n",
      "Loss :  1.3862948417663574\n",
      "Accuracy :  0.25\n"
     ]
    }
   ],
   "source": [
    "history = model.fit(X_train, Y_train, epochs=10, batch_size=32)\n",
    "score = model.evaluate(X_test, Y_test)\n",
    "print(\"Loss : \", score[0])\n",
    "print(\"Accuracy : \", score[1])\n",
    "models_metrics[\"1-5\"] = [history, score, model]\n",
    "X_train = X_train_save\n",
    "X_test = X_test_save"
   ]
  },
  {
   "cell_type": "markdown",
   "id": "6f375a93",
   "metadata": {},
   "source": [
    "### Classifier : rank 1 - number 6"
   ]
  },
  {
   "cell_type": "markdown",
   "id": "3d860e04",
   "metadata": {},
   "source": [
    "Flattening the data of this classifier"
   ]
  },
  {
   "cell_type": "code",
   "execution_count": 24,
   "id": "ac43ed78",
   "metadata": {},
   "outputs": [
    {
     "name": "stdout",
     "output_type": "stream",
     "text": [
      "X train shape : (3200, 784)\n",
      "X test shape : (800, 784)\n"
     ]
    }
   ],
   "source": [
    "X_train_save = X_train\n",
    "X_test_save = X_test\n",
    "X_train = X_train.reshape(X_train.shape[0], -1)\n",
    "X_test = X_test.reshape(X_test.shape[0], -1)\n",
    "print(\"X train shape :\",X_train.shape)\n",
    "print(\"X test shape :\",X_test.shape)"
   ]
  },
  {
   "cell_type": "markdown",
   "id": "21f2ddba",
   "metadata": {},
   "source": [
    "Creating the model"
   ]
  },
  {
   "cell_type": "code",
   "execution_count": 25,
   "id": "822de81e",
   "metadata": {},
   "outputs": [
    {
     "name": "stdout",
     "output_type": "stream",
     "text": [
      "Model: \"sequential_5\"\n",
      "_________________________________________________________________\n",
      " Layer (type)                Output Shape              Param #   \n",
      "=================================================================\n",
      " dense_15 (Dense)            (None, 128)               100480    \n",
      "                                                                 \n",
      " dense_16 (Dense)            (None, 128)               16512     \n",
      "                                                                 \n",
      " dense_17 (Dense)            (None, 4)                 516       \n",
      "                                                                 \n",
      "=================================================================\n",
      "Total params: 117,508\n",
      "Trainable params: 117,508\n",
      "Non-trainable params: 0\n",
      "_________________________________________________________________\n"
     ]
    }
   ],
   "source": [
    "model = Sequential()\n",
    "model.add(Dense(128, activation=\"sigmoid\", input_shape=(X_train.shape[1],)))\n",
    "model.add(Dense(128, activation=\"sigmoid\"))\n",
    "model.add(Dense(4, activation=\"relu\"))\n",
    "model.compile(optimizer=\"adam\", loss=\"sparse_categorical_crossentropy\", metrics=[\"accuracy\"])\n",
    "model.summary()"
   ]
  },
  {
   "cell_type": "markdown",
   "id": "ad384ba2",
   "metadata": {},
   "source": [
    "Training and evaluating the model"
   ]
  },
  {
   "cell_type": "code",
   "execution_count": 26,
   "id": "ae368455",
   "metadata": {},
   "outputs": [
    {
     "name": "stdout",
     "output_type": "stream",
     "text": [
      "Epoch 1/10\n",
      "100/100 [==============================] - 1s 4ms/step - loss: 1.6893 - accuracy: 0.2616\n",
      "Epoch 2/10\n",
      "100/100 [==============================] - 0s 3ms/step - loss: 1.3863 - accuracy: 0.2500\n",
      "Epoch 3/10\n",
      "100/100 [==============================] - 0s 4ms/step - loss: 1.3863 - accuracy: 0.2500\n",
      "Epoch 4/10\n",
      "100/100 [==============================] - 0s 3ms/step - loss: 1.3863 - accuracy: 0.2500\n",
      "Epoch 5/10\n",
      "100/100 [==============================] - 0s 3ms/step - loss: 1.3863 - accuracy: 0.2500\n",
      "Epoch 6/10\n",
      "100/100 [==============================] - 0s 4ms/step - loss: 1.3863 - accuracy: 0.2500\n",
      "Epoch 7/10\n",
      "100/100 [==============================] - 0s 4ms/step - loss: 1.3863 - accuracy: 0.2500\n",
      "Epoch 8/10\n",
      "100/100 [==============================] - 0s 5ms/step - loss: 1.3863 - accuracy: 0.2500\n",
      "Epoch 9/10\n",
      "100/100 [==============================] - 0s 3ms/step - loss: 1.3863 - accuracy: 0.2500\n",
      "Epoch 10/10\n",
      "100/100 [==============================] - 0s 4ms/step - loss: 1.3863 - accuracy: 0.2500\n",
      "25/25 [==============================] - 0s 4ms/step - loss: 1.3863 - accuracy: 0.2500\n",
      "Loss :  1.3862948417663574\n",
      "Accuracy :  0.25\n"
     ]
    }
   ],
   "source": [
    "history = model.fit(X_train, Y_train, epochs=10, batch_size=32)\n",
    "score = model.evaluate(X_test, Y_test)\n",
    "print(\"Loss : \", score[0])\n",
    "print(\"Accuracy : \", score[1])\n",
    "models_metrics[\"1-6\"] = [history, score, model]\n",
    "X_train = X_train_save\n",
    "X_test = X_test_save"
   ]
  },
  {
   "cell_type": "markdown",
   "id": "699ef9c0",
   "metadata": {},
   "source": [
    "### Classifier : rank 1 - number 7"
   ]
  },
  {
   "cell_type": "markdown",
   "id": "723f4746",
   "metadata": {},
   "source": [
    "Flattening the data of this classifier"
   ]
  },
  {
   "cell_type": "code",
   "execution_count": 27,
   "id": "fa7817fc",
   "metadata": {},
   "outputs": [
    {
     "name": "stdout",
     "output_type": "stream",
     "text": [
      "X train shape : (3200, 784)\n",
      "X test shape : (800, 784)\n"
     ]
    }
   ],
   "source": [
    "X_train_save = X_train\n",
    "X_test_save = X_test\n",
    "X_train = X_train.reshape(X_train.shape[0], -1)\n",
    "X_test = X_test.reshape(X_test.shape[0], -1)\n",
    "print(\"X train shape :\",X_train.shape)\n",
    "print(\"X test shape :\",X_test.shape)"
   ]
  },
  {
   "cell_type": "markdown",
   "id": "f3db246e",
   "metadata": {},
   "source": [
    "Creating the model"
   ]
  },
  {
   "cell_type": "code",
   "execution_count": 28,
   "id": "2994914c",
   "metadata": {},
   "outputs": [
    {
     "name": "stdout",
     "output_type": "stream",
     "text": [
      "Model: \"sequential_6\"\n",
      "_________________________________________________________________\n",
      " Layer (type)                Output Shape              Param #   \n",
      "=================================================================\n",
      " dense_18 (Dense)            (None, 256)               200960    \n",
      "                                                                 \n",
      " dense_19 (Dense)            (None, 128)               32896     \n",
      "                                                                 \n",
      " dense_20 (Dense)            (None, 4)                 516       \n",
      "                                                                 \n",
      "=================================================================\n",
      "Total params: 234,372\n",
      "Trainable params: 234,372\n",
      "Non-trainable params: 0\n",
      "_________________________________________________________________\n"
     ]
    }
   ],
   "source": [
    "model = Sequential()\n",
    "model.add(Dense(256, activation=\"relu\", input_shape=(X_train.shape[1],)))\n",
    "model.add(Dense(128, activation=\"relu\"))\n",
    "model.add(Dense(4, activation=\"relu\"))\n",
    "model.compile(optimizer=\"adam\", loss=\"sparse_categorical_crossentropy\", metrics=[\"accuracy\"])\n",
    "model.summary()"
   ]
  },
  {
   "cell_type": "markdown",
   "id": "76a99d6e",
   "metadata": {},
   "source": [
    "Training and evaluating the model"
   ]
  },
  {
   "cell_type": "code",
   "execution_count": 29,
   "id": "4b7204d3",
   "metadata": {},
   "outputs": [
    {
     "name": "stdout",
     "output_type": "stream",
     "text": [
      "Epoch 1/10\n",
      "100/100 [==============================] - 2s 6ms/step - loss: 1.5664 - accuracy: 0.2600\n",
      "Epoch 2/10\n",
      "100/100 [==============================] - 1s 5ms/step - loss: 1.3863 - accuracy: 0.2500\n",
      "Epoch 3/10\n",
      "100/100 [==============================] - 1s 5ms/step - loss: 1.3863 - accuracy: 0.2500\n",
      "Epoch 4/10\n",
      "100/100 [==============================] - 0s 5ms/step - loss: 1.3863 - accuracy: 0.2500\n",
      "Epoch 5/10\n",
      "100/100 [==============================] - 0s 5ms/step - loss: 1.3863 - accuracy: 0.2500\n",
      "Epoch 6/10\n",
      "100/100 [==============================] - 1s 6ms/step - loss: 1.3863 - accuracy: 0.2500\n",
      "Epoch 7/10\n",
      "100/100 [==============================] - 1s 6ms/step - loss: 1.3863 - accuracy: 0.2500\n",
      "Epoch 8/10\n",
      "100/100 [==============================] - 1s 8ms/step - loss: 1.3863 - accuracy: 0.2500\n",
      "Epoch 9/10\n",
      "100/100 [==============================] - 1s 5ms/step - loss: 1.3863 - accuracy: 0.2500\n",
      "Epoch 10/10\n",
      "100/100 [==============================] - 0s 4ms/step - loss: 1.3863 - accuracy: 0.2500\n",
      "25/25 [==============================] - 0s 4ms/step - loss: 1.3863 - accuracy: 0.2500\n",
      "Loss :  1.3862948417663574\n",
      "Accuracy :  0.25\n"
     ]
    }
   ],
   "source": [
    "history = model.fit(X_train, Y_train, epochs=10, batch_size=32)\n",
    "score = model.evaluate(X_test, Y_test)\n",
    "print(\"Loss : \", score[0])\n",
    "print(\"Accuracy : \", score[1])\n",
    "models_metrics[\"1-7\"] = [history, score, model]\n",
    "X_train = X_train_save\n",
    "X_test = X_test_save"
   ]
  },
  {
   "cell_type": "markdown",
   "id": "11a64016",
   "metadata": {},
   "source": [
    "### Classifier : rank 1 - number 8"
   ]
  },
  {
   "cell_type": "markdown",
   "id": "54cd64c1",
   "metadata": {},
   "source": [
    "Flattening the data of this classifier"
   ]
  },
  {
   "cell_type": "code",
   "execution_count": 30,
   "id": "e86cf325",
   "metadata": {},
   "outputs": [
    {
     "name": "stdout",
     "output_type": "stream",
     "text": [
      "X train shape : (3200, 784)\n",
      "X test shape : (800, 784)\n"
     ]
    }
   ],
   "source": [
    "X_train_save = X_train\n",
    "X_test_save = X_test\n",
    "X_train = X_train.reshape(X_train.shape[0], -1)\n",
    "X_test = X_test.reshape(X_test.shape[0], -1)\n",
    "print(\"X train shape :\",X_train.shape)\n",
    "print(\"X test shape :\",X_test.shape)"
   ]
  },
  {
   "cell_type": "markdown",
   "id": "72a163b0",
   "metadata": {},
   "source": [
    "Creating the model"
   ]
  },
  {
   "cell_type": "code",
   "execution_count": 31,
   "id": "0f02bee3",
   "metadata": {},
   "outputs": [
    {
     "name": "stdout",
     "output_type": "stream",
     "text": [
      "Model: \"sequential_7\"\n",
      "_________________________________________________________________\n",
      " Layer (type)                Output Shape              Param #   \n",
      "=================================================================\n",
      " dense_21 (Dense)            (None, 256)               200960    \n",
      "                                                                 \n",
      " dense_22 (Dense)            (None, 128)               32896     \n",
      "                                                                 \n",
      " dense_23 (Dense)            (None, 4)                 516       \n",
      "                                                                 \n",
      "=================================================================\n",
      "Total params: 234,372\n",
      "Trainable params: 234,372\n",
      "Non-trainable params: 0\n",
      "_________________________________________________________________\n"
     ]
    }
   ],
   "source": [
    "model = Sequential()\n",
    "model.add(Dense(256, activation=\"relu\", input_shape=(X_train.shape[1],)))\n",
    "model.add(Dense(128, activation=\"sigmoid\"))\n",
    "model.add(Dense(4, activation=\"relu\"))\n",
    "model.compile(optimizer=\"adam\", loss=\"sparse_categorical_crossentropy\", metrics=[\"accuracy\"])\n",
    "model.summary()"
   ]
  },
  {
   "cell_type": "markdown",
   "id": "e5d063fb",
   "metadata": {},
   "source": [
    "Training and evaluating the model"
   ]
  },
  {
   "cell_type": "code",
   "execution_count": 32,
   "id": "4c03c653",
   "metadata": {},
   "outputs": [
    {
     "name": "stdout",
     "output_type": "stream",
     "text": [
      "Epoch 1/10\n",
      "100/100 [==============================] - 2s 5ms/step - loss: 1.6401 - accuracy: 0.2525\n",
      "Epoch 2/10\n",
      "100/100 [==============================] - 0s 5ms/step - loss: 1.3807 - accuracy: 0.2500\n",
      "Epoch 3/10\n",
      "100/100 [==============================] - 0s 5ms/step - loss: 1.3807 - accuracy: 0.2500\n",
      "Epoch 4/10\n",
      "100/100 [==============================] - 0s 5ms/step - loss: 1.3807 - accuracy: 0.2500\n",
      "Epoch 5/10\n",
      "100/100 [==============================] - 1s 6ms/step - loss: 1.3807 - accuracy: 0.2500\n",
      "Epoch 6/10\n",
      "100/100 [==============================] - 1s 5ms/step - loss: 1.3807 - accuracy: 0.2500\n",
      "Epoch 7/10\n",
      "100/100 [==============================] - 1s 5ms/step - loss: 1.3807 - accuracy: 0.2500\n",
      "Epoch 8/10\n",
      "100/100 [==============================] - 1s 6ms/step - loss: 1.3807 - accuracy: 0.2500\n",
      "Epoch 9/10\n",
      "100/100 [==============================] - 1s 5ms/step - loss: 1.3807 - accuracy: 0.2500\n",
      "Epoch 10/10\n",
      "100/100 [==============================] - 1s 6ms/step - loss: 1.3090 - accuracy: 0.2500\n",
      "25/25 [==============================] - 0s 3ms/step - loss: 1.2910 - accuracy: 0.2500\n",
      "Loss :  1.2909866571426392\n",
      "Accuracy :  0.25\n"
     ]
    }
   ],
   "source": [
    "history = model.fit(X_train, Y_train, epochs=10, batch_size=32)\n",
    "score = model.evaluate(X_test, Y_test)\n",
    "print(\"Loss : \", score[0])\n",
    "print(\"Accuracy : \", score[1])\n",
    "models_metrics[\"1-8\"] = [history, score, model]\n",
    "X_train = X_train_save\n",
    "X_test = X_test_save"
   ]
  },
  {
   "cell_type": "markdown",
   "id": "db66d685",
   "metadata": {},
   "source": [
    "### Classifier : rank 1 - number 9"
   ]
  },
  {
   "cell_type": "markdown",
   "id": "fd21ef18",
   "metadata": {},
   "source": [
    "Flattening the data of this classifier"
   ]
  },
  {
   "cell_type": "code",
   "execution_count": 33,
   "id": "3ed2ebcb",
   "metadata": {},
   "outputs": [
    {
     "name": "stdout",
     "output_type": "stream",
     "text": [
      "X train shape : (3200, 784)\n",
      "X test shape : (800, 784)\n"
     ]
    }
   ],
   "source": [
    "X_train_save = X_train\n",
    "X_test_save = X_test\n",
    "X_train = X_train.reshape(X_train.shape[0], -1)\n",
    "X_test = X_test.reshape(X_test.shape[0], -1)\n",
    "print(\"X train shape :\",X_train.shape)\n",
    "print(\"X test shape :\",X_test.shape)"
   ]
  },
  {
   "cell_type": "markdown",
   "id": "2cea0acc",
   "metadata": {},
   "source": [
    "Creating the model"
   ]
  },
  {
   "cell_type": "code",
   "execution_count": 34,
   "id": "4161d59e",
   "metadata": {},
   "outputs": [
    {
     "name": "stdout",
     "output_type": "stream",
     "text": [
      "Model: \"sequential_8\"\n",
      "_________________________________________________________________\n",
      " Layer (type)                Output Shape              Param #   \n",
      "=================================================================\n",
      " dense_24 (Dense)            (None, 256)               200960    \n",
      "                                                                 \n",
      " dense_25 (Dense)            (None, 128)               32896     \n",
      "                                                                 \n",
      " dense_26 (Dense)            (None, 4)                 516       \n",
      "                                                                 \n",
      "=================================================================\n",
      "Total params: 234,372\n",
      "Trainable params: 234,372\n",
      "Non-trainable params: 0\n",
      "_________________________________________________________________\n"
     ]
    }
   ],
   "source": [
    "model = Sequential()\n",
    "model.add(Dense(256, activation=\"softmax\", input_shape=(X_train.shape[1],)))\n",
    "model.add(Dense(128, activation=\"relu\"))\n",
    "model.add(Dense(4, activation=\"relu\"))\n",
    "model.compile(optimizer=\"adam\", loss=\"sparse_categorical_crossentropy\", metrics=[\"accuracy\"])\n",
    "model.summary()"
   ]
  },
  {
   "cell_type": "markdown",
   "id": "60c6d8d9",
   "metadata": {},
   "source": [
    "Training and evaluating the model"
   ]
  },
  {
   "cell_type": "code",
   "execution_count": 35,
   "id": "a3ecb128",
   "metadata": {},
   "outputs": [
    {
     "name": "stdout",
     "output_type": "stream",
     "text": [
      "Epoch 1/10\n",
      "100/100 [==============================] - 1s 6ms/step - loss: 1.4374 - accuracy: 0.2491\n",
      "Epoch 2/10\n",
      "100/100 [==============================] - 1s 5ms/step - loss: 1.3863 - accuracy: 0.2500\n",
      "Epoch 3/10\n",
      "100/100 [==============================] - 1s 6ms/step - loss: 1.3863 - accuracy: 0.2500\n",
      "Epoch 4/10\n",
      "100/100 [==============================] - 0s 5ms/step - loss: 1.3863 - accuracy: 0.2500\n",
      "Epoch 5/10\n",
      "100/100 [==============================] - 1s 6ms/step - loss: 1.3863 - accuracy: 0.2500\n",
      "Epoch 6/10\n",
      "100/100 [==============================] - 0s 4ms/step - loss: 1.3863 - accuracy: 0.2500\n",
      "Epoch 7/10\n",
      "100/100 [==============================] - 1s 5ms/step - loss: 1.3863 - accuracy: 0.2500\n",
      "Epoch 8/10\n",
      "100/100 [==============================] - 0s 5ms/step - loss: 1.3863 - accuracy: 0.2500\n",
      "Epoch 9/10\n",
      "100/100 [==============================] - 0s 4ms/step - loss: 1.3863 - accuracy: 0.2500\n",
      "Epoch 10/10\n",
      "100/100 [==============================] - 0s 5ms/step - loss: 1.3863 - accuracy: 0.2500\n",
      "25/25 [==============================] - 0s 4ms/step - loss: 1.3863 - accuracy: 0.2500\n",
      "Loss :  1.3862948417663574\n",
      "Accuracy :  0.25\n"
     ]
    }
   ],
   "source": [
    "history = model.fit(X_train, Y_train, epochs=10, batch_size=32)\n",
    "score = model.evaluate(X_test, Y_test)\n",
    "print(\"Loss : \", score[0])\n",
    "print(\"Accuracy : \", score[1])\n",
    "models_metrics[\"1-9\"] = [history, score, model]\n",
    "X_train = X_train_save\n",
    "X_test = X_test_save"
   ]
  },
  {
   "cell_type": "markdown",
   "id": "e4eac8d5",
   "metadata": {},
   "source": [
    "### Classifier : rank 1 - number 10"
   ]
  },
  {
   "cell_type": "markdown",
   "id": "f7fffbe4",
   "metadata": {},
   "source": [
    "Flattening the data of this classifier"
   ]
  },
  {
   "cell_type": "code",
   "execution_count": 36,
   "id": "a5a22123",
   "metadata": {},
   "outputs": [
    {
     "name": "stdout",
     "output_type": "stream",
     "text": [
      "X train shape : (3200, 784)\n",
      "X test shape : (800, 784)\n"
     ]
    }
   ],
   "source": [
    "X_train_save = X_train\n",
    "X_test_save = X_test\n",
    "X_train = X_train.reshape(X_train.shape[0], -1)\n",
    "X_test = X_test.reshape(X_test.shape[0], -1)\n",
    "print(\"X train shape :\",X_train.shape)\n",
    "print(\"X test shape :\",X_test.shape)"
   ]
  },
  {
   "cell_type": "markdown",
   "id": "cbd1fa41",
   "metadata": {},
   "source": [
    "Creating the model"
   ]
  },
  {
   "cell_type": "code",
   "execution_count": 37,
   "id": "f4c88c45",
   "metadata": {},
   "outputs": [
    {
     "name": "stdout",
     "output_type": "stream",
     "text": [
      "Model: \"sequential_9\"\n",
      "_________________________________________________________________\n",
      " Layer (type)                Output Shape              Param #   \n",
      "=================================================================\n",
      " dense_27 (Dense)            (None, 256)               200960    \n",
      "                                                                 \n",
      " dense_28 (Dense)            (None, 128)               32896     \n",
      "                                                                 \n",
      " dense_29 (Dense)            (None, 4)                 516       \n",
      "                                                                 \n",
      "=================================================================\n",
      "Total params: 234,372\n",
      "Trainable params: 234,372\n",
      "Non-trainable params: 0\n",
      "_________________________________________________________________\n"
     ]
    }
   ],
   "source": [
    "model = Sequential()\n",
    "model.add(Dense(256, activation=\"softmax\", input_shape=(X_train.shape[1],)))\n",
    "model.add(Dense(128, activation=\"sigmoid\"))\n",
    "model.add(Dense(4, activation=\"relu\"))\n",
    "model.compile(optimizer=\"adam\", loss=\"sparse_categorical_crossentropy\", metrics=[\"accuracy\"])\n",
    "model.summary()"
   ]
  },
  {
   "cell_type": "markdown",
   "id": "3a4496da",
   "metadata": {},
   "source": [
    "Training and evaluating the model"
   ]
  },
  {
   "cell_type": "code",
   "execution_count": 38,
   "id": "1c4a50e9",
   "metadata": {},
   "outputs": [
    {
     "name": "stdout",
     "output_type": "stream",
     "text": [
      "Epoch 1/10\n",
      "100/100 [==============================] - 2s 6ms/step - loss: 12.1541 - accuracy: 0.2459\n",
      "Epoch 2/10\n",
      "100/100 [==============================] - 1s 5ms/step - loss: 12.1541 - accuracy: 0.2459\n",
      "Epoch 3/10\n",
      "100/100 [==============================] - 1s 6ms/step - loss: 12.1541 - accuracy: 0.2459\n",
      "Epoch 4/10\n",
      "100/100 [==============================] - 1s 6ms/step - loss: 12.1541 - accuracy: 0.2459\n",
      "Epoch 5/10\n",
      "100/100 [==============================] - 1s 6ms/step - loss: 12.1541 - accuracy: 0.2459\n",
      "Epoch 6/10\n",
      "100/100 [==============================] - 1s 6ms/step - loss: 12.1541 - accuracy: 0.2459\n",
      "Epoch 7/10\n",
      "100/100 [==============================] - 1s 6ms/step - loss: 12.1541 - accuracy: 0.2459\n",
      "Epoch 8/10\n",
      "100/100 [==============================] - 1s 6ms/step - loss: 12.1540 - accuracy: 0.2459\n",
      "Epoch 9/10\n",
      "100/100 [==============================] - 1s 6ms/step - loss: 12.1541 - accuracy: 0.2459\n",
      "Epoch 10/10\n",
      "100/100 [==============================] - 1s 6ms/step - loss: 12.1541 - accuracy: 0.2459\n",
      "25/25 [==============================] - 0s 4ms/step - loss: 11.8267 - accuracy: 0.2663\n",
      "Loss :  11.826654434204102\n",
      "Accuracy :  0.26625001430511475\n"
     ]
    }
   ],
   "source": [
    "history = model.fit(X_train, Y_train, epochs=10, batch_size=32)\n",
    "score = model.evaluate(X_test, Y_test)\n",
    "print(\"Loss : \", score[0])\n",
    "print(\"Accuracy : \", score[1])\n",
    "models_metrics[\"1-10\"] = [history, score, model]\n",
    "X_train = X_train_save\n",
    "X_test = X_test_save"
   ]
  },
  {
   "cell_type": "markdown",
   "id": "4abaf3b1",
   "metadata": {},
   "source": [
    "### Classifier : rank 1 - number 11"
   ]
  },
  {
   "cell_type": "markdown",
   "id": "43c761af",
   "metadata": {},
   "source": [
    "Flattening the data of this classifier"
   ]
  },
  {
   "cell_type": "code",
   "execution_count": 39,
   "id": "86fa4e47",
   "metadata": {},
   "outputs": [
    {
     "name": "stdout",
     "output_type": "stream",
     "text": [
      "X train shape : (3200, 784)\n",
      "X test shape : (800, 784)\n"
     ]
    }
   ],
   "source": [
    "X_train_save = X_train\n",
    "X_test_save = X_test\n",
    "X_train = X_train.reshape(X_train.shape[0], -1)\n",
    "X_test = X_test.reshape(X_test.shape[0], -1)\n",
    "print(\"X train shape :\",X_train.shape)\n",
    "print(\"X test shape :\",X_test.shape)"
   ]
  },
  {
   "cell_type": "markdown",
   "id": "ae1fb34f",
   "metadata": {},
   "source": [
    "Creating the model"
   ]
  },
  {
   "cell_type": "code",
   "execution_count": 40,
   "id": "da702ec3",
   "metadata": {},
   "outputs": [
    {
     "name": "stdout",
     "output_type": "stream",
     "text": [
      "Model: \"sequential_10\"\n",
      "_________________________________________________________________\n",
      " Layer (type)                Output Shape              Param #   \n",
      "=================================================================\n",
      " dense_30 (Dense)            (None, 256)               200960    \n",
      "                                                                 \n",
      " dense_31 (Dense)            (None, 128)               32896     \n",
      "                                                                 \n",
      " dense_32 (Dense)            (None, 4)                 516       \n",
      "                                                                 \n",
      "=================================================================\n",
      "Total params: 234,372\n",
      "Trainable params: 234,372\n",
      "Non-trainable params: 0\n",
      "_________________________________________________________________\n"
     ]
    }
   ],
   "source": [
    "model = Sequential()\n",
    "model.add(Dense(256, activation=\"sigmoid\", input_shape=(X_train.shape[1],)))\n",
    "model.add(Dense(128, activation=\"relu\"))\n",
    "model.add(Dense(4, activation=\"relu\"))\n",
    "model.compile(optimizer=\"adam\", loss=\"sparse_categorical_crossentropy\", metrics=[\"accuracy\"])\n",
    "model.summary()"
   ]
  },
  {
   "cell_type": "markdown",
   "id": "2e9ac5c6",
   "metadata": {},
   "source": [
    "Training and evaluating the model"
   ]
  },
  {
   "cell_type": "code",
   "execution_count": 41,
   "id": "a8fbecc1",
   "metadata": {},
   "outputs": [
    {
     "name": "stdout",
     "output_type": "stream",
     "text": [
      "Epoch 1/10\n",
      "100/100 [==============================] - 2s 6ms/step - loss: 1.2584 - accuracy: 0.3997\n",
      "Epoch 2/10\n",
      "100/100 [==============================] - 1s 7ms/step - loss: 1.1091 - accuracy: 0.3819\n",
      "Epoch 3/10\n",
      "100/100 [==============================] - 1s 6ms/step - loss: 1.2356 - accuracy: 0.5275\n",
      "Epoch 4/10\n",
      "100/100 [==============================] - 1s 5ms/step - loss: 1.1697 - accuracy: 0.5462\n",
      "Epoch 5/10\n",
      "100/100 [==============================] - 0s 5ms/step - loss: 0.7837 - accuracy: 0.3262\n",
      "Epoch 6/10\n",
      "100/100 [==============================] - 1s 6ms/step - loss: 0.9433 - accuracy: 0.3109\n",
      "Epoch 7/10\n",
      "100/100 [==============================] - 1s 6ms/step - loss: 0.9851 - accuracy: 0.2547\n",
      "Epoch 8/10\n",
      "100/100 [==============================] - 0s 5ms/step - loss: 1.0495 - accuracy: 0.3366\n",
      "Epoch 9/10\n",
      "100/100 [==============================] - 1s 6ms/step - loss: 1.0752 - accuracy: 0.3547\n",
      "Epoch 10/10\n",
      "100/100 [==============================] - 1s 5ms/step - loss: 1.0062 - accuracy: 0.3959\n",
      "25/25 [==============================] - 0s 4ms/step - loss: 1.0029 - accuracy: 0.3862\n",
      "Loss :  1.0028728246688843\n",
      "Accuracy :  0.38624998927116394\n"
     ]
    }
   ],
   "source": [
    "history = model.fit(X_train, Y_train, epochs=10, batch_size=32)\n",
    "score = model.evaluate(X_test, Y_test)\n",
    "print(\"Loss : \", score[0])\n",
    "print(\"Accuracy : \", score[1])\n",
    "models_metrics[\"1-11\"] = [history, score, model]\n",
    "X_train = X_train_save\n",
    "X_test = X_test_save"
   ]
  },
  {
   "cell_type": "markdown",
   "id": "63445c0f",
   "metadata": {},
   "source": [
    "### Classifier : rank 1 - number 12"
   ]
  },
  {
   "cell_type": "markdown",
   "id": "ad9038b1",
   "metadata": {},
   "source": [
    "Flattening the data of this classifier"
   ]
  },
  {
   "cell_type": "code",
   "execution_count": 42,
   "id": "ccfbdbd0",
   "metadata": {},
   "outputs": [
    {
     "name": "stdout",
     "output_type": "stream",
     "text": [
      "X train shape : (3200, 784)\n",
      "X test shape : (800, 784)\n"
     ]
    }
   ],
   "source": [
    "X_train_save = X_train\n",
    "X_test_save = X_test\n",
    "X_train = X_train.reshape(X_train.shape[0], -1)\n",
    "X_test = X_test.reshape(X_test.shape[0], -1)\n",
    "print(\"X train shape :\",X_train.shape)\n",
    "print(\"X test shape :\",X_test.shape)"
   ]
  },
  {
   "cell_type": "markdown",
   "id": "8660e49c",
   "metadata": {},
   "source": [
    "Creating the model"
   ]
  },
  {
   "cell_type": "code",
   "execution_count": 43,
   "id": "9222809e",
   "metadata": {},
   "outputs": [
    {
     "name": "stdout",
     "output_type": "stream",
     "text": [
      "Model: \"sequential_11\"\n",
      "_________________________________________________________________\n",
      " Layer (type)                Output Shape              Param #   \n",
      "=================================================================\n",
      " dense_33 (Dense)            (None, 256)               200960    \n",
      "                                                                 \n",
      " dense_34 (Dense)            (None, 128)               32896     \n",
      "                                                                 \n",
      " dense_35 (Dense)            (None, 4)                 516       \n",
      "                                                                 \n",
      "=================================================================\n",
      "Total params: 234,372\n",
      "Trainable params: 234,372\n",
      "Non-trainable params: 0\n",
      "_________________________________________________________________\n"
     ]
    }
   ],
   "source": [
    "model = Sequential()\n",
    "model.add(Dense(256, activation=\"sigmoid\", input_shape=(X_train.shape[1],)))\n",
    "model.add(Dense(128, activation=\"sigmoid\"))\n",
    "model.add(Dense(4, activation=\"relu\"))\n",
    "model.compile(optimizer=\"adam\", loss=\"sparse_categorical_crossentropy\", metrics=[\"accuracy\"])\n",
    "model.summary()"
   ]
  },
  {
   "cell_type": "markdown",
   "id": "db626238",
   "metadata": {},
   "source": [
    "Training and evaluating the model"
   ]
  },
  {
   "cell_type": "code",
   "execution_count": 44,
   "id": "bc083875",
   "metadata": {},
   "outputs": [
    {
     "name": "stdout",
     "output_type": "stream",
     "text": [
      "Epoch 1/10\n",
      "100/100 [==============================] - 1s 5ms/step - loss: 8.5100 - accuracy: 0.2475\n",
      "Epoch 2/10\n",
      "100/100 [==============================] - 1s 7ms/step - loss: 8.3773 - accuracy: 0.2597\n",
      "Epoch 3/10\n",
      "100/100 [==============================] - 1s 6ms/step - loss: 8.4704 - accuracy: 0.3494\n",
      "Epoch 4/10\n",
      "100/100 [==============================] - 1s 6ms/step - loss: 8.4326 - accuracy: 0.3625\n",
      "Epoch 5/10\n",
      "100/100 [==============================] - 1s 6ms/step - loss: 8.3530 - accuracy: 0.3841\n",
      "Epoch 6/10\n",
      "100/100 [==============================] - 0s 5ms/step - loss: 8.3155 - accuracy: 0.3997\n",
      "Epoch 7/10\n",
      "100/100 [==============================] - 1s 5ms/step - loss: 8.3757 - accuracy: 0.4053\n",
      "Epoch 8/10\n",
      "100/100 [==============================] - 1s 6ms/step - loss: 8.3187 - accuracy: 0.4081\n",
      "Epoch 9/10\n",
      "100/100 [==============================] - 1s 6ms/step - loss: 8.3208 - accuracy: 0.4112\n",
      "Epoch 10/10\n",
      "100/100 [==============================] - 1s 6ms/step - loss: 8.3176 - accuracy: 0.4172\n",
      "25/25 [==============================] - 0s 3ms/step - loss: 8.3866 - accuracy: 0.4100\n",
      "Loss :  8.386631965637207\n",
      "Accuracy :  0.4099999964237213\n"
     ]
    }
   ],
   "source": [
    "history = model.fit(X_train, Y_train, epochs=10, batch_size=32)\n",
    "score = model.evaluate(X_test, Y_test)\n",
    "print(\"Loss : \", score[0])\n",
    "print(\"Accuracy : \", score[1])\n",
    "models_metrics[\"1-12\"] = [history, score, model]\n",
    "X_train = X_train_save\n",
    "X_test = X_test_save"
   ]
  },
  {
   "cell_type": "markdown",
   "id": "6cb12c5f",
   "metadata": {},
   "source": [
    "## Comparison of classifiers"
   ]
  },
  {
   "cell_type": "markdown",
   "id": "2e0af1a6",
   "metadata": {},
   "source": [
    "### Importing libraries"
   ]
  },
  {
   "cell_type": "code",
   "execution_count": 45,
   "id": "5d35a76a",
   "metadata": {},
   "outputs": [],
   "source": [
    "import matplotlib.pyplot as plt"
   ]
  },
  {
   "cell_type": "markdown",
   "id": "63648ba7",
   "metadata": {},
   "source": [
    "### Plotting the metrics"
   ]
  },
  {
   "cell_type": "markdown",
   "id": "0e79eb4f",
   "metadata": {},
   "source": [
    "#### Plot of the accuracy"
   ]
  },
  {
   "cell_type": "code",
   "execution_count": 46,
   "id": "b1432035",
   "metadata": {},
   "outputs": [
    {
     "data": {
      "image/png": "[encoded data removed]",
      "text/plain": [
       "<Figure size 640x480 with 1 Axes>"
      ]
     },
     "metadata": {},
     "output_type": "display_data"
    }
   ],
   "source": [
    "# Plot accuracy of the classifiers\n",
    "for key, value in models_metrics.items():\n",
    "\thistory = value[0]\n",
    "\tplt.plot(history.history['accuracy'])\n",
    "plt.title('model accuracy')\n",
    "plt.ylabel('accuracy')\n",
    "plt.xlabel('epoch')\n",
    "plt.legend(models_metrics.keys(), loc='upper left')\n",
    "plt.show()"
   ]
  },
  {
   "cell_type": "markdown",
   "id": "35fbd0e2",
   "metadata": {},
   "source": [
    "#### Plot of the loss"
   ]
  },
  {
   "cell_type": "code",
   "execution_count": 47,
   "id": "12f0af08",
   "metadata": {},
   "outputs": [
    {
     "data": {
      "image/png": "[encoded data removed]",
      "text/plain": [
       "<Figure size 640x480 with 1 Axes>"
      ]
     },
     "metadata": {},
     "output_type": "display_data"
    }
   ],
   "source": [
    "# Plot loss of the classifiers\n",
    "for key, value in models_metrics.items():\n",
    "\thistory = value[0]\n",
    "\tplt.plot(history.history['loss'])\n",
    "plt.title('model loss')\n",
    "plt.ylabel('loss')\n",
    "plt.xlabel('epoch')\n",
    "plt.legend(models_metrics.keys(), loc='upper left')\n",
    "plt.show()"
   ]
  },
  {
   "cell_type": "markdown",
   "id": "162e04e6",
   "metadata": {},
   "source": [
    "## Deploying the best model"
   ]
  },
  {
   "cell_type": "markdown",
   "id": "83640076",
   "metadata": {},
   "source": [
    "### Finding the best model according to the accuracy"
   ]
  },
  {
   "cell_type": "code",
   "execution_count": 48,
   "id": "2005a587",
   "metadata": {},
   "outputs": [
    {
     "name": "stdout",
     "output_type": "stream",
     "text": [
      "Best model accuracy: 0.4099999964237213\n"
     ]
    }
   ],
   "source": [
    "best_model = None        \n",
    "best_accuracy = 0        \n",
    "for key, value in models_metrics.items():            \n",
    "\taccuracy = value[1][1]            \n",
    "\tif accuracy > best_accuracy:                \n",
    "\t\tbest_accuracy = accuracy                \n",
    "\t\tbest_model = value[2]        \n",
    "print(f\"Best model accuracy: {best_accuracy}\")"
   ]
  },
  {
   "cell_type": "markdown",
   "id": "e17abb74",
   "metadata": {},
   "source": [
    "### Saving the best model"
   ]
  },
  {
   "cell_type": "code",
   "execution_count": 49,
   "id": "f7a469f5",
   "metadata": {},
   "outputs": [
    {
     "name": "stdout",
     "output_type": "stream",
     "text": [
      "The best model has been saved in the directory ../prediction-app/model/model.h5\n"
     ]
    }
   ],
   "source": [
    "best_model.save(\"../prediction-app/model/model.h5\")        \n",
    "print(\"The best model has been saved in the directory ../prediction-app/model/model.h5\")"
   ]
  },
  {
   "cell_type": "markdown",
   "id": "c9229e44",
   "metadata": {},
   "source": [
    "### Setting the name of the application"
   ]
  },
  {
   "cell_type": "code",
   "execution_count": 50,
   "id": "2ab18404",
   "metadata": {},
   "outputs": [],
   "source": [
    "with open(\"../prediction-app/.env\", \"w\") as file:        \n",
    "\tfile.write(\"APP_NAME=\\\"My Prediction App for Scenario 1\\\"\")"
   ]
  },
  {
   "cell_type": "markdown",
   "id": "cd09f781",
   "metadata": {},
   "source": [
    "### Instructions for running the application"
   ]
  },
  {
   "cell_type": "markdown",
   "id": "d93d0aa5",
   "metadata": {},
   "source": [
    "1. Open the terminal and go to the directory ../prediction-app"
   ]
  },
  {
   "cell_type": "markdown",
   "id": "d6cded5a",
   "metadata": {},
   "source": [
    "2. Run the command: steamlit run app.py"
   ]
  },
  {
   "cell_type": "markdown",
   "id": "d11aee6c",
   "metadata": {},
   "source": [
    "3. Open the browser and go to the address: http://localhost:8501"
   ]
  }
 ],
 "metadata": {
  "kernelspec": {
   "display_name": "Python 3",
   "language": "python",
   "name": "python3"
  },
  "language_info": {
   "codemirror_mode": {
    "name": "ipython",
    "version": 3
   },
   "file_extension": ".py",
   "mimetype": "text/x-python",
   "name": "python",
   "nbconvert_exporter": "python",
   "pygments_lexer": "ipython3",
   "version": "3.10.7"
  },
  "vscode": {
   "interpreter": {
    "hash": "beedbe2faf2f7048d727558d0bc3221e7eba2a0b921cac4d4771b2feb8f74b30"
   }
  }
 },
 "nbformat": 4,
 "nbformat_minor": 5
}
