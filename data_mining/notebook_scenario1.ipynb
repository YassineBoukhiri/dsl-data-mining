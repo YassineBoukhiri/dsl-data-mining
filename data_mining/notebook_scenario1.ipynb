{
 "cells": [
  {
   "cell_type": "markdown",
   "id": "0df18efc",
   "metadata": {},
   "source": [
    "# Automatic Jupyter Notebook : Scenario1\n",
    "This is an auto-generated notebook generated using the classifAI DSL on : 22/01/2023 17:42:30"
   ]
  },
  {
   "cell_type": "markdown",
   "id": "2dcc4e1a",
   "metadata": {},
   "source": [
    "## Selection of data"
   ]
  },
  {
   "cell_type": "code",
   "execution_count": null,
   "id": "aa654bbd",
   "metadata": {},
   "outputs": [],
   "source": [
    "import os\n",
    "import numpy as np\n",
    "from PIL import Image"
   ]
  },
  {
   "cell_type": "code",
   "execution_count": null,
   "id": "e70ac505",
   "metadata": {},
   "outputs": [],
   "source": [
    "X = []\n",
    "Y = []\n",
    "classes = ['0', '1', '2', '3']\n",
    "classes_count = {'0': 1000, '1': 1000, '2': 1000, '3': 1000}\n",
    "for class_ in classes:\n",
    "\tcount = 0\n",
    "\tfor file in os.listdir(f'input_data/' + class_):\n",
    "\t\tif count == classes_count[class_]:\n",
    "\t\t\tbreak\n",
    "\t\tX.append(np.array(Image.open(f'input_data/' + class_ + '/' + file)))\n",
    "\t\tY.append(class_)\n",
    "\t\tcount += 1\n",
    "X=np.array(X)\n",
    "Y=np.array(Y)\n",
    "print(\"X shape :\",X.shape)\n",
    "print(\"Y shape :\",Y.shape)"
   ]
  },
  {
   "cell_type": "code",
   "execution_count": null,
   "id": "5ff8b234",
   "metadata": {},
   "outputs": [],
   "source": [
    "from sklearn.model_selection import train_test_split\n",
    "X_train, X_test, Y_train, Y_test = train_test_split(X, Y, test_size=0.2)"
   ]
  },
  {
   "cell_type": "markdown",
   "id": "8f34f4f6",
   "metadata": {},
   "source": [
    "## Preprocessing of data"
   ]
  },
  {
   "cell_type": "code",
   "execution_count": null,
   "id": "01e04b94",
   "metadata": {},
   "outputs": [],
   "source": [
    "from sklearn.preprocessing import LabelEncoder\n",
    "le = LabelEncoder()\n",
    "Y_train = le.fit_transform(Y_train)\n",
    "Y_test = le.fit_transform(Y_test)"
   ]
  },
  {
   "cell_type": "markdown",
   "id": "630290f3",
   "metadata": {},
   "source": [
    "## Transformation of data"
   ]
  },
  {
   "cell_type": "markdown",
   "id": "9d4bcdba",
   "metadata": {},
   "source": [
    "### Normalization of data"
   ]
  },
  {
   "cell_type": "code",
   "execution_count": null,
   "id": "3666d86f",
   "metadata": {},
   "outputs": [],
   "source": [
    "# Making sure that the values are float so that we can get decimal points after division\n",
    "X_train = X_train.astype('float32')\n",
    "X_test = X_test.astype('float32')\n",
    "# Normalizing the RGB codes by dividing it to the max RGB value.\n",
    "X_train = X_train / 255\n",
    "X_test = X_test / 255\n",
    "print(\"X train shape :\",X_train.shape)\n",
    "print(\"X test shape :\",X_test.shape)"
   ]
  },
  {
   "cell_type": "markdown",
   "id": "7c0440b6",
   "metadata": {},
   "source": [
    "### Reshaping of data"
   ]
  },
  {
   "cell_type": "code",
   "execution_count": null,
   "id": "47b7415f",
   "metadata": {},
   "outputs": [],
   "source": [
    "X_train = X_train.reshape(X_train.shape[0], X_train.shape[1], X_train.shape[2], 1)\n",
    "X_test = X_test.reshape(X_test.shape[0], X_test.shape[1], X_test.shape[2], 1)\n",
    "print(\"X train shape :\",X_train.shape)\n",
    "print(\"X train shape :\",X_test.shape)"
   ]
  },
  {
   "cell_type": "markdown",
   "id": "0b43b1f0",
   "metadata": {},
   "source": [
    "## Data Mining"
   ]
  },
  {
   "cell_type": "code",
   "execution_count": null,
   "id": "d657309f",
   "metadata": {},
   "outputs": [],
   "source": [
    "from tensorflow.keras.models import Sequential\n",
    "from tensorflow.keras.layers import Dense"
   ]
  },
  {
   "cell_type": "markdown",
   "id": "d972c9b2",
   "metadata": {},
   "source": [
    "### Keeping track of the models and the metrics"
   ]
  },
  {
   "cell_type": "code",
   "execution_count": null,
   "id": "48453eae",
   "metadata": {},
   "outputs": [],
   "source": [
    "models_metrics = dict()"
   ]
  },
  {
   "cell_type": "markdown",
   "id": "fbcc6330",
   "metadata": {},
   "source": [
    "### Classifier : rank 1 - number 1"
   ]
  },
  {
   "cell_type": "markdown",
   "id": "16f332c1",
   "metadata": {},
   "source": [
    "Flattening the data of this classifier"
   ]
  },
  {
   "cell_type": "code",
   "execution_count": null,
   "id": "e99a4b7b",
   "metadata": {},
   "outputs": [],
   "source": [
    "X_train_save = X_train\n",
    "X_test_save = X_test\n",
    "X_train = X_train.reshape(X_train.shape[0], -1)\n",
    "X_test = X_test.reshape(X_test.shape[0], -1)\n",
    "print(\"X train shape :\",X_train.shape)\n",
    "print(\"X test shape :\",X_test.shape)"
   ]
  },
  {
   "cell_type": "markdown",
   "id": "a1d021f3",
   "metadata": {},
   "source": [
    "Creating the model"
   ]
  },
  {
   "cell_type": "code",
   "execution_count": null,
   "id": "13bf327c",
   "metadata": {},
   "outputs": [],
   "source": [
    "model = Sequential()\n",
    "model.add(Dense(128, activation=\"relu\", input_shape=(X_train.shape[1],)))\n",
    "model.add(Dense(128, activation=\"relu\"))\n",
    "model.add(Dense(4, activation=\"relu\"))\n",
    "model.compile(optimizer=\"adam\", loss=\"sparse_categorical_crossentropy\", metrics=[\"accuracy\"])\n",
    "model.summary()"
   ]
  },
  {
   "cell_type": "markdown",
   "id": "b249b070",
   "metadata": {},
   "source": [
    "Training and evaluating the model"
   ]
  },
  {
   "cell_type": "code",
   "execution_count": null,
   "id": "72891a47",
   "metadata": {},
   "outputs": [],
   "source": [
    "history = model.fit(X_train, Y_train, epochs=10, batch_size=32)\n",
    "score = model.evaluate(X_test, Y_test)\n",
    "print(\"Loss : \", score[0])\n",
    "print(\"Accuracy : \", score[1])\n",
    "models_metrics[\"1-1\"] = [history, score, model]\n",
    "X_train = X_train_save\n",
    "X_test = X_test_save"
   ]
  },
  {
   "cell_type": "markdown",
   "id": "d2a7768e",
   "metadata": {},
   "source": [
    "### Classifier : rank 1 - number 2"
   ]
  },
  {
   "cell_type": "markdown",
   "id": "531fa812",
   "metadata": {},
   "source": [
    "Flattening the data of this classifier"
   ]
  },
  {
   "cell_type": "code",
   "execution_count": null,
   "id": "30b3b321",
   "metadata": {},
   "outputs": [],
   "source": [
    "X_train_save = X_train\n",
    "X_test_save = X_test\n",
    "X_train = X_train.reshape(X_train.shape[0], -1)\n",
    "X_test = X_test.reshape(X_test.shape[0], -1)\n",
    "print(\"X train shape :\",X_train.shape)\n",
    "print(\"X test shape :\",X_test.shape)"
   ]
  },
  {
   "cell_type": "markdown",
   "id": "b0624d24",
   "metadata": {},
   "source": [
    "Creating the model"
   ]
  },
  {
   "cell_type": "code",
   "execution_count": null,
   "id": "e51963c3",
   "metadata": {},
   "outputs": [],
   "source": [
    "model = Sequential()\n",
    "model.add(Dense(128, activation=\"relu\", input_shape=(X_train.shape[1],)))\n",
    "model.add(Dense(128, activation=\"sigmoid\"))\n",
    "model.add(Dense(4, activation=\"relu\"))\n",
    "model.compile(optimizer=\"adam\", loss=\"sparse_categorical_crossentropy\", metrics=[\"accuracy\"])\n",
    "model.summary()"
   ]
  },
  {
   "cell_type": "markdown",
   "id": "72e07b7d",
   "metadata": {},
   "source": [
    "Training and evaluating the model"
   ]
  },
  {
   "cell_type": "code",
   "execution_count": null,
   "id": "845f5417",
   "metadata": {},
   "outputs": [],
   "source": [
    "history = model.fit(X_train, Y_train, epochs=10, batch_size=32)\n",
    "score = model.evaluate(X_test, Y_test)\n",
    "print(\"Loss : \", score[0])\n",
    "print(\"Accuracy : \", score[1])\n",
    "models_metrics[\"1-2\"] = [history, score, model]\n",
    "X_train = X_train_save\n",
    "X_test = X_test_save"
   ]
  },
  {
   "cell_type": "markdown",
   "id": "00cfbfe9",
   "metadata": {},
   "source": [
    "### Classifier : rank 1 - number 3"
   ]
  },
  {
   "cell_type": "markdown",
   "id": "097b7daa",
   "metadata": {},
   "source": [
    "Flattening the data of this classifier"
   ]
  },
  {
   "cell_type": "code",
   "execution_count": null,
   "id": "9fff7e7c",
   "metadata": {},
   "outputs": [],
   "source": [
    "X_train_save = X_train\n",
    "X_test_save = X_test\n",
    "X_train = X_train.reshape(X_train.shape[0], -1)\n",
    "X_test = X_test.reshape(X_test.shape[0], -1)\n",
    "print(\"X train shape :\",X_train.shape)\n",
    "print(\"X test shape :\",X_test.shape)"
   ]
  },
  {
   "cell_type": "markdown",
   "id": "c4723bf7",
   "metadata": {},
   "source": [
    "Creating the model"
   ]
  },
  {
   "cell_type": "code",
   "execution_count": null,
   "id": "1514819e",
   "metadata": {},
   "outputs": [],
   "source": [
    "model = Sequential()\n",
    "model.add(Dense(128, activation=\"softmax\", input_shape=(X_train.shape[1],)))\n",
    "model.add(Dense(128, activation=\"relu\"))\n",
    "model.add(Dense(4, activation=\"relu\"))\n",
    "model.compile(optimizer=\"adam\", loss=\"sparse_categorical_crossentropy\", metrics=[\"accuracy\"])\n",
    "model.summary()"
   ]
  },
  {
   "cell_type": "markdown",
   "id": "81e6352c",
   "metadata": {},
   "source": [
    "Training and evaluating the model"
   ]
  },
  {
   "cell_type": "code",
   "execution_count": null,
   "id": "87c6b2a7",
   "metadata": {},
   "outputs": [],
   "source": [
    "history = model.fit(X_train, Y_train, epochs=10, batch_size=32)\n",
    "score = model.evaluate(X_test, Y_test)\n",
    "print(\"Loss : \", score[0])\n",
    "print(\"Accuracy : \", score[1])\n",
    "models_metrics[\"1-3\"] = [history, score, model]\n",
    "X_train = X_train_save\n",
    "X_test = X_test_save"
   ]
  },
  {
   "cell_type": "markdown",
   "id": "e47570c5",
   "metadata": {},
   "source": [
    "### Classifier : rank 1 - number 4"
   ]
  },
  {
   "cell_type": "markdown",
   "id": "99217d1a",
   "metadata": {},
   "source": [
    "Flattening the data of this classifier"
   ]
  },
  {
   "cell_type": "code",
   "execution_count": null,
   "id": "b2785bb5",
   "metadata": {},
   "outputs": [],
   "source": [
    "X_train_save = X_train\n",
    "X_test_save = X_test\n",
    "X_train = X_train.reshape(X_train.shape[0], -1)\n",
    "X_test = X_test.reshape(X_test.shape[0], -1)\n",
    "print(\"X train shape :\",X_train.shape)\n",
    "print(\"X test shape :\",X_test.shape)"
   ]
  },
  {
   "cell_type": "markdown",
   "id": "1a834f6f",
   "metadata": {},
   "source": [
    "Creating the model"
   ]
  },
  {
   "cell_type": "code",
   "execution_count": null,
   "id": "62580c8d",
   "metadata": {},
   "outputs": [],
   "source": [
    "model = Sequential()\n",
    "model.add(Dense(128, activation=\"softmax\", input_shape=(X_train.shape[1],)))\n",
    "model.add(Dense(128, activation=\"sigmoid\"))\n",
    "model.add(Dense(4, activation=\"relu\"))\n",
    "model.compile(optimizer=\"adam\", loss=\"sparse_categorical_crossentropy\", metrics=[\"accuracy\"])\n",
    "model.summary()"
   ]
  },
  {
   "cell_type": "markdown",
   "id": "decee9de",
   "metadata": {},
   "source": [
    "Training and evaluating the model"
   ]
  },
  {
   "cell_type": "code",
   "execution_count": null,
   "id": "e8fd8f5a",
   "metadata": {},
   "outputs": [],
   "source": [
    "history = model.fit(X_train, Y_train, epochs=10, batch_size=32)\n",
    "score = model.evaluate(X_test, Y_test)\n",
    "print(\"Loss : \", score[0])\n",
    "print(\"Accuracy : \", score[1])\n",
    "models_metrics[\"1-4\"] = [history, score, model]\n",
    "X_train = X_train_save\n",
    "X_test = X_test_save"
   ]
  },
  {
   "cell_type": "markdown",
   "id": "137ae3c9",
   "metadata": {},
   "source": [
    "### Classifier : rank 1 - number 5"
   ]
  },
  {
   "cell_type": "markdown",
   "id": "ca5e20e0",
   "metadata": {},
   "source": [
    "Flattening the data of this classifier"
   ]
  },
  {
   "cell_type": "code",
   "execution_count": null,
   "id": "ffe42711",
   "metadata": {},
   "outputs": [],
   "source": [
    "X_train_save = X_train\n",
    "X_test_save = X_test\n",
    "X_train = X_train.reshape(X_train.shape[0], -1)\n",
    "X_test = X_test.reshape(X_test.shape[0], -1)\n",
    "print(\"X train shape :\",X_train.shape)\n",
    "print(\"X test shape :\",X_test.shape)"
   ]
  },
  {
   "cell_type": "markdown",
   "id": "6d7ccbe9",
   "metadata": {},
   "source": [
    "Creating the model"
   ]
  },
  {
   "cell_type": "code",
   "execution_count": null,
   "id": "58aad229",
   "metadata": {},
   "outputs": [],
   "source": [
    "model = Sequential()\n",
    "model.add(Dense(128, activation=\"sigmoid\", input_shape=(X_train.shape[1],)))\n",
    "model.add(Dense(128, activation=\"relu\"))\n",
    "model.add(Dense(4, activation=\"relu\"))\n",
    "model.compile(optimizer=\"adam\", loss=\"sparse_categorical_crossentropy\", metrics=[\"accuracy\"])\n",
    "model.summary()"
   ]
  },
  {
   "cell_type": "markdown",
   "id": "7f6f9574",
   "metadata": {},
   "source": [
    "Training and evaluating the model"
   ]
  },
  {
   "cell_type": "code",
   "execution_count": null,
   "id": "88495afb",
   "metadata": {},
   "outputs": [],
   "source": [
    "history = model.fit(X_train, Y_train, epochs=10, batch_size=32)\n",
    "score = model.evaluate(X_test, Y_test)\n",
    "print(\"Loss : \", score[0])\n",
    "print(\"Accuracy : \", score[1])\n",
    "models_metrics[\"1-5\"] = [history, score, model]\n",
    "X_train = X_train_save\n",
    "X_test = X_test_save"
   ]
  },
  {
   "cell_type": "markdown",
   "id": "6f375a93",
   "metadata": {},
   "source": [
    "### Classifier : rank 1 - number 6"
   ]
  },
  {
   "cell_type": "markdown",
   "id": "3d860e04",
   "metadata": {},
   "source": [
    "Flattening the data of this classifier"
   ]
  },
  {
   "cell_type": "code",
   "execution_count": null,
   "id": "ac43ed78",
   "metadata": {},
   "outputs": [],
   "source": [
    "X_train_save = X_train\n",
    "X_test_save = X_test\n",
    "X_train = X_train.reshape(X_train.shape[0], -1)\n",
    "X_test = X_test.reshape(X_test.shape[0], -1)\n",
    "print(\"X train shape :\",X_train.shape)\n",
    "print(\"X test shape :\",X_test.shape)"
   ]
  },
  {
   "cell_type": "markdown",
   "id": "21f2ddba",
   "metadata": {},
   "source": [
    "Creating the model"
   ]
  },
  {
   "cell_type": "code",
   "execution_count": null,
   "id": "822de81e",
   "metadata": {},
   "outputs": [],
   "source": [
    "model = Sequential()\n",
    "model.add(Dense(128, activation=\"sigmoid\", input_shape=(X_train.shape[1],)))\n",
    "model.add(Dense(128, activation=\"sigmoid\"))\n",
    "model.add(Dense(4, activation=\"relu\"))\n",
    "model.compile(optimizer=\"adam\", loss=\"sparse_categorical_crossentropy\", metrics=[\"accuracy\"])\n",
    "model.summary()"
   ]
  },
  {
   "cell_type": "markdown",
   "id": "ad384ba2",
   "metadata": {},
   "source": [
    "Training and evaluating the model"
   ]
  },
  {
   "cell_type": "code",
   "execution_count": null,
   "id": "ae368455",
   "metadata": {},
   "outputs": [],
   "source": [
    "history = model.fit(X_train, Y_train, epochs=10, batch_size=32)\n",
    "score = model.evaluate(X_test, Y_test)\n",
    "print(\"Loss : \", score[0])\n",
    "print(\"Accuracy : \", score[1])\n",
    "models_metrics[\"1-6\"] = [history, score, model]\n",
    "X_train = X_train_save\n",
    "X_test = X_test_save"
   ]
  },
  {
   "cell_type": "markdown",
   "id": "699ef9c0",
   "metadata": {},
   "source": [
    "### Classifier : rank 1 - number 7"
   ]
  },
  {
   "cell_type": "markdown",
   "id": "723f4746",
   "metadata": {},
   "source": [
    "Flattening the data of this classifier"
   ]
  },
  {
   "cell_type": "code",
   "execution_count": null,
   "id": "fa7817fc",
   "metadata": {},
   "outputs": [],
   "source": [
    "X_train_save = X_train\n",
    "X_test_save = X_test\n",
    "X_train = X_train.reshape(X_train.shape[0], -1)\n",
    "X_test = X_test.reshape(X_test.shape[0], -1)\n",
    "print(\"X train shape :\",X_train.shape)\n",
    "print(\"X test shape :\",X_test.shape)"
   ]
  },
  {
   "cell_type": "markdown",
   "id": "f3db246e",
   "metadata": {},
   "source": [
    "Creating the model"
   ]
  },
  {
   "cell_type": "code",
   "execution_count": null,
   "id": "2994914c",
   "metadata": {},
   "outputs": [],
   "source": [
    "model = Sequential()\n",
    "model.add(Dense(256, activation=\"relu\", input_shape=(X_train.shape[1],)))\n",
    "model.add(Dense(128, activation=\"relu\"))\n",
    "model.add(Dense(4, activation=\"relu\"))\n",
    "model.compile(optimizer=\"adam\", loss=\"sparse_categorical_crossentropy\", metrics=[\"accuracy\"])\n",
    "model.summary()"
   ]
  },
  {
   "cell_type": "markdown",
   "id": "76a99d6e",
   "metadata": {},
   "source": [
    "Training and evaluating the model"
   ]
  },
  {
   "cell_type": "code",
   "execution_count": null,
   "id": "4b7204d3",
   "metadata": {},
   "outputs": [],
   "source": [
    "history = model.fit(X_train, Y_train, epochs=10, batch_size=32)\n",
    "score = model.evaluate(X_test, Y_test)\n",
    "print(\"Loss : \", score[0])\n",
    "print(\"Accuracy : \", score[1])\n",
    "models_metrics[\"1-7\"] = [history, score, model]\n",
    "X_train = X_train_save\n",
    "X_test = X_test_save"
   ]
  },
  {
   "cell_type": "markdown",
   "id": "11a64016",
   "metadata": {},
   "source": [
    "### Classifier : rank 1 - number 8"
   ]
  },
  {
   "cell_type": "markdown",
   "id": "54cd64c1",
   "metadata": {},
   "source": [
    "Flattening the data of this classifier"
   ]
  },
  {
   "cell_type": "code",
   "execution_count": null,
   "id": "e86cf325",
   "metadata": {},
   "outputs": [],
   "source": [
    "X_train_save = X_train\n",
    "X_test_save = X_test\n",
    "X_train = X_train.reshape(X_train.shape[0], -1)\n",
    "X_test = X_test.reshape(X_test.shape[0], -1)\n",
    "print(\"X train shape :\",X_train.shape)\n",
    "print(\"X test shape :\",X_test.shape)"
   ]
  },
  {
   "cell_type": "markdown",
   "id": "72a163b0",
   "metadata": {},
   "source": [
    "Creating the model"
   ]
  },
  {
   "cell_type": "code",
   "execution_count": null,
   "id": "0f02bee3",
   "metadata": {},
   "outputs": [],
   "source": [
    "model = Sequential()\n",
    "model.add(Dense(256, activation=\"relu\", input_shape=(X_train.shape[1],)))\n",
    "model.add(Dense(128, activation=\"sigmoid\"))\n",
    "model.add(Dense(4, activation=\"relu\"))\n",
    "model.compile(optimizer=\"adam\", loss=\"sparse_categorical_crossentropy\", metrics=[\"accuracy\"])\n",
    "model.summary()"
   ]
  },
  {
   "cell_type": "markdown",
   "id": "e5d063fb",
   "metadata": {},
   "source": [
    "Training and evaluating the model"
   ]
  },
  {
   "cell_type": "code",
   "execution_count": null,
   "id": "4c03c653",
   "metadata": {},
   "outputs": [],
   "source": [
    "history = model.fit(X_train, Y_train, epochs=10, batch_size=32)\n",
    "score = model.evaluate(X_test, Y_test)\n",
    "print(\"Loss : \", score[0])\n",
    "print(\"Accuracy : \", score[1])\n",
    "models_metrics[\"1-8\"] = [history, score, model]\n",
    "X_train = X_train_save\n",
    "X_test = X_test_save"
   ]
  },
  {
   "cell_type": "markdown",
   "id": "db66d685",
   "metadata": {},
   "source": [
    "### Classifier : rank 1 - number 9"
   ]
  },
  {
   "cell_type": "markdown",
   "id": "fd21ef18",
   "metadata": {},
   "source": [
    "Flattening the data of this classifier"
   ]
  },
  {
   "cell_type": "code",
   "execution_count": null,
   "id": "3ed2ebcb",
   "metadata": {},
   "outputs": [],
   "source": [
    "X_train_save = X_train\n",
    "X_test_save = X_test\n",
    "X_train = X_train.reshape(X_train.shape[0], -1)\n",
    "X_test = X_test.reshape(X_test.shape[0], -1)\n",
    "print(\"X train shape :\",X_train.shape)\n",
    "print(\"X test shape :\",X_test.shape)"
   ]
  },
  {
   "cell_type": "markdown",
   "id": "2cea0acc",
   "metadata": {},
   "source": [
    "Creating the model"
   ]
  },
  {
   "cell_type": "code",
   "execution_count": null,
   "id": "4161d59e",
   "metadata": {},
   "outputs": [],
   "source": [
    "model = Sequential()\n",
    "model.add(Dense(256, activation=\"softmax\", input_shape=(X_train.shape[1],)))\n",
    "model.add(Dense(128, activation=\"relu\"))\n",
    "model.add(Dense(4, activation=\"relu\"))\n",
    "model.compile(optimizer=\"adam\", loss=\"sparse_categorical_crossentropy\", metrics=[\"accuracy\"])\n",
    "model.summary()"
   ]
  },
  {
   "cell_type": "markdown",
   "id": "60c6d8d9",
   "metadata": {},
   "source": [
    "Training and evaluating the model"
   ]
  },
  {
   "cell_type": "code",
   "execution_count": null,
   "id": "a3ecb128",
   "metadata": {},
   "outputs": [],
   "source": [
    "history = model.fit(X_train, Y_train, epochs=10, batch_size=32)\n",
    "score = model.evaluate(X_test, Y_test)\n",
    "print(\"Loss : \", score[0])\n",
    "print(\"Accuracy : \", score[1])\n",
    "models_metrics[\"1-9\"] = [history, score, model]\n",
    "X_train = X_train_save\n",
    "X_test = X_test_save"
   ]
  },
  {
   "cell_type": "markdown",
   "id": "e4eac8d5",
   "metadata": {},
   "source": [
    "### Classifier : rank 1 - number 10"
   ]
  },
  {
   "cell_type": "markdown",
   "id": "f7fffbe4",
   "metadata": {},
   "source": [
    "Flattening the data of this classifier"
   ]
  },
  {
   "cell_type": "code",
   "execution_count": null,
   "id": "a5a22123",
   "metadata": {},
   "outputs": [],
   "source": [
    "X_train_save = X_train\n",
    "X_test_save = X_test\n",
    "X_train = X_train.reshape(X_train.shape[0], -1)\n",
    "X_test = X_test.reshape(X_test.shape[0], -1)\n",
    "print(\"X train shape :\",X_train.shape)\n",
    "print(\"X test shape :\",X_test.shape)"
   ]
  },
  {
   "cell_type": "markdown",
   "id": "cbd1fa41",
   "metadata": {},
   "source": [
    "Creating the model"
   ]
  },
  {
   "cell_type": "code",
   "execution_count": null,
   "id": "f4c88c45",
   "metadata": {},
   "outputs": [],
   "source": [
    "model = Sequential()\n",
    "model.add(Dense(256, activation=\"softmax\", input_shape=(X_train.shape[1],)))\n",
    "model.add(Dense(128, activation=\"sigmoid\"))\n",
    "model.add(Dense(4, activation=\"relu\"))\n",
    "model.compile(optimizer=\"adam\", loss=\"sparse_categorical_crossentropy\", metrics=[\"accuracy\"])\n",
    "model.summary()"
   ]
  },
  {
   "cell_type": "markdown",
   "id": "3a4496da",
   "metadata": {},
   "source": [
    "Training and evaluating the model"
   ]
  },
  {
   "cell_type": "code",
   "execution_count": null,
   "id": "1c4a50e9",
   "metadata": {},
   "outputs": [],
   "source": [
    "history = model.fit(X_train, Y_train, epochs=10, batch_size=32)\n",
    "score = model.evaluate(X_test, Y_test)\n",
    "print(\"Loss : \", score[0])\n",
    "print(\"Accuracy : \", score[1])\n",
    "models_metrics[\"1-10\"] = [history, score, model]\n",
    "X_train = X_train_save\n",
    "X_test = X_test_save"
   ]
  },
  {
   "cell_type": "markdown",
   "id": "4abaf3b1",
   "metadata": {},
   "source": [
    "### Classifier : rank 1 - number 11"
   ]
  },
  {
   "cell_type": "markdown",
   "id": "43c761af",
   "metadata": {},
   "source": [
    "Flattening the data of this classifier"
   ]
  },
  {
   "cell_type": "code",
   "execution_count": null,
   "id": "86fa4e47",
   "metadata": {},
   "outputs": [],
   "source": [
    "X_train_save = X_train\n",
    "X_test_save = X_test\n",
    "X_train = X_train.reshape(X_train.shape[0], -1)\n",
    "X_test = X_test.reshape(X_test.shape[0], -1)\n",
    "print(\"X train shape :\",X_train.shape)\n",
    "print(\"X test shape :\",X_test.shape)"
   ]
  },
  {
   "cell_type": "markdown",
   "id": "ae1fb34f",
   "metadata": {},
   "source": [
    "Creating the model"
   ]
  },
  {
   "cell_type": "code",
   "execution_count": null,
   "id": "da702ec3",
   "metadata": {},
   "outputs": [],
   "source": [
    "model = Sequential()\n",
    "model.add(Dense(256, activation=\"sigmoid\", input_shape=(X_train.shape[1],)))\n",
    "model.add(Dense(128, activation=\"relu\"))\n",
    "model.add(Dense(4, activation=\"relu\"))\n",
    "model.compile(optimizer=\"adam\", loss=\"sparse_categorical_crossentropy\", metrics=[\"accuracy\"])\n",
    "model.summary()"
   ]
  },
  {
   "cell_type": "markdown",
   "id": "2e9ac5c6",
   "metadata": {},
   "source": [
    "Training and evaluating the model"
   ]
  },
  {
   "cell_type": "code",
   "execution_count": null,
   "id": "a8fbecc1",
   "metadata": {},
   "outputs": [],
   "source": [
    "history = model.fit(X_train, Y_train, epochs=10, batch_size=32)\n",
    "score = model.evaluate(X_test, Y_test)\n",
    "print(\"Loss : \", score[0])\n",
    "print(\"Accuracy : \", score[1])\n",
    "models_metrics[\"1-11\"] = [history, score, model]\n",
    "X_train = X_train_save\n",
    "X_test = X_test_save"
   ]
  },
  {
   "cell_type": "markdown",
   "id": "63445c0f",
   "metadata": {},
   "source": [
    "### Classifier : rank 1 - number 12"
   ]
  },
  {
   "cell_type": "markdown",
   "id": "ad9038b1",
   "metadata": {},
   "source": [
    "Flattening the data of this classifier"
   ]
  },
  {
   "cell_type": "code",
   "execution_count": null,
   "id": "ccfbdbd0",
   "metadata": {},
   "outputs": [],
   "source": [
    "X_train_save = X_train\n",
    "X_test_save = X_test\n",
    "X_train = X_train.reshape(X_train.shape[0], -1)\n",
    "X_test = X_test.reshape(X_test.shape[0], -1)\n",
    "print(\"X train shape :\",X_train.shape)\n",
    "print(\"X test shape :\",X_test.shape)"
   ]
  },
  {
   "cell_type": "markdown",
   "id": "8660e49c",
   "metadata": {},
   "source": [
    "Creating the model"
   ]
  },
  {
   "cell_type": "code",
   "execution_count": null,
   "id": "9222809e",
   "metadata": {},
   "outputs": [],
   "source": [
    "model = Sequential()\n",
    "model.add(Dense(256, activation=\"sigmoid\", input_shape=(X_train.shape[1],)))\n",
    "model.add(Dense(128, activation=\"sigmoid\"))\n",
    "model.add(Dense(4, activation=\"relu\"))\n",
    "model.compile(optimizer=\"adam\", loss=\"sparse_categorical_crossentropy\", metrics=[\"accuracy\"])\n",
    "model.summary()"
   ]
  },
  {
   "cell_type": "markdown",
   "id": "db626238",
   "metadata": {},
   "source": [
    "Training and evaluating the model"
   ]
  },
  {
   "cell_type": "code",
   "execution_count": null,
   "id": "bc083875",
   "metadata": {},
   "outputs": [],
   "source": [
    "history = model.fit(X_train, Y_train, epochs=10, batch_size=32)\n",
    "score = model.evaluate(X_test, Y_test)\n",
    "print(\"Loss : \", score[0])\n",
    "print(\"Accuracy : \", score[1])\n",
    "models_metrics[\"1-12\"] = [history, score, model]\n",
    "X_train = X_train_save\n",
    "X_test = X_test_save"
   ]
  },
  {
   "cell_type": "markdown",
   "id": "6cb12c5f",
   "metadata": {},
   "source": [
    "## Comparison of classifiers"
   ]
  },
  {
   "cell_type": "markdown",
   "id": "2e0af1a6",
   "metadata": {},
   "source": [
    "### Importing libraries"
   ]
  },
  {
   "cell_type": "code",
   "execution_count": null,
   "id": "5d35a76a",
   "metadata": {},
   "outputs": [],
   "source": [
    "import matplotlib.pyplot as plt"
   ]
  },
  {
   "cell_type": "markdown",
   "id": "63648ba7",
   "metadata": {},
   "source": [
    "### Plotting the metrics"
   ]
  },
  {
   "cell_type": "markdown",
   "id": "0e79eb4f",
   "metadata": {},
   "source": [
    "#### Plot of the accuracy"
   ]
  },
  {
   "cell_type": "code",
   "execution_count": null,
   "id": "b1432035",
   "metadata": {},
   "outputs": [],
   "source": [
    "# Plot accuracy of the classifiers\n",
    "for key, value in models_metrics.items():\n",
    "\thistory = value[0]\n",
    "\tplt.plot(history.history['accuracy'])\n",
    "plt.title('model accuracy')\n",
    "plt.ylabel('accuracy')\n",
    "plt.xlabel('epoch')\n",
    "plt.legend(models_metrics.keys(), loc='upper left')\n",
    "plt.show()"
   ]
  },
  {
   "cell_type": "markdown",
   "id": "35fbd0e2",
   "metadata": {},
   "source": [
    "#### Plot of the loss"
   ]
  },
  {
   "cell_type": "code",
   "execution_count": null,
   "id": "12f0af08",
   "metadata": {},
   "outputs": [],
   "source": [
    "# Plot loss of the classifiers\n",
    "for key, value in models_metrics.items():\n",
    "\thistory = value[0]\n",
    "\tplt.plot(history.history['loss'])\n",
    "plt.title('model loss')\n",
    "plt.ylabel('loss')\n",
    "plt.xlabel('epoch')\n",
    "plt.legend(models_metrics.keys(), loc='upper left')\n",
    "plt.show()"
   ]
  },
  {
   "cell_type": "markdown",
   "id": "162e04e6",
   "metadata": {},
   "source": [
    "## Deploying the best model"
   ]
  },
  {
   "cell_type": "markdown",
   "id": "83640076",
   "metadata": {},
   "source": [
    "### Finding the best model according to the accuracy"
   ]
  },
  {
   "cell_type": "code",
   "execution_count": null,
   "id": "2005a587",
   "metadata": {},
   "outputs": [],
   "source": [
    "best_model = None        \n",
    "best_accuracy = 0        \n",
    "for key, value in models_metrics.items():            \n",
    "\taccuracy = value[1][1]            \n",
    "\tif accuracy > best_accuracy:                \n",
    "\t\tbest_accuracy = accuracy                \n",
    "\t\tbest_model = value[2]        \n",
    "print(f\"Best model accuracy: {best_accuracy}\")"
   ]
  },
  {
   "cell_type": "markdown",
   "id": "e17abb74",
   "metadata": {},
   "source": [
    "### Saving the best model"
   ]
  },
  {
   "cell_type": "code",
   "execution_count": null,
   "id": "f7a469f5",
   "metadata": {},
   "outputs": [],
   "source": [
    "best_model.save(\"../prediction-app/model/model.h5\")        \n",
    "print(\"The best model has been saved in the directory ../prediction-app/model/model.h5\")"
   ]
  },
  {
   "cell_type": "markdown",
   "id": "c9229e44",
   "metadata": {},
   "source": [
    "### Setting the name of the application"
   ]
  },
  {
   "cell_type": "code",
   "execution_count": null,
   "id": "2ab18404",
   "metadata": {},
   "outputs": [],
   "source": [
    "with open(\"../prediction-app/.env\", \"w\") as file:        \n",
    "\tfile.write(\"APP_NAME=\\\"My Prediction App for Scenario 1\\\"\")"
   ]
  },
  {
   "cell_type": "markdown",
   "id": "cd09f781",
   "metadata": {},
   "source": [
    "### Instructions for running the application"
   ]
  },
  {
   "cell_type": "markdown",
   "id": "d93d0aa5",
   "metadata": {},
   "source": [
    "1. Open the terminal and go to the directory ../prediction-app"
   ]
  },
  {
   "cell_type": "markdown",
   "id": "d6cded5a",
   "metadata": {},
   "source": [
    "2. Run the command: steamlit run app.py"
   ]
  },
  {
   "cell_type": "markdown",
   "id": "d11aee6c",
   "metadata": {},
   "source": [
    "3. Open the browser and go to the address: http://localhost:8501"
   ]
  }
 ],
 "metadata": {},
 "nbformat": 4,
 "nbformat_minor": 5
}
