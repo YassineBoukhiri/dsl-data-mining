{
 "cells": [
  {
   "cell_type": "markdown",
   "id": "ba49a70e",
   "metadata": {},
   "source": [
    "# Automatic Jupyter Notebook : Scenario3\n",
    "This is an auto-generated notebook generated using the classifAI DSL on : 22/01/2023 18:30:44"
   ]
  },
  {
   "cell_type": "markdown",
   "id": "b728a7b4",
   "metadata": {},
   "source": [
    "## Selection of data"
   ]
  },
  {
   "cell_type": "code",
   "execution_count": 40,
   "id": "ad8cc94e",
   "metadata": {},
   "outputs": [],
   "source": [
    "import os\n",
    "import numpy as np\n",
    "from PIL import Image"
   ]
  },
  {
   "cell_type": "code",
   "execution_count": 41,
   "id": "9c739322",
   "metadata": {},
   "outputs": [
    {
     "name": "stdout",
     "output_type": "stream",
     "text": [
      "X shape : (4000, 28, 28)\n",
      "Y shape : (4000,)\n"
     ]
    }
   ],
   "source": [
    "X = []\n",
    "Y = []\n",
    "classes = ['0', '1', '2', '3']\n",
    "classes_count = {'0': 1000, '1': 1000, '2': 1000, '3': 1000}\n",
    "for class_ in classes:\n",
    "\tcount = 0\n",
    "\tfor file in os.listdir(f'input_data/' + class_):\n",
    "\t\tif count == classes_count[class_]:\n",
    "\t\t\tbreak\n",
    "\t\tX.append(np.array(Image.open(f'input_data/' + class_ + '/' + file)))\n",
    "\t\tY.append(class_)\n",
    "\t\tcount += 1\n",
    "X=np.array(X)\n",
    "Y=np.array(Y)\n",
    "print(\"X shape :\",X.shape)\n",
    "print(\"Y shape :\",Y.shape)"
   ]
  },
  {
   "cell_type": "code",
   "execution_count": 42,
   "id": "18b6dd4a",
   "metadata": {},
   "outputs": [],
   "source": [
    "from sklearn.model_selection import train_test_split\n",
    "X_train, X_test, Y_train, Y_test = train_test_split(X, Y, test_size=0.2)"
   ]
  },
  {
   "cell_type": "markdown",
   "id": "58c339b6",
   "metadata": {},
   "source": [
    "## Preprocessing of data"
   ]
  },
  {
   "cell_type": "code",
   "execution_count": 43,
   "id": "3f01c6ab",
   "metadata": {},
   "outputs": [],
   "source": [
    "from sklearn.preprocessing import LabelEncoder\n",
    "le = LabelEncoder()\n",
    "Y_train = le.fit_transform(Y_train)\n",
    "Y_test = le.fit_transform(Y_test)"
   ]
  },
  {
   "cell_type": "markdown",
   "id": "8f1a34b4",
   "metadata": {},
   "source": [
    "## Transformation of data"
   ]
  },
  {
   "cell_type": "markdown",
   "id": "c72074e0",
   "metadata": {},
   "source": [
    "### Normalization of data"
   ]
  },
  {
   "cell_type": "code",
   "execution_count": 44,
   "id": "18f5b8e8",
   "metadata": {},
   "outputs": [
    {
     "name": "stdout",
     "output_type": "stream",
     "text": [
      "X train shape : (3200, 28, 28)\n",
      "X test shape : (800, 28, 28)\n"
     ]
    }
   ],
   "source": [
    "# Making sure that the values are float so that we can get decimal points after division\n",
    "X_train = X_train.astype('float32')\n",
    "X_test = X_test.astype('float32')\n",
    "# Normalizing the RGB codes by dividing it to the max RGB value.\n",
    "X_train = X_train / 255\n",
    "X_test = X_test / 255\n",
    "print(\"X train shape :\",X_train.shape)\n",
    "print(\"X test shape :\",X_test.shape)"
   ]
  },
  {
   "cell_type": "markdown",
   "id": "845c24dc",
   "metadata": {},
   "source": [
    "### Reshaping of data"
   ]
  },
  {
   "cell_type": "code",
   "execution_count": 45,
   "id": "30b00b92",
   "metadata": {},
   "outputs": [
    {
     "name": "stdout",
     "output_type": "stream",
     "text": [
      "X train shape : (3200, 28, 28, 1)\n",
      "X train shape : (800, 28, 28, 1)\n"
     ]
    }
   ],
   "source": [
    "X_train = X_train.reshape(X_train.shape[0], 28, 28, 1)\n",
    "X_test = X_test.reshape(X_test.shape[0], 28, 28, 1)\n",
    "print(\"X train shape :\",X_train.shape)\n",
    "print(\"X train shape :\",X_test.shape)"
   ]
  },
  {
   "cell_type": "markdown",
   "id": "de6a1459",
   "metadata": {},
   "source": [
    "## Data Mining"
   ]
  },
  {
   "cell_type": "code",
   "execution_count": 46,
   "id": "69e0eedc",
   "metadata": {},
   "outputs": [],
   "source": [
    "from tensorflow.keras.models import Sequential\n",
    "from tensorflow.keras.layers import Dense\n",
    "from tensorflow.keras.layers import Conv2D\n",
    "from tensorflow.keras.layers import MaxPooling2D\n",
    "from tensorflow.keras.layers import Flatten"
   ]
  },
  {
   "cell_type": "markdown",
   "id": "f1baf40c",
   "metadata": {},
   "source": [
    "### Keeping track of the models and the metrics"
   ]
  },
  {
   "cell_type": "code",
   "execution_count": 47,
   "id": "0a158fc3",
   "metadata": {},
   "outputs": [],
   "source": [
    "models_metrics = dict()"
   ]
  },
  {
   "cell_type": "markdown",
   "id": "f327d874",
   "metadata": {},
   "source": [
    "### Classifier : rank 1 - number 1"
   ]
  },
  {
   "cell_type": "markdown",
   "id": "3575947e",
   "metadata": {},
   "source": [
    "Reshaping the data of this classifier"
   ]
  },
  {
   "cell_type": "code",
   "execution_count": 48,
   "id": "b3aaaf42",
   "metadata": {},
   "outputs": [
    {
     "name": "stdout",
     "output_type": "stream",
     "text": [
      "X train shape : (3200, 28, 28, 1)\n",
      "X test shape : (800, 28, 28, 1)\n"
     ]
    }
   ],
   "source": [
    "X_train_save = X_train\n",
    "X_test_save = X_test\n",
    "X_train = X_train.reshape(X_train.shape[0], X_train.shape[1], X_train.shape[2], 1)\n",
    "X_test = X_test.reshape(X_test.shape[0], X_test.shape[1], X_test.shape[2], 1)\n",
    "print(\"X train shape :\",X_train.shape)\n",
    "print(\"X test shape :\",X_test.shape)"
   ]
  },
  {
   "cell_type": "markdown",
   "id": "343d78da",
   "metadata": {},
   "source": [
    "Creating the model"
   ]
  },
  {
   "cell_type": "code",
   "execution_count": 49,
   "id": "2fc608d1",
   "metadata": {},
   "outputs": [
    {
     "name": "stdout",
     "output_type": "stream",
     "text": [
      "Model: \"sequential_4\"\n",
      "_________________________________________________________________\n",
      " Layer (type)                Output Shape              Param #   \n",
      "=================================================================\n",
      " conv2d_8 (Conv2D)           (None, 26, 26, 32)        320       \n",
      "                                                                 \n",
      " max_pooling2d_8 (MaxPooling  (None, 13, 13, 32)       0         \n",
      " 2D)                                                             \n",
      "                                                                 \n",
      " conv2d_9 (Conv2D)           (None, 11, 11, 48)        13872     \n",
      "                                                                 \n",
      " max_pooling2d_9 (MaxPooling  (None, 5, 5, 48)         0         \n",
      " 2D)                                                             \n",
      "                                                                 \n",
      " flatten_4 (Flatten)         (None, 1200)              0         \n",
      "                                                                 \n",
      " dense_8 (Dense)             (None, 128)               153728    \n",
      "                                                                 \n",
      " dense_9 (Dense)             (None, 10)                1290      \n",
      "                                                                 \n",
      "=================================================================\n",
      "Total params: 169,210\n",
      "Trainable params: 169,210\n",
      "Non-trainable params: 0\n",
      "_________________________________________________________________\n"
     ]
    }
   ],
   "source": [
    "model = Sequential()\n",
    "model.add(Conv2D(32, kernel_size=(3, 3), activation=\"relu\", input_shape=X_train.shape[1:]))\n",
    "model.add(MaxPooling2D((2, 2)))\n",
    "model.add(Conv2D(48, kernel_size=(3, 3), activation=\"relu\"))\n",
    "model.add(MaxPooling2D((2, 2)))\n",
    "model.add(Flatten())\n",
    "model.add(Dense(128, activation=\"relu\"))\n",
    "model.add(Dense(10, activation=\"relu\"))\n",
    "model.compile(optimizer=\"adam\", loss=\"sparse_categorical_crossentropy\", metrics=[\"accuracy\"])\n",
    "model.summary()"
   ]
  },
  {
   "cell_type": "markdown",
   "id": "1fec6978",
   "metadata": {},
   "source": [
    "Training and evaluating the model"
   ]
  },
  {
   "cell_type": "code",
   "execution_count": 50,
   "id": "67dbd8a5",
   "metadata": {},
   "outputs": [
    {
     "name": "stdout",
     "output_type": "stream",
     "text": [
      "Epoch 1/10\n",
      "100/100 [==============================] - 4s 26ms/step - loss: 1.3077 - accuracy: 0.7197\n",
      "Epoch 2/10\n",
      "100/100 [==============================] - 3s 29ms/step - loss: 0.7743 - accuracy: 0.8381\n",
      "Epoch 3/10\n",
      "100/100 [==============================] - 3s 29ms/step - loss: 2.0874 - accuracy: 0.3309\n",
      "Epoch 4/10\n",
      "100/100 [==============================] - 3s 29ms/step - loss: 2.1025 - accuracy: 0.3347\n",
      "Epoch 5/10\n",
      "100/100 [==============================] - 3s 30ms/step - loss: 2.0457 - accuracy: 0.3578\n",
      "Epoch 6/10\n",
      "100/100 [==============================] - 3s 30ms/step - loss: 2.0486 - accuracy: 0.3597\n",
      "Epoch 7/10\n",
      "100/100 [==============================] - 3s 29ms/step - loss: 2.1133 - accuracy: 0.3284\n",
      "Epoch 8/10\n",
      "100/100 [==============================] - 3s 28ms/step - loss: 2.0507 - accuracy: 0.3556\n",
      "Epoch 9/10\n",
      "100/100 [==============================] - 3s 30ms/step - loss: 1.9938 - accuracy: 0.3819\n",
      "Epoch 10/10\n",
      "100/100 [==============================] - 3s 30ms/step - loss: 1.9982 - accuracy: 0.3784\n",
      "25/25 [==============================] - 1s 10ms/step - loss: 1.9898 - accuracy: 0.4062\n",
      "Loss :  1.9897509813308716\n",
      "Accuracy :  0.40625\n"
     ]
    }
   ],
   "source": [
    "history = model.fit(X_train, Y_train, epochs=10, batch_size=32)\n",
    "score = model.evaluate(X_test, Y_test)\n",
    "print(\"Loss : \", score[0])\n",
    "print(\"Accuracy : \", score[1])\n",
    "models_metrics[\"1-1\"] = [history, score, model]\n",
    "X_train = X_train_save\n",
    "X_test = X_test_save"
   ]
  },
  {
   "cell_type": "markdown",
   "id": "508fc79a",
   "metadata": {},
   "source": [
    "### Classifier : rank 1 - number 2"
   ]
  },
  {
   "cell_type": "markdown",
   "id": "aa4e8fd4",
   "metadata": {},
   "source": [
    "Reshaping the data of this classifier"
   ]
  },
  {
   "cell_type": "code",
   "execution_count": 51,
   "id": "6f96a485",
   "metadata": {},
   "outputs": [
    {
     "name": "stdout",
     "output_type": "stream",
     "text": [
      "X train shape : (3200, 28, 28, 1)\n",
      "X test shape : (800, 28, 28, 1)\n"
     ]
    }
   ],
   "source": [
    "X_train_save = X_train\n",
    "X_test_save = X_test\n",
    "X_train = X_train.reshape(X_train.shape[0], X_train.shape[1], X_train.shape[2], 1)\n",
    "X_test = X_test.reshape(X_test.shape[0], X_test.shape[1], X_test.shape[2], 1)\n",
    "print(\"X train shape :\",X_train.shape)\n",
    "print(\"X test shape :\",X_test.shape)"
   ]
  },
  {
   "cell_type": "markdown",
   "id": "46327da1",
   "metadata": {},
   "source": [
    "Creating the model"
   ]
  },
  {
   "cell_type": "code",
   "execution_count": 52,
   "id": "daabf60b",
   "metadata": {},
   "outputs": [
    {
     "name": "stdout",
     "output_type": "stream",
     "text": [
      "Model: \"sequential_5\"\n",
      "_________________________________________________________________\n",
      " Layer (type)                Output Shape              Param #   \n",
      "=================================================================\n",
      " conv2d_10 (Conv2D)          (None, 26, 26, 32)        320       \n",
      "                                                                 \n",
      " max_pooling2d_10 (MaxPoolin  (None, 13, 13, 32)       0         \n",
      " g2D)                                                            \n",
      "                                                                 \n",
      " conv2d_11 (Conv2D)          (None, 11, 11, 48)        13872     \n",
      "                                                                 \n",
      " max_pooling2d_11 (MaxPoolin  (None, 5, 5, 48)         0         \n",
      " g2D)                                                            \n",
      "                                                                 \n",
      " flatten_5 (Flatten)         (None, 1200)              0         \n",
      "                                                                 \n",
      " dense_10 (Dense)            (None, 128)               153728    \n",
      "                                                                 \n",
      " dense_11 (Dense)            (None, 10)                1290      \n",
      "                                                                 \n",
      "=================================================================\n",
      "Total params: 169,210\n",
      "Trainable params: 169,210\n",
      "Non-trainable params: 0\n",
      "_________________________________________________________________\n"
     ]
    }
   ],
   "source": [
    "model = Sequential()\n",
    "model.add(Conv2D(32, kernel_size=(3, 3), activation=\"relu\", input_shape=X_train.shape[1:]))\n",
    "model.add(MaxPooling2D((2, 2)))\n",
    "model.add(Conv2D(48, kernel_size=(3, 3), activation=\"relu\"))\n",
    "model.add(MaxPooling2D((2, 2)))\n",
    "model.add(Flatten())\n",
    "model.add(Dense(128, activation=\"sigmoid\"))\n",
    "model.add(Dense(10, activation=\"relu\"))\n",
    "model.compile(optimizer=\"adam\", loss=\"sparse_categorical_crossentropy\", metrics=[\"accuracy\"])\n",
    "model.summary()"
   ]
  },
  {
   "cell_type": "markdown",
   "id": "72802dc4",
   "metadata": {},
   "source": [
    "Training and evaluating the model"
   ]
  },
  {
   "cell_type": "code",
   "execution_count": 53,
   "id": "94972315",
   "metadata": {},
   "outputs": [
    {
     "name": "stdout",
     "output_type": "stream",
     "text": [
      "Epoch 1/10\n",
      "100/100 [==============================] - 4s 26ms/step - loss: 9.0476 - accuracy: 0.1722\n",
      "Epoch 2/10\n",
      "100/100 [==============================] - 3s 30ms/step - loss: 8.5493 - accuracy: 0.1916\n",
      "Epoch 3/10\n",
      "100/100 [==============================] - 3s 29ms/step - loss: 8.4993 - accuracy: 0.2875\n",
      "Epoch 4/10\n",
      "100/100 [==============================] - 3s 31ms/step - loss: 8.6584 - accuracy: 0.3284\n",
      "Epoch 5/10\n",
      "100/100 [==============================] - 3s 29ms/step - loss: 8.9029 - accuracy: 0.2519\n",
      "Epoch 6/10\n",
      "100/100 [==============================] - 3s 31ms/step - loss: 9.1471 - accuracy: 0.3416\n",
      "Epoch 7/10\n",
      "100/100 [==============================] - 3s 28ms/step - loss: 9.0238 - accuracy: 0.2791\n",
      "Epoch 8/10\n",
      "100/100 [==============================] - 3s 29ms/step - loss: 8.8997 - accuracy: 0.2519\n",
      "Epoch 9/10\n",
      "100/100 [==============================] - 3s 30ms/step - loss: 8.8980 - accuracy: 0.2522\n",
      "Epoch 10/10\n",
      "100/100 [==============================] - 3s 29ms/step - loss: 8.8971 - accuracy: 0.2522\n",
      "25/25 [==============================] - 1s 12ms/step - loss: 8.7050 - accuracy: 0.2537\n",
      "Loss :  8.705011367797852\n",
      "Accuracy :  0.2537499964237213\n"
     ]
    }
   ],
   "source": [
    "history = model.fit(X_train, Y_train, epochs=10, batch_size=32)\n",
    "score = model.evaluate(X_test, Y_test)\n",
    "print(\"Loss : \", score[0])\n",
    "print(\"Accuracy : \", score[1])\n",
    "models_metrics[\"1-2\"] = [history, score, model]\n",
    "X_train = X_train_save\n",
    "X_test = X_test_save"
   ]
  },
  {
   "cell_type": "markdown",
   "id": "257162ce",
   "metadata": {},
   "source": [
    "### Classifier : rank 1 - number 3"
   ]
  },
  {
   "cell_type": "markdown",
   "id": "0f8c8958",
   "metadata": {},
   "source": [
    "Reshaping the data of this classifier"
   ]
  },
  {
   "cell_type": "code",
   "execution_count": 54,
   "id": "f780db4d",
   "metadata": {},
   "outputs": [
    {
     "name": "stdout",
     "output_type": "stream",
     "text": [
      "X train shape : (3200, 28, 28, 1)\n",
      "X test shape : (800, 28, 28, 1)\n"
     ]
    }
   ],
   "source": [
    "X_train_save = X_train\n",
    "X_test_save = X_test\n",
    "X_train = X_train.reshape(X_train.shape[0], X_train.shape[1], X_train.shape[2], 1)\n",
    "X_test = X_test.reshape(X_test.shape[0], X_test.shape[1], X_test.shape[2], 1)\n",
    "print(\"X train shape :\",X_train.shape)\n",
    "print(\"X test shape :\",X_test.shape)"
   ]
  },
  {
   "cell_type": "markdown",
   "id": "5d2ebeda",
   "metadata": {},
   "source": [
    "Creating the model"
   ]
  },
  {
   "cell_type": "code",
   "execution_count": 55,
   "id": "580a6421",
   "metadata": {},
   "outputs": [
    {
     "name": "stdout",
     "output_type": "stream",
     "text": [
      "Model: \"sequential_6\"\n",
      "_________________________________________________________________\n",
      " Layer (type)                Output Shape              Param #   \n",
      "=================================================================\n",
      " conv2d_12 (Conv2D)          (None, 26, 26, 32)        320       \n",
      "                                                                 \n",
      " max_pooling2d_12 (MaxPoolin  (None, 13, 13, 32)       0         \n",
      " g2D)                                                            \n",
      "                                                                 \n",
      " conv2d_13 (Conv2D)          (None, 11, 11, 48)        13872     \n",
      "                                                                 \n",
      " max_pooling2d_13 (MaxPoolin  (None, 5, 5, 48)         0         \n",
      " g2D)                                                            \n",
      "                                                                 \n",
      " flatten_6 (Flatten)         (None, 1200)              0         \n",
      "                                                                 \n",
      " dense_12 (Dense)            (None, 128)               153728    \n",
      "                                                                 \n",
      " dense_13 (Dense)            (None, 10)                1290      \n",
      "                                                                 \n",
      "=================================================================\n",
      "Total params: 169,210\n",
      "Trainable params: 169,210\n",
      "Non-trainable params: 0\n",
      "_________________________________________________________________\n"
     ]
    }
   ],
   "source": [
    "model = Sequential()\n",
    "model.add(Conv2D(32, kernel_size=(3, 3), activation=\"relu\", input_shape=X_train.shape[1:]))\n",
    "model.add(MaxPooling2D((2, 2)))\n",
    "model.add(Conv2D(48, kernel_size=(3, 3), activation=\"relu\"))\n",
    "model.add(MaxPooling2D((2, 2)))\n",
    "model.add(Flatten())\n",
    "model.add(Dense(128, activation=\"softmax\"))\n",
    "model.add(Dense(10, activation=\"relu\"))\n",
    "model.compile(optimizer=\"adam\", loss=\"sparse_categorical_crossentropy\", metrics=[\"accuracy\"])\n",
    "model.summary()"
   ]
  },
  {
   "cell_type": "markdown",
   "id": "b5eeea50",
   "metadata": {},
   "source": [
    "Training and evaluating the model"
   ]
  },
  {
   "cell_type": "code",
   "execution_count": 56,
   "id": "a598a89f",
   "metadata": {},
   "outputs": [
    {
     "name": "stdout",
     "output_type": "stream",
     "text": [
      "Epoch 1/10\n",
      "100/100 [==============================] - 4s 27ms/step - loss: 2.2765 - accuracy: 0.3719\n",
      "Epoch 2/10\n",
      "100/100 [==============================] - 3s 33ms/step - loss: 2.3026 - accuracy: 0.2463\n",
      "Epoch 3/10\n",
      "100/100 [==============================] - 3s 32ms/step - loss: 2.3026 - accuracy: 0.2463\n",
      "Epoch 4/10\n",
      "100/100 [==============================] - 3s 32ms/step - loss: 2.3026 - accuracy: 0.2463\n",
      "Epoch 5/10\n",
      "100/100 [==============================] - 3s 31ms/step - loss: 2.3026 - accuracy: 0.2463\n",
      "Epoch 6/10\n",
      "100/100 [==============================] - 3s 33ms/step - loss: 2.3026 - accuracy: 0.2463\n",
      "Epoch 7/10\n",
      "100/100 [==============================] - 3s 34ms/step - loss: 2.3026 - accuracy: 0.2463\n",
      "Epoch 8/10\n",
      "100/100 [==============================] - 3s 31ms/step - loss: 2.3026 - accuracy: 0.2463\n",
      "Epoch 9/10\n",
      "100/100 [==============================] - 3s 31ms/step - loss: 2.3026 - accuracy: 0.2463\n",
      "Epoch 10/10\n",
      "100/100 [==============================] - 3s 33ms/step - loss: 2.3026 - accuracy: 0.2463\n",
      "25/25 [==============================] - 1s 12ms/step - loss: 2.3026 - accuracy: 0.2650\n",
      "Loss :  2.3025853633880615\n",
      "Accuracy :  0.26499998569488525\n"
     ]
    }
   ],
   "source": [
    "history = model.fit(X_train, Y_train, epochs=10, batch_size=32)\n",
    "score = model.evaluate(X_test, Y_test)\n",
    "print(\"Loss : \", score[0])\n",
    "print(\"Accuracy : \", score[1])\n",
    "models_metrics[\"1-3\"] = [history, score, model]\n",
    "X_train = X_train_save\n",
    "X_test = X_test_save"
   ]
  },
  {
   "cell_type": "markdown",
   "id": "0d809e3c",
   "metadata": {},
   "source": [
    "### Classifier : rank 2 - number 1"
   ]
  },
  {
   "cell_type": "markdown",
   "id": "2f04cbae",
   "metadata": {},
   "source": [
    "Flattening the data of this classifier"
   ]
  },
  {
   "cell_type": "code",
   "execution_count": 57,
   "id": "aff5c4ef",
   "metadata": {},
   "outputs": [
    {
     "name": "stdout",
     "output_type": "stream",
     "text": [
      "X train shape : (3200, 784)\n",
      "X test shape : (800, 784)\n"
     ]
    }
   ],
   "source": [
    "X_train_save = X_train\n",
    "X_test_save = X_test\n",
    "X_train = X_train.reshape(X_train.shape[0], -1)\n",
    "X_test = X_test.reshape(X_test.shape[0], -1)\n",
    "print(\"X train shape :\",X_train.shape)\n",
    "print(\"X test shape :\",X_test.shape)"
   ]
  },
  {
   "cell_type": "markdown",
   "id": "b046c227",
   "metadata": {},
   "source": [
    "Creating the model"
   ]
  },
  {
   "cell_type": "code",
   "execution_count": 58,
   "id": "1bb257db",
   "metadata": {},
   "outputs": [
    {
     "name": "stdout",
     "output_type": "stream",
     "text": [
      "Model: \"sequential_7\"\n",
      "_________________________________________________________________\n",
      " Layer (type)                Output Shape              Param #   \n",
      "=================================================================\n",
      " dense_14 (Dense)            (None, 128)               100480    \n",
      "                                                                 \n",
      " dense_15 (Dense)            (None, 4)                 516       \n",
      "                                                                 \n",
      "=================================================================\n",
      "Total params: 100,996\n",
      "Trainable params: 100,996\n",
      "Non-trainable params: 0\n",
      "_________________________________________________________________\n"
     ]
    }
   ],
   "source": [
    "model = Sequential()\n",
    "model.add(Dense(128, activation=\"relu\", input_shape=(X_train.shape[1],)))\n",
    "model.add(Dense(4, activation=\"relu\"))\n",
    "model.compile(optimizer=\"adam\", loss=\"sparse_categorical_crossentropy\", metrics=[\"accuracy\"])\n",
    "model.summary()"
   ]
  },
  {
   "cell_type": "markdown",
   "id": "251870af",
   "metadata": {},
   "source": [
    "Training and evaluating the model"
   ]
  },
  {
   "cell_type": "code",
   "execution_count": 59,
   "id": "a0cf1601",
   "metadata": {},
   "outputs": [
    {
     "name": "stdout",
     "output_type": "stream",
     "text": [
      "Epoch 1/10\n",
      "100/100 [==============================] - 2s 6ms/step - loss: 1.3651 - accuracy: 0.4119\n",
      "Epoch 2/10\n",
      "100/100 [==============================] - 0s 5ms/step - loss: 1.2126 - accuracy: 0.3716\n",
      "Epoch 3/10\n",
      "100/100 [==============================] - 0s 5ms/step - loss: 1.2056 - accuracy: 0.3766\n",
      "Epoch 4/10\n",
      "100/100 [==============================] - 1s 7ms/step - loss: 1.1697 - accuracy: 0.4025\n",
      "Epoch 5/10\n",
      "100/100 [==============================] - 1s 6ms/step - loss: 1.2828 - accuracy: 0.3266\n",
      "Epoch 6/10\n",
      "100/100 [==============================] - 1s 6ms/step - loss: 1.3274 - accuracy: 0.2887\n",
      "Epoch 7/10\n",
      "100/100 [==============================] - 1s 5ms/step - loss: 1.3243 - accuracy: 0.2909\n",
      "Epoch 8/10\n",
      "100/100 [==============================] - 1s 5ms/step - loss: 1.3230 - accuracy: 0.2919\n",
      "Epoch 9/10\n",
      "100/100 [==============================] - 1s 5ms/step - loss: 1.3230 - accuracy: 0.2919\n",
      "Epoch 10/10\n",
      "100/100 [==============================] - 0s 5ms/step - loss: 1.3230 - accuracy: 0.2919\n",
      "25/25 [==============================] - 0s 3ms/step - loss: 1.3222 - accuracy: 0.3113\n",
      "Loss :  1.3221784830093384\n",
      "Accuracy :  0.3112500011920929\n"
     ]
    }
   ],
   "source": [
    "history = model.fit(X_train, Y_train, epochs=10, batch_size=32)\n",
    "score = model.evaluate(X_test, Y_test)\n",
    "print(\"Loss : \", score[0])\n",
    "print(\"Accuracy : \", score[1])\n",
    "models_metrics[\"2-1\"] = [history, score, model]\n",
    "X_train = X_train_save\n",
    "X_test = X_test_save"
   ]
  },
  {
   "cell_type": "markdown",
   "id": "3564b0b8",
   "metadata": {},
   "source": [
    "### Classifier : rank 2 - number 2"
   ]
  },
  {
   "cell_type": "markdown",
   "id": "217c6c9f",
   "metadata": {},
   "source": [
    "Flattening the data of this classifier"
   ]
  },
  {
   "cell_type": "code",
   "execution_count": 60,
   "id": "39e10db0",
   "metadata": {},
   "outputs": [
    {
     "name": "stdout",
     "output_type": "stream",
     "text": [
      "X train shape : (3200, 784)\n",
      "X test shape : (800, 784)\n"
     ]
    }
   ],
   "source": [
    "X_train_save = X_train\n",
    "X_test_save = X_test\n",
    "X_train = X_train.reshape(X_train.shape[0], -1)\n",
    "X_test = X_test.reshape(X_test.shape[0], -1)\n",
    "print(\"X train shape :\",X_train.shape)\n",
    "print(\"X test shape :\",X_test.shape)"
   ]
  },
  {
   "cell_type": "markdown",
   "id": "73493876",
   "metadata": {},
   "source": [
    "Creating the model"
   ]
  },
  {
   "cell_type": "code",
   "execution_count": 61,
   "id": "25ebd46c",
   "metadata": {},
   "outputs": [
    {
     "name": "stdout",
     "output_type": "stream",
     "text": [
      "Model: \"sequential_8\"\n",
      "_________________________________________________________________\n",
      " Layer (type)                Output Shape              Param #   \n",
      "=================================================================\n",
      " dense_16 (Dense)            (None, 128)               100480    \n",
      "                                                                 \n",
      " dense_17 (Dense)            (None, 4)                 516       \n",
      "                                                                 \n",
      "=================================================================\n",
      "Total params: 100,996\n",
      "Trainable params: 100,996\n",
      "Non-trainable params: 0\n",
      "_________________________________________________________________\n"
     ]
    }
   ],
   "source": [
    "model = Sequential()\n",
    "model.add(Dense(128, activation=\"sigmoid\", input_shape=(X_train.shape[1],)))\n",
    "model.add(Dense(4, activation=\"relu\"))\n",
    "model.compile(optimizer=\"adam\", loss=\"sparse_categorical_crossentropy\", metrics=[\"accuracy\"])\n",
    "model.summary()"
   ]
  },
  {
   "cell_type": "markdown",
   "id": "49bacaa4",
   "metadata": {},
   "source": [
    "Training and evaluating the model"
   ]
  },
  {
   "cell_type": "code",
   "execution_count": 62,
   "id": "79c939c5",
   "metadata": {},
   "outputs": [
    {
     "name": "stdout",
     "output_type": "stream",
     "text": [
      "Epoch 1/10\n",
      "100/100 [==============================] - 1s 5ms/step - loss: 1.5567 - accuracy: 0.2463\n",
      "Epoch 2/10\n",
      "100/100 [==============================] - 1s 5ms/step - loss: 1.3863 - accuracy: 0.2463\n",
      "Epoch 3/10\n",
      "100/100 [==============================] - 0s 4ms/step - loss: 1.3863 - accuracy: 0.2463\n",
      "Epoch 4/10\n",
      "100/100 [==============================] - 0s 4ms/step - loss: 1.3863 - accuracy: 0.2463\n",
      "Epoch 5/10\n",
      "100/100 [==============================] - 0s 4ms/step - loss: 1.3863 - accuracy: 0.2463\n",
      "Epoch 6/10\n",
      "100/100 [==============================] - 0s 4ms/step - loss: 1.3863 - accuracy: 0.2463\n",
      "Epoch 7/10\n",
      "100/100 [==============================] - 0s 4ms/step - loss: 1.3863 - accuracy: 0.2463\n",
      "Epoch 8/10\n",
      "100/100 [==============================] - 0s 4ms/step - loss: 1.3863 - accuracy: 0.2463\n",
      "Epoch 9/10\n",
      "100/100 [==============================] - 0s 5ms/step - loss: 1.3863 - accuracy: 0.2463\n",
      "Epoch 10/10\n",
      "100/100 [==============================] - 1s 5ms/step - loss: 1.3863 - accuracy: 0.2463\n",
      "25/25 [==============================] - 0s 4ms/step - loss: 1.3863 - accuracy: 0.2650\n",
      "Loss :  1.3862948417663574\n",
      "Accuracy :  0.26499998569488525\n"
     ]
    }
   ],
   "source": [
    "history = model.fit(X_train, Y_train, epochs=10, batch_size=32)\n",
    "score = model.evaluate(X_test, Y_test)\n",
    "print(\"Loss : \", score[0])\n",
    "print(\"Accuracy : \", score[1])\n",
    "models_metrics[\"2-2\"] = [history, score, model]\n",
    "X_train = X_train_save\n",
    "X_test = X_test_save"
   ]
  },
  {
   "cell_type": "markdown",
   "id": "646d48af",
   "metadata": {},
   "source": [
    "### Classifier : rank 2 - number 3"
   ]
  },
  {
   "cell_type": "markdown",
   "id": "bf1a3d1c",
   "metadata": {},
   "source": [
    "Flattening the data of this classifier"
   ]
  },
  {
   "cell_type": "code",
   "execution_count": 63,
   "id": "7bd136d4",
   "metadata": {},
   "outputs": [
    {
     "name": "stdout",
     "output_type": "stream",
     "text": [
      "X train shape : (3200, 784)\n",
      "X test shape : (800, 784)\n"
     ]
    }
   ],
   "source": [
    "X_train_save = X_train\n",
    "X_test_save = X_test\n",
    "X_train = X_train.reshape(X_train.shape[0], -1)\n",
    "X_test = X_test.reshape(X_test.shape[0], -1)\n",
    "print(\"X train shape :\",X_train.shape)\n",
    "print(\"X test shape :\",X_test.shape)"
   ]
  },
  {
   "cell_type": "markdown",
   "id": "42fc2c0f",
   "metadata": {},
   "source": [
    "Creating the model"
   ]
  },
  {
   "cell_type": "code",
   "execution_count": 64,
   "id": "ce49adc7",
   "metadata": {},
   "outputs": [
    {
     "name": "stdout",
     "output_type": "stream",
     "text": [
      "Model: \"sequential_9\"\n",
      "_________________________________________________________________\n",
      " Layer (type)                Output Shape              Param #   \n",
      "=================================================================\n",
      " dense_18 (Dense)            (None, 128)               100480    \n",
      "                                                                 \n",
      " dense_19 (Dense)            (None, 4)                 516       \n",
      "                                                                 \n",
      "=================================================================\n",
      "Total params: 100,996\n",
      "Trainable params: 100,996\n",
      "Non-trainable params: 0\n",
      "_________________________________________________________________\n"
     ]
    }
   ],
   "source": [
    "model = Sequential()\n",
    "model.add(Dense(128, activation=\"softmax\", input_shape=(X_train.shape[1],)))\n",
    "model.add(Dense(4, activation=\"relu\"))\n",
    "model.compile(optimizer=\"adam\", loss=\"sparse_categorical_crossentropy\", metrics=[\"accuracy\"])\n",
    "model.summary()"
   ]
  },
  {
   "cell_type": "markdown",
   "id": "2c34a6bb",
   "metadata": {},
   "source": [
    "Training and evaluating the model"
   ]
  },
  {
   "cell_type": "code",
   "execution_count": 65,
   "id": "e704f8dc",
   "metadata": {},
   "outputs": [
    {
     "name": "stdout",
     "output_type": "stream",
     "text": [
      "Epoch 1/10\n",
      "100/100 [==============================] - 1s 4ms/step - loss: 0.9088 - accuracy: 0.6947\n",
      "Epoch 2/10\n",
      "100/100 [==============================] - 0s 4ms/step - loss: 0.9494 - accuracy: 0.5669\n",
      "Epoch 3/10\n",
      "100/100 [==============================] - 0s 4ms/step - loss: 1.1013 - accuracy: 0.4519\n",
      "Epoch 4/10\n",
      "100/100 [==============================] - 0s 4ms/step - loss: 1.0348 - accuracy: 0.5028\n",
      "Epoch 5/10\n",
      "100/100 [==============================] - 0s 4ms/step - loss: 1.0629 - accuracy: 0.5300\n",
      "Epoch 6/10\n",
      "100/100 [==============================] - 1s 5ms/step - loss: 1.0106 - accuracy: 0.5109\n",
      "Epoch 7/10\n",
      "100/100 [==============================] - 0s 5ms/step - loss: 1.0744 - accuracy: 0.4712\n",
      "Epoch 8/10\n",
      "100/100 [==============================] - 0s 4ms/step - loss: 1.0278 - accuracy: 0.5069\n",
      "Epoch 9/10\n",
      "100/100 [==============================] - 0s 5ms/step - loss: 2.4083 - accuracy: 0.5269\n",
      "Epoch 10/10\n",
      "100/100 [==============================] - 0s 4ms/step - loss: 1.0952 - accuracy: 0.4863\n",
      "25/25 [==============================] - 0s 3ms/step - loss: 1.0901 - accuracy: 0.4900\n",
      "Loss :  1.0901188850402832\n",
      "Accuracy :  0.49000000953674316\n"
     ]
    }
   ],
   "source": [
    "history = model.fit(X_train, Y_train, epochs=10, batch_size=32)\n",
    "score = model.evaluate(X_test, Y_test)\n",
    "print(\"Loss : \", score[0])\n",
    "print(\"Accuracy : \", score[1])\n",
    "models_metrics[\"2-3\"] = [history, score, model]\n",
    "X_train = X_train_save\n",
    "X_test = X_test_save"
   ]
  },
  {
   "cell_type": "markdown",
   "id": "187ba92c",
   "metadata": {},
   "source": [
    "## Comparison of classifiers"
   ]
  },
  {
   "cell_type": "markdown",
   "id": "3259d46d",
   "metadata": {},
   "source": [
    "### Importing libraries"
   ]
  },
  {
   "cell_type": "code",
   "execution_count": 66,
   "id": "5fae1aaa",
   "metadata": {},
   "outputs": [],
   "source": [
    "import matplotlib.pyplot as plt"
   ]
  },
  {
   "cell_type": "markdown",
   "id": "74c4e0b4",
   "metadata": {},
   "source": [
    "### Plotting the metrics"
   ]
  },
  {
   "cell_type": "markdown",
   "id": "f8076f26",
   "metadata": {},
   "source": [
    "#### Plot of the accuracy"
   ]
  },
  {
   "cell_type": "code",
   "execution_count": 67,
   "id": "0b2fc0c9",
   "metadata": {},
   "outputs": [
    {
     "data": {
      "image/png": "[encoded data removed]",
      "text/plain": [
       "<Figure size 640x480 with 1 Axes>"
      ]
     },
     "metadata": {},
     "output_type": "display_data"
    }
   ],
   "source": [
    "# Plot accuracy of the classifiers\n",
    "for key, value in models_metrics.items():\n",
    "\thistory = value[0]\n",
    "\tplt.plot(history.history['accuracy'])\n",
    "plt.title('model accuracy')\n",
    "plt.ylabel('accuracy')\n",
    "plt.xlabel('epoch')\n",
    "plt.legend(models_metrics.keys(), loc='upper left')\n",
    "plt.show()"
   ]
  },
  {
   "cell_type": "markdown",
   "id": "9a19a513",
   "metadata": {},
   "source": [
    "#### Plot of the loss"
   ]
  },
  {
   "cell_type": "code",
   "execution_count": 68,
   "id": "fc7b7365",
   "metadata": {},
   "outputs": [
    {
     "data": {
      "image/png": "[encoded data removed]",
      "text/plain": [
       "<Figure size 640x480 with 1 Axes>"
      ]
     },
     "metadata": {},
     "output_type": "display_data"
    }
   ],
   "source": [
    "# Plot loss of the classifiers\n",
    "for key, value in models_metrics.items():\n",
    "\thistory = value[0]\n",
    "\tplt.plot(history.history['loss'])\n",
    "plt.title('model loss')\n",
    "plt.ylabel('loss')\n",
    "plt.xlabel('epoch')\n",
    "plt.legend(models_metrics.keys(), loc='upper left')\n",
    "plt.show()"
   ]
  },
  {
   "cell_type": "markdown",
   "id": "1ad621f5",
   "metadata": {},
   "source": [
    "## Deploying the best model"
   ]
  },
  {
   "cell_type": "markdown",
   "id": "541db7b5",
   "metadata": {},
   "source": [
    "### Finding the best model according to the accuracy"
   ]
  },
  {
   "cell_type": "code",
   "execution_count": 69,
   "id": "aa5519b4",
   "metadata": {},
   "outputs": [
    {
     "name": "stdout",
     "output_type": "stream",
     "text": [
      "Best model accuracy: 0.49000000953674316\n"
     ]
    }
   ],
   "source": [
    "best_model = None        \n",
    "best_accuracy = 0        \n",
    "for key, value in models_metrics.items():            \n",
    "\taccuracy = value[1][1]            \n",
    "\tif accuracy > best_accuracy:                \n",
    "\t\tbest_accuracy = accuracy                \n",
    "\t\tbest_model = value[2]        \n",
    "print(f\"Best model accuracy: {best_accuracy}\")"
   ]
  },
  {
   "cell_type": "markdown",
   "id": "3ae4a9f0",
   "metadata": {},
   "source": [
    "### Saving the best model"
   ]
  },
  {
   "cell_type": "code",
   "execution_count": 70,
   "id": "c19f0e1e",
   "metadata": {},
   "outputs": [
    {
     "name": "stdout",
     "output_type": "stream",
     "text": [
      "The best model has been saved in the directory ../prediction-app/model/model.h5\n"
     ]
    }
   ],
   "source": [
    "best_model.save(\"../prediction-app/model/model.h5\")        \n",
    "print(\"The best model has been saved in the directory ../prediction-app/model/model.h5\")"
   ]
  },
  {
   "cell_type": "markdown",
   "id": "23fff8f2",
   "metadata": {},
   "source": [
    "### Setting the name of the application"
   ]
  },
  {
   "cell_type": "code",
   "execution_count": 71,
   "id": "62854d92",
   "metadata": {},
   "outputs": [],
   "source": [
    "with open(\"../prediction-app/.env\", \"w\") as file:        \n",
    "\tfile.write(\"APP_NAME=\\\"My Prediction App Scenario3\\\"\")"
   ]
  },
  {
   "cell_type": "markdown",
   "id": "106f2655",
   "metadata": {},
   "source": [
    "### Instructions for running the application"
   ]
  },
  {
   "cell_type": "markdown",
   "id": "cff3a196",
   "metadata": {},
   "source": [
    "1. Open the terminal and go to the directory ../prediction-app"
   ]
  },
  {
   "cell_type": "markdown",
   "id": "30eaf260",
   "metadata": {},
   "source": [
    "2. Run the command: steamlit run app.py"
   ]
  },
  {
   "cell_type": "markdown",
   "id": "ffa35043",
   "metadata": {},
   "source": [
    "3. Open the browser and go to the address: http://localhost:8501"
   ]
  }
 ],
 "metadata": {
  "kernelspec": {
   "display_name": "Python 3",
   "language": "python",
   "name": "python3"
  },
  "language_info": {
   "name": "python",
   "version": "3.10.7 (tags/v3.10.7:6cc6b13, Sep  5 2022, 14:08:36) [MSC v.1933 64 bit (AMD64)]"
  },
  "vscode": {
   "interpreter": {
    "hash": "beedbe2faf2f7048d727558d0bc3221e7eba2a0b921cac4d4771b2feb8f74b30"
   }
  }
 },
 "nbformat": 4,
 "nbformat_minor": 5
}
