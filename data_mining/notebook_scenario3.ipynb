{
 "cells": [
  {
   "cell_type": "markdown",
   "id": "1c9cfe76",
   "metadata": {},
   "source": [
    "# Automatic Jupyter Notebook : Scenario3\n",
    "This is an auto-generated notebook generated using the classifAI DSL on : 22/01/2023 17:43:21"
   ]
  },
  {
   "cell_type": "markdown",
   "id": "67c9283b",
   "metadata": {},
   "source": [
    "## Selection of data"
   ]
  },
  {
   "cell_type": "code",
   "execution_count": null,
   "id": "b20b413c",
   "metadata": {},
   "outputs": [],
   "source": [
    "import os\n",
    "import numpy as np\n",
    "from PIL import Image"
   ]
  },
  {
   "cell_type": "code",
   "execution_count": null,
   "id": "25ac8e5c",
   "metadata": {},
   "outputs": [],
   "source": [
    "X = []\n",
    "Y = []\n",
    "classes = ['0', '1', '2', '3', '4', '5', '6', '7', '8', '9']\n",
    "classes_count = {'0': 5923, '1': 6742, '2': 5958, '3': 6131, '4': 5842, '5': 5421, '6': 5918, '7': 6265, '8': 5851, '9': 5949}\n",
    "for class_ in classes:\n",
    "\tcount = 0\n",
    "\tfor file in os.listdir(f'input_data/' + class_):\n",
    "\t\tif count == classes_count[class_]:\n",
    "\t\t\tbreak\n",
    "\t\tX.append(np.array(Image.open(f'input_data/' + class_ + '/' + file)))\n",
    "\t\tY.append(class_)\n",
    "\t\tcount += 1\n",
    "X=np.array(X)\n",
    "Y=np.array(Y)\n",
    "print(\"X shape :\",X.shape)\n",
    "print(\"Y shape :\",Y.shape)"
   ]
  },
  {
   "cell_type": "code",
   "execution_count": null,
   "id": "fa08d42a",
   "metadata": {},
   "outputs": [],
   "source": [
    "from sklearn.model_selection import train_test_split\n",
    "X_train, X_test, Y_train, Y_test = train_test_split(X, Y, test_size=0.2)"
   ]
  },
  {
   "cell_type": "markdown",
   "id": "9330d262",
   "metadata": {},
   "source": [
    "## Preprocessing of data"
   ]
  },
  {
   "cell_type": "code",
   "execution_count": null,
   "id": "01287e65",
   "metadata": {},
   "outputs": [],
   "source": [
    "from sklearn.preprocessing import LabelEncoder\n",
    "le = LabelEncoder()\n",
    "Y_train = le.fit_transform(Y_train)\n",
    "Y_test = le.fit_transform(Y_test)"
   ]
  },
  {
   "cell_type": "markdown",
   "id": "8cbb7956",
   "metadata": {},
   "source": [
    "## Transformation of data"
   ]
  },
  {
   "cell_type": "markdown",
   "id": "bbd433a6",
   "metadata": {},
   "source": [
    "### Normalization of data"
   ]
  },
  {
   "cell_type": "code",
   "execution_count": null,
   "id": "6d16d6cb",
   "metadata": {},
   "outputs": [],
   "source": [
    "# Making sure that the values are float so that we can get decimal points after division\n",
    "X_train = X_train.astype('float32')\n",
    "X_test = X_test.astype('float32')\n",
    "# Normalizing the RGB codes by dividing it to the max RGB value.\n",
    "X_train = X_train / 255\n",
    "X_test = X_test / 255\n",
    "print(\"X train shape :\",X_train.shape)\n",
    "print(\"X test shape :\",X_test.shape)"
   ]
  },
  {
   "cell_type": "markdown",
   "id": "f92cb0a5",
   "metadata": {},
   "source": [
    "### Reshaping of data"
   ]
  },
  {
   "cell_type": "code",
   "execution_count": null,
   "id": "5b1d2eb8",
   "metadata": {},
   "outputs": [],
   "source": [
    "X_train = X_train.reshape(X_train.shape[0], 28, 28, 1)\n",
    "X_test = X_test.reshape(X_test.shape[0], 28, 28, 1)\n",
    "print(\"X train shape :\",X_train.shape)\n",
    "print(\"X train shape :\",X_test.shape)"
   ]
  },
  {
   "cell_type": "markdown",
   "id": "d21515fe",
   "metadata": {},
   "source": [
    "## Data Mining"
   ]
  },
  {
   "cell_type": "code",
   "execution_count": null,
   "id": "8c8cdb00",
   "metadata": {},
   "outputs": [],
   "source": [
    "from tensorflow.keras.models import Sequential\n",
    "from tensorflow.keras.layers import Dense\n",
    "from tensorflow.keras.layers import Conv2D\n",
    "from tensorflow.keras.layers import MaxPooling2D\n",
    "from tensorflow.keras.layers import Flatten"
   ]
  },
  {
   "cell_type": "markdown",
   "id": "d476812f",
   "metadata": {},
   "source": [
    "### Keeping track of the models and the metrics"
   ]
  },
  {
   "cell_type": "code",
   "execution_count": null,
   "id": "50492521",
   "metadata": {},
   "outputs": [],
   "source": [
    "models_metrics = dict()"
   ]
  },
  {
   "cell_type": "markdown",
   "id": "90bbf29d",
   "metadata": {},
   "source": [
    "### Classifier : rank 1 - number 1"
   ]
  },
  {
   "cell_type": "markdown",
   "id": "f87ccbe1",
   "metadata": {},
   "source": [
    "Reshaping the data of this classifier"
   ]
  },
  {
   "cell_type": "code",
   "execution_count": null,
   "id": "88ec81c6",
   "metadata": {},
   "outputs": [],
   "source": [
    "X_train_save = X_train\n",
    "X_test_save = X_test\n",
    "X_train = X_train.reshape(X_train.shape[0], X_train.shape[1], X_train.shape[2], 1)\n",
    "X_test = X_test.reshape(X_test.shape[0], X_test.shape[1], X_test.shape[2], 1)\n",
    "print(\"X train shape :\",X_train.shape)\n",
    "print(\"X test shape :\",X_test.shape)"
   ]
  },
  {
   "cell_type": "markdown",
   "id": "8a580479",
   "metadata": {},
   "source": [
    "Creating the model"
   ]
  },
  {
   "cell_type": "code",
   "execution_count": null,
   "id": "fdc27aeb",
   "metadata": {},
   "outputs": [],
   "source": [
    "model = Sequential()\n",
    "model.add(Conv2D(32, kernel_size=(3, 3), activation=\"relu\", input_shape=X_train.shape[1:]))\n",
    "model.add(MaxPooling2D((2, 2)))\n",
    "model.add(Conv2D(48, kernel_size=(3, 3), activation=\"relu\"))\n",
    "model.add(MaxPooling2D((2, 2)))\n",
    "model.add(Flatten())\n",
    "model.add(Dense(128, activation=\"relu\"))\n",
    "model.add(Dense(10, activation=\"relu\"))\n",
    "model.compile(optimizer=\"adam\", loss=\"sparse_categorical_crossentropy\", metrics=[\"accuracy\"])\n",
    "model.summary()"
   ]
  },
  {
   "cell_type": "markdown",
   "id": "520f5be4",
   "metadata": {},
   "source": [
    "Training and evaluating the model"
   ]
  },
  {
   "cell_type": "code",
   "execution_count": null,
   "id": "371deb4e",
   "metadata": {},
   "outputs": [],
   "source": [
    "history = model.fit(X_train, Y_train, epochs=10, batch_size=32)\n",
    "score = model.evaluate(X_test, Y_test)\n",
    "print(\"Loss : \", score[0])\n",
    "print(\"Accuracy : \", score[1])\n",
    "models_metrics[\"1-1\"] = [history, score, model]\n",
    "X_train = X_train_save\n",
    "X_test = X_test_save"
   ]
  },
  {
   "cell_type": "markdown",
   "id": "9dc469d9",
   "metadata": {},
   "source": [
    "### Classifier : rank 1 - number 2"
   ]
  },
  {
   "cell_type": "markdown",
   "id": "1d82f0b6",
   "metadata": {},
   "source": [
    "Reshaping the data of this classifier"
   ]
  },
  {
   "cell_type": "code",
   "execution_count": null,
   "id": "fe0f0442",
   "metadata": {},
   "outputs": [],
   "source": [
    "X_train_save = X_train\n",
    "X_test_save = X_test\n",
    "X_train = X_train.reshape(X_train.shape[0], X_train.shape[1], X_train.shape[2], 1)\n",
    "X_test = X_test.reshape(X_test.shape[0], X_test.shape[1], X_test.shape[2], 1)\n",
    "print(\"X train shape :\",X_train.shape)\n",
    "print(\"X test shape :\",X_test.shape)"
   ]
  },
  {
   "cell_type": "markdown",
   "id": "8c1b6e4e",
   "metadata": {},
   "source": [
    "Creating the model"
   ]
  },
  {
   "cell_type": "code",
   "execution_count": null,
   "id": "d5edc7fe",
   "metadata": {},
   "outputs": [],
   "source": [
    "model = Sequential()\n",
    "model.add(Conv2D(32, kernel_size=(3, 3), activation=\"relu\", input_shape=X_train.shape[1:]))\n",
    "model.add(MaxPooling2D((2, 2)))\n",
    "model.add(Conv2D(48, kernel_size=(3, 3), activation=\"relu\"))\n",
    "model.add(MaxPooling2D((2, 2)))\n",
    "model.add(Flatten())\n",
    "model.add(Dense(128, activation=\"sigmoid\"))\n",
    "model.add(Dense(10, activation=\"relu\"))\n",
    "model.compile(optimizer=\"adam\", loss=\"sparse_categorical_crossentropy\", metrics=[\"accuracy\"])\n",
    "model.summary()"
   ]
  },
  {
   "cell_type": "markdown",
   "id": "99772766",
   "metadata": {},
   "source": [
    "Training and evaluating the model"
   ]
  },
  {
   "cell_type": "code",
   "execution_count": null,
   "id": "749b8c2b",
   "metadata": {},
   "outputs": [],
   "source": [
    "history = model.fit(X_train, Y_train, epochs=10, batch_size=32)\n",
    "score = model.evaluate(X_test, Y_test)\n",
    "print(\"Loss : \", score[0])\n",
    "print(\"Accuracy : \", score[1])\n",
    "models_metrics[\"1-2\"] = [history, score, model]\n",
    "X_train = X_train_save\n",
    "X_test = X_test_save"
   ]
  },
  {
   "cell_type": "markdown",
   "id": "fa63b9f3",
   "metadata": {},
   "source": [
    "### Classifier : rank 1 - number 3"
   ]
  },
  {
   "cell_type": "markdown",
   "id": "fdd1d97e",
   "metadata": {},
   "source": [
    "Reshaping the data of this classifier"
   ]
  },
  {
   "cell_type": "code",
   "execution_count": null,
   "id": "d78f2b22",
   "metadata": {},
   "outputs": [],
   "source": [
    "X_train_save = X_train\n",
    "X_test_save = X_test\n",
    "X_train = X_train.reshape(X_train.shape[0], X_train.shape[1], X_train.shape[2], 1)\n",
    "X_test = X_test.reshape(X_test.shape[0], X_test.shape[1], X_test.shape[2], 1)\n",
    "print(\"X train shape :\",X_train.shape)\n",
    "print(\"X test shape :\",X_test.shape)"
   ]
  },
  {
   "cell_type": "markdown",
   "id": "198da7b0",
   "metadata": {},
   "source": [
    "Creating the model"
   ]
  },
  {
   "cell_type": "code",
   "execution_count": null,
   "id": "b85efef8",
   "metadata": {},
   "outputs": [],
   "source": [
    "model = Sequential()\n",
    "model.add(Conv2D(32, kernel_size=(3, 3), activation=\"relu\", input_shape=X_train.shape[1:]))\n",
    "model.add(MaxPooling2D((2, 2)))\n",
    "model.add(Conv2D(48, kernel_size=(3, 3), activation=\"relu\"))\n",
    "model.add(MaxPooling2D((2, 2)))\n",
    "model.add(Flatten())\n",
    "model.add(Dense(128, activation=\"softmax\"))\n",
    "model.add(Dense(10, activation=\"relu\"))\n",
    "model.compile(optimizer=\"adam\", loss=\"sparse_categorical_crossentropy\", metrics=[\"accuracy\"])\n",
    "model.summary()"
   ]
  },
  {
   "cell_type": "markdown",
   "id": "93ed8cbe",
   "metadata": {},
   "source": [
    "Training and evaluating the model"
   ]
  },
  {
   "cell_type": "code",
   "execution_count": null,
   "id": "0bd41905",
   "metadata": {},
   "outputs": [],
   "source": [
    "history = model.fit(X_train, Y_train, epochs=10, batch_size=32)\n",
    "score = model.evaluate(X_test, Y_test)\n",
    "print(\"Loss : \", score[0])\n",
    "print(\"Accuracy : \", score[1])\n",
    "models_metrics[\"1-3\"] = [history, score, model]\n",
    "X_train = X_train_save\n",
    "X_test = X_test_save"
   ]
  },
  {
   "cell_type": "markdown",
   "id": "f40dd4b6",
   "metadata": {},
   "source": [
    "### Classifier : rank 2 - number 1"
   ]
  },
  {
   "cell_type": "markdown",
   "id": "87ddf32c",
   "metadata": {},
   "source": [
    "Flattening the data of this classifier"
   ]
  },
  {
   "cell_type": "code",
   "execution_count": null,
   "id": "2cd80cb7",
   "metadata": {},
   "outputs": [],
   "source": [
    "X_train_save = X_train\n",
    "X_test_save = X_test\n",
    "X_train = X_train.reshape(X_train.shape[0], -1)\n",
    "X_test = X_test.reshape(X_test.shape[0], -1)\n",
    "print(\"X train shape :\",X_train.shape)\n",
    "print(\"X test shape :\",X_test.shape)"
   ]
  },
  {
   "cell_type": "markdown",
   "id": "408bcf10",
   "metadata": {},
   "source": [
    "Creating the model"
   ]
  },
  {
   "cell_type": "code",
   "execution_count": null,
   "id": "f89989eb",
   "metadata": {},
   "outputs": [],
   "source": [
    "model = Sequential()\n",
    "model.add(Dense(128, activation=\"relu\", input_shape=(X_train.shape[1],)))\n",
    "model.add(Dense(10, activation=\"relu\"))\n",
    "model.compile(optimizer=\"adam\", loss=\"sparse_categorical_crossentropy\", metrics=[\"accuracy\"])\n",
    "model.summary()"
   ]
  },
  {
   "cell_type": "markdown",
   "id": "4b4789cc",
   "metadata": {},
   "source": [
    "Training and evaluating the model"
   ]
  },
  {
   "cell_type": "code",
   "execution_count": null,
   "id": "9ffbb579",
   "metadata": {},
   "outputs": [],
   "source": [
    "history = model.fit(X_train, Y_train, epochs=10, batch_size=32)\n",
    "score = model.evaluate(X_test, Y_test)\n",
    "print(\"Loss : \", score[0])\n",
    "print(\"Accuracy : \", score[1])\n",
    "models_metrics[\"2-1\"] = [history, score, model]\n",
    "X_train = X_train_save\n",
    "X_test = X_test_save"
   ]
  },
  {
   "cell_type": "markdown",
   "id": "d6004d86",
   "metadata": {},
   "source": [
    "### Classifier : rank 2 - number 2"
   ]
  },
  {
   "cell_type": "markdown",
   "id": "f03604f5",
   "metadata": {},
   "source": [
    "Flattening the data of this classifier"
   ]
  },
  {
   "cell_type": "code",
   "execution_count": null,
   "id": "a4e50182",
   "metadata": {},
   "outputs": [],
   "source": [
    "X_train_save = X_train\n",
    "X_test_save = X_test\n",
    "X_train = X_train.reshape(X_train.shape[0], -1)\n",
    "X_test = X_test.reshape(X_test.shape[0], -1)\n",
    "print(\"X train shape :\",X_train.shape)\n",
    "print(\"X test shape :\",X_test.shape)"
   ]
  },
  {
   "cell_type": "markdown",
   "id": "fa9741d4",
   "metadata": {},
   "source": [
    "Creating the model"
   ]
  },
  {
   "cell_type": "code",
   "execution_count": null,
   "id": "ab01e813",
   "metadata": {},
   "outputs": [],
   "source": [
    "model = Sequential()\n",
    "model.add(Dense(128, activation=\"sigmoid\", input_shape=(X_train.shape[1],)))\n",
    "model.add(Dense(10, activation=\"relu\"))\n",
    "model.compile(optimizer=\"adam\", loss=\"sparse_categorical_crossentropy\", metrics=[\"accuracy\"])\n",
    "model.summary()"
   ]
  },
  {
   "cell_type": "markdown",
   "id": "39a5af1f",
   "metadata": {},
   "source": [
    "Training and evaluating the model"
   ]
  },
  {
   "cell_type": "code",
   "execution_count": null,
   "id": "cc39d432",
   "metadata": {},
   "outputs": [],
   "source": [
    "history = model.fit(X_train, Y_train, epochs=10, batch_size=32)\n",
    "score = model.evaluate(X_test, Y_test)\n",
    "print(\"Loss : \", score[0])\n",
    "print(\"Accuracy : \", score[1])\n",
    "models_metrics[\"2-2\"] = [history, score, model]\n",
    "X_train = X_train_save\n",
    "X_test = X_test_save"
   ]
  },
  {
   "cell_type": "markdown",
   "id": "abf5cfcf",
   "metadata": {},
   "source": [
    "### Classifier : rank 2 - number 3"
   ]
  },
  {
   "cell_type": "markdown",
   "id": "d55cb384",
   "metadata": {},
   "source": [
    "Flattening the data of this classifier"
   ]
  },
  {
   "cell_type": "code",
   "execution_count": null,
   "id": "930aaa8c",
   "metadata": {},
   "outputs": [],
   "source": [
    "X_train_save = X_train\n",
    "X_test_save = X_test\n",
    "X_train = X_train.reshape(X_train.shape[0], -1)\n",
    "X_test = X_test.reshape(X_test.shape[0], -1)\n",
    "print(\"X train shape :\",X_train.shape)\n",
    "print(\"X test shape :\",X_test.shape)"
   ]
  },
  {
   "cell_type": "markdown",
   "id": "3686a0e4",
   "metadata": {},
   "source": [
    "Creating the model"
   ]
  },
  {
   "cell_type": "code",
   "execution_count": null,
   "id": "ac20e92f",
   "metadata": {},
   "outputs": [],
   "source": [
    "model = Sequential()\n",
    "model.add(Dense(128, activation=\"softmax\", input_shape=(X_train.shape[1],)))\n",
    "model.add(Dense(10, activation=\"relu\"))\n",
    "model.compile(optimizer=\"adam\", loss=\"sparse_categorical_crossentropy\", metrics=[\"accuracy\"])\n",
    "model.summary()"
   ]
  },
  {
   "cell_type": "markdown",
   "id": "ace9c5c3",
   "metadata": {},
   "source": [
    "Training and evaluating the model"
   ]
  },
  {
   "cell_type": "code",
   "execution_count": null,
   "id": "94a829e8",
   "metadata": {},
   "outputs": [],
   "source": [
    "history = model.fit(X_train, Y_train, epochs=10, batch_size=32)\n",
    "score = model.evaluate(X_test, Y_test)\n",
    "print(\"Loss : \", score[0])\n",
    "print(\"Accuracy : \", score[1])\n",
    "models_metrics[\"2-3\"] = [history, score, model]\n",
    "X_train = X_train_save\n",
    "X_test = X_test_save"
   ]
  },
  {
   "cell_type": "markdown",
   "id": "284986ce",
   "metadata": {},
   "source": [
    "## Comparison of classifiers"
   ]
  },
  {
   "cell_type": "markdown",
   "id": "bce1f8ec",
   "metadata": {},
   "source": [
    "### Importing libraries"
   ]
  },
  {
   "cell_type": "code",
   "execution_count": null,
   "id": "de08a33f",
   "metadata": {},
   "outputs": [],
   "source": [
    "import matplotlib.pyplot as plt"
   ]
  },
  {
   "cell_type": "markdown",
   "id": "713870bc",
   "metadata": {},
   "source": [
    "### Plotting the metrics"
   ]
  },
  {
   "cell_type": "markdown",
   "id": "39cf3038",
   "metadata": {},
   "source": [
    "#### Plot of the accuracy"
   ]
  },
  {
   "cell_type": "code",
   "execution_count": null,
   "id": "b68aac24",
   "metadata": {},
   "outputs": [],
   "source": [
    "# Plot accuracy of the classifiers\n",
    "for key, value in models_metrics.items():\n",
    "\thistory = value[0]\n",
    "\tplt.plot(history.history['accuracy'])\n",
    "plt.title('model accuracy')\n",
    "plt.ylabel('accuracy')\n",
    "plt.xlabel('epoch')\n",
    "plt.legend(models_metrics.keys(), loc='upper left')\n",
    "plt.show()"
   ]
  },
  {
   "cell_type": "markdown",
   "id": "25067f2d",
   "metadata": {},
   "source": [
    "#### Plot of the loss"
   ]
  },
  {
   "cell_type": "code",
   "execution_count": null,
   "id": "e4482b31",
   "metadata": {},
   "outputs": [],
   "source": [
    "# Plot loss of the classifiers\n",
    "for key, value in models_metrics.items():\n",
    "\thistory = value[0]\n",
    "\tplt.plot(history.history['loss'])\n",
    "plt.title('model loss')\n",
    "plt.ylabel('loss')\n",
    "plt.xlabel('epoch')\n",
    "plt.legend(models_metrics.keys(), loc='upper left')\n",
    "plt.show()"
   ]
  },
  {
   "cell_type": "markdown",
   "id": "38dfa454",
   "metadata": {},
   "source": [
    "## Deploying the best model"
   ]
  },
  {
   "cell_type": "markdown",
   "id": "3f1c5e44",
   "metadata": {},
   "source": [
    "### Finding the best model according to the accuracy"
   ]
  },
  {
   "cell_type": "code",
   "execution_count": null,
   "id": "dc1a5c6d",
   "metadata": {},
   "outputs": [],
   "source": [
    "best_model = None        \n",
    "best_accuracy = 0        \n",
    "for key, value in models_metrics.items():            \n",
    "\taccuracy = value[1][1]            \n",
    "\tif accuracy > best_accuracy:                \n",
    "\t\tbest_accuracy = accuracy                \n",
    "\t\tbest_model = value[2]        \n",
    "print(f\"Best model accuracy: {best_accuracy}\")"
   ]
  },
  {
   "cell_type": "markdown",
   "id": "cd2edda3",
   "metadata": {},
   "source": [
    "### Saving the best model"
   ]
  },
  {
   "cell_type": "code",
   "execution_count": null,
   "id": "f6d25c61",
   "metadata": {},
   "outputs": [],
   "source": [
    "best_model.save(\"../prediction-app/model/model.h5\")        \n",
    "print(\"The best model has been saved in the directory ../prediction-app/model/model.h5\")"
   ]
  },
  {
   "cell_type": "markdown",
   "id": "08c4e12f",
   "metadata": {},
   "source": [
    "### Setting the name of the application"
   ]
  },
  {
   "cell_type": "code",
   "execution_count": null,
   "id": "f86c6cb4",
   "metadata": {},
   "outputs": [],
   "source": [
    "with open(\"../prediction-app/.env\", \"w\") as file:        \n",
    "\tfile.write(\"APP_NAME=\\\"My Prediction App Scenario3\\\"\")"
   ]
  },
  {
   "cell_type": "markdown",
   "id": "08e57ea9",
   "metadata": {},
   "source": [
    "### Instructions for running the application"
   ]
  },
  {
   "cell_type": "markdown",
   "id": "828049f3",
   "metadata": {},
   "source": [
    "1. Open the terminal and go to the directory ../prediction-app"
   ]
  },
  {
   "cell_type": "markdown",
   "id": "1ec6f914",
   "metadata": {},
   "source": [
    "2. Run the command: steamlit run app.py"
   ]
  },
  {
   "cell_type": "markdown",
   "id": "07c44405",
   "metadata": {},
   "source": [
    "3. Open the browser and go to the address: http://localhost:8501"
   ]
  }
 ],
 "metadata": {},
 "nbformat": 4,
 "nbformat_minor": 5
}
