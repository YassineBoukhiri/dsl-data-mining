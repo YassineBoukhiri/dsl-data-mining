{
 "cells": [
  {
   "cell_type": "markdown",
   "id": "976873d3",
   "metadata": {},
   "source": [
    "        # My first automatic Jupyter Notebook : MyApp\n",
    "        This is an auto-generated notebook."
   ]
  },
  {
   "cell_type": "markdown",
   "id": "25fe4ebd",
   "metadata": {},
   "source": [
    "## Selection of data\n",
    "classes selected: \n",
    "[class : 0 number of elements : 100, class : 1 number of elements : 200]"
   ]
  },
  {
   "cell_type": "code",
   "execution_count": 8,
   "id": "6814cfd6",
   "metadata": {},
   "outputs": [],
   "source": [
    "import os\n",
    "import numpy as np\n",
    "from PIL import Image"
   ]
  },
  {
   "cell_type": "code",
   "execution_count": 9,
   "id": "9267974d",
   "metadata": {},
   "outputs": [
    {
     "name": "stdout",
     "output_type": "stream",
     "text": [
      "(300, 28, 28)\n",
      "(300,)\n"
     ]
    }
   ],
   "source": [
    "X = []\n",
    "Y = []\n",
    "classes = ['0', '1']\n",
    "classes_count = {'0': 100, '1': 200}\n",
    "for class_ in classes:\n",
    "\tcount = 0\n",
    "\tfor file in os.listdir(f'../input_data/' + class_):\n",
    "\t\tif count == classes_count[class_]:\n",
    "\t\t\tbreak\n",
    "\t\tX.append(np.array(Image.open(f'../input_data/' + class_ + '/' + file)))\n",
    "\t\tY.append(class_)\n",
    "\t\tcount += 1\n",
    "X = np.array(X)\n",
    "Y = np.array(Y)\n",
    "print(X.shape)\n",
    "print(Y.shape)"
   ]
  },
  {
   "cell_type": "code",
   "execution_count": 10,
   "id": "1fab2c2c",
   "metadata": {},
   "outputs": [],
   "source": [
    "from sklearn.model_selection import train_test_split\n",
    "X_train, X_test, Y_train, Y_test = train_test_split(X, Y, test_size=0.2)"
   ]
  },
  {
   "cell_type": "markdown",
   "id": "ad5b54aa",
   "metadata": {},
   "source": [
    "## Transformation of data"
   ]
  },
  {
   "cell_type": "markdown",
   "id": "c7d0d730",
   "metadata": {},
   "source": [
    "### Flattening of data"
   ]
  },
  {
   "cell_type": "code",
   "execution_count": 11,
   "id": "b065061e",
   "metadata": {},
   "outputs": [
    {
     "name": "stdout",
     "output_type": "stream",
     "text": [
      "(240, 784)\n",
      "(60, 784)\n"
     ]
    }
   ],
   "source": [
    "X_train = X_train.reshape(X_train.shape[0], -1)\n",
    "X_test = X_test.reshape(X_test.shape[0], -1)\n",
    "print(X_train.shape)\n",
    "print(X_test.shape)"
   ]
  },
  {
   "cell_type": "markdown",
   "id": "127c0714",
   "metadata": {},
   "source": [
    "### Normalization of data"
   ]
  },
  {
   "cell_type": "code",
   "execution_count": 12,
   "id": "9be3fe74",
   "metadata": {},
   "outputs": [
    {
     "name": "stdout",
     "output_type": "stream",
     "text": [
      "(240, 784)\n",
      "(60, 784)\n"
     ]
    }
   ],
   "source": [
    "# Making sure that the values are float so that we can get decimal points after division\n",
    "X_train = X_train.astype('float32')\n",
    "X_test = X_test.astype('float32')\n",
    "# Normalizing the RGB codes by dividing it to the max RGB value.\n",
    "X_train = X_train / 255\n",
    "X_test = X_test / 255\n",
    "print(X_train.shape)\n",
    "print(X_test.shape)"
   ]
  },
  {
   "cell_type": "markdown",
   "id": "020812c7",
   "metadata": {},
   "source": [
    "## Data Mining"
   ]
  },
  {
   "cell_type": "code",
   "execution_count": 13,
   "id": "d967d01c",
   "metadata": {},
   "outputs": [
    {
     "name": "stdout",
     "output_type": "stream",
     "text": [
      "Epoch 1/10\n",
      "8/8 [==============================] - 1s 9ms/step - loss: 0.7873 - accuracy: 0.8458\n",
      "Epoch 2/10\n",
      "8/8 [==============================] - 0s 10ms/step - loss: 0.0305 - accuracy: 0.9958\n",
      "Epoch 3/10\n",
      "8/8 [==============================] - 0s 10ms/step - loss: 0.0120 - accuracy: 0.9958\n",
      "Epoch 4/10\n",
      "8/8 [==============================] - 0s 11ms/step - loss: 0.0016 - accuracy: 1.0000\n",
      "Epoch 5/10\n",
      "8/8 [==============================] - 0s 8ms/step - loss: 9.5239e-04 - accuracy: 1.0000\n",
      "Epoch 6/10\n",
      "8/8 [==============================] - 0s 10ms/step - loss: 7.2904e-04 - accuracy: 1.0000\n",
      "Epoch 7/10\n",
      "8/8 [==============================] - 0s 10ms/step - loss: 5.7608e-04 - accuracy: 1.0000\n",
      "Epoch 8/10\n",
      "8/8 [==============================] - 0s 12ms/step - loss: 4.6384e-04 - accuracy: 1.0000\n",
      "Epoch 9/10\n",
      "8/8 [==============================] - 0s 10ms/step - loss: 4.2380e-04 - accuracy: 1.0000\n",
      "Epoch 10/10\n",
      "8/8 [==============================] - 0s 9ms/step - loss: 3.7408e-04 - accuracy: 1.0000\n",
      "Test loss: 0.0012867037439718843\n",
      "Test accuracy: 1.0\n"
     ]
    }
   ],
   "source": [
    "from tensorflow.keras.models import Sequential\n",
    "from tensorflow.keras.layers import Dense, Conv2D, Dropout, Flatten, MaxPooling2D\n",
    "\n",
    "model = Sequential()\n",
    "model.add(Dense(512, activation=\"relu\", input_dim=X_train.shape[1]))\n",
    "model.add(Dense(10, activation=\"softmax\"))\n",
    "model.compile(optimizer='adam',\n",
    "                loss='sparse_categorical_crossentropy',\n",
    "                metrics=['accuracy'])\n",
    "#model.summary()\n",
    "# Train the model\n",
    "from sklearn.preprocessing import LabelEncoder\n",
    "le = LabelEncoder()\n",
    "Y_train = le.fit_transform(Y_train)\n",
    "Y_test = le.fit_transform(Y_test)\n",
    "model.fit(X_train, Y_train, epochs=10)\n",
    "# Evaluate the model\n",
    "score = model.evaluate(X_test, Y_test, verbose=0)\n",
    "print('Test loss:', score[0])\n",
    "print('Test accuracy:', score[1])"
   ]
  }
 ],
 "metadata": {
  "kernelspec": {
   "display_name": "Python 3",
   "language": "python",
   "name": "python3"
  },
  "language_info": {
   "codemirror_mode": {
    "name": "ipython",
    "version": 3
   },
   "file_extension": ".py",
   "mimetype": "text/x-python",
   "name": "python",
   "nbconvert_exporter": "python",
   "pygments_lexer": "ipython3",
   "version": "3.10.7 (tags/v3.10.7:6cc6b13, Sep  5 2022, 14:08:36) [MSC v.1933 64 bit (AMD64)]"
  },
  "vscode": {
   "interpreter": {
    "hash": "beedbe2faf2f7048d727558d0bc3221e7eba2a0b921cac4d4771b2feb8f74b30"
   }
  }
 },
 "nbformat": 4,
 "nbformat_minor": 5
}
